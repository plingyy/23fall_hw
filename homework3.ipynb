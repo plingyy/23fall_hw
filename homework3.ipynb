{
  "cells": [
    {
      "cell_type": "markdown",
      "metadata": {
        "id": "qs0yamHN-dY0"
      },
      "source": [
        "# **CIS 5300 Fall 2022 - Homework 3 - Sentiment Analysis with Deep Neural Networks**"
      ]
    },
    {
      "cell_type": "markdown",
      "metadata": {
        "id": "Lp00SIIw7xRi"
      },
      "source": [
        "In this assignmet you will use Pytorch, a popular deep learning library, to create sentiment classifiers using some of the models we have talked about in class. The goal of the assignment is to familiarize yourself with Pytorch, and a few of the issues specific to text processing using neural networks on GPUs. We will use Sentiment Analysis as an example classification problem, and consider a simple binary version of the problem. You will need to implement classifiers using Deep Averaging Networks and different Recurrent Neural Networks (i.e. LSTMs). Finally, you will need to make a thorough comparison of these approaches, and do a qualitative analysis of the errors.\n",
        "\n",
        "This assignment consists of two parts. Completing the coding section will help you to complete the report:\n",
        "\n",
        "1.   (75 points) A coding portion within this notebook, with test cases evaluated through PennGrader.\n",
        "2.   (75 points) A written report asking you to evaluate and analyze variants of the systems you design. Please answer all questions within the the following template: https://www.overleaf.com/read/sjtwwtnptzzx\n",
        "\n",
        "Please read the written report requirements before you start the coding portion.\n",
        "\n",
        "In the past, we introduced a version of this assignment for 5190. You will be asked to go much further here but if you are familiar with parts of this assignment from that class, you may reuse code.\n",
        "\n"
      ]
    },
    {
      "cell_type": "markdown",
      "metadata": {
        "id": "ekiXC4jh2MjA"
      },
      "source": [
        "## Setup 1. PennGrader Setup"
      ]
    },
    {
      "cell_type": "code",
      "execution_count": 1,
      "metadata": {
        "id": "LCTCgGCi2aDj"
      },
      "outputs": [
        {
          "name": "stdout",
          "output_type": "stream",
          "text": [
            "Requirement already satisfied: penngrader-client in /home/xjw/anaconda3/envs/TalkNet/lib/python3.7/site-packages (0.5.2)\n",
            "Requirement already satisfied: dill in /home/xjw/anaconda3/envs/TalkNet/lib/python3.7/site-packages (0.3.6)\n",
            "Requirement already satisfied: pyyaml in /home/xjw/anaconda3/envs/TalkNet/lib/python3.7/site-packages (from penngrader-client) (6.0)\n"
          ]
        }
      ],
      "source": [
        "## DO NOT CHANGE ANYTHING, JUST RUN\n",
        "# %%capture\n",
        "!pip install penngrader-client dill"
      ]
    },
    {
      "cell_type": "code",
      "execution_count": 2,
      "metadata": {
        "colab": {
          "base_uri": "https://localhost:8080/"
        },
        "id": "DBqXoCTK2dYG",
        "outputId": "b42467d3-58ec-4b43-ed63-5aaebaa3240b"
      },
      "outputs": [
        {
          "name": "stdout",
          "output_type": "stream",
          "text": [
            "Overwriting notebook-config.yaml\n"
          ]
        }
      ],
      "source": [
        "%%writefile notebook-config.yaml\n",
        "\n",
        "grader_api_url: 'https://23whrwph9h.execute-api.us-east-1.amazonaws.com/default/Grader23'\n",
        "grader_api_key: 'flfkE736fA6Z8GxMDJe2q8Kfk8UDqjsG3GVqOFOa'"
      ]
    },
    {
      "cell_type": "code",
      "execution_count": 3,
      "metadata": {
        "colab": {
          "base_uri": "https://localhost:8080/"
        },
        "id": "iwrElnxa2gBe",
        "outputId": "085a2a45-686f-4af0-bab9-81b0e999f312"
      },
      "outputs": [
        {
          "name": "stdout",
          "output_type": "stream",
          "text": [
            "\n",
            "grader_api_url: 'https://23whrwph9h.execute-api.us-east-1.amazonaws.com/default/Grader23'\n",
            "grader_api_key: 'flfkE736fA6Z8GxMDJe2q8Kfk8UDqjsG3GVqOFOa'\n"
          ]
        }
      ],
      "source": [
        "!cat notebook-config.yaml"
      ]
    },
    {
      "cell_type": "code",
      "execution_count": 4,
      "metadata": {
        "id": "RABF5GNZ2hsN"
      },
      "outputs": [
        {
          "name": "stdout",
          "output_type": "stream",
          "text": [
            "PennGrader initialized with Student ID: 56923113\n",
            "\n",
            "Make sure this correct or we will not be able to store your grade\n"
          ]
        }
      ],
      "source": [
        "from penngrader.grader import *\n",
        "\n",
        "## TODO - Start\n",
        "STUDENT_ID = 56923113 # YOUR PENN-ID GOES HERE AS AN INTEGER#\n",
        "## TODO - End\n",
        "\n",
        "SECRET = STUDENT_ID\n",
        "grader = PennGrader('notebook-config.yaml', 'cis5300_fall_2023_HW3', STUDENT_ID, SECRET)"
      ]
    },
    {
      "cell_type": "code",
      "execution_count": 5,
      "metadata": {
        "id": "eQKtk_l-2nBU"
      },
      "outputs": [],
      "source": [
        "def reload_grader():\n",
        "    grader = PennGrader('notebook-config.yaml', 'cis5300_fall_2023_HW1', STUDENT_ID, SECRET)\n",
        "    return grader"
      ]
    },
    {
      "cell_type": "code",
      "execution_count": 6,
      "metadata": {
        "id": "m11OcgPi2pXQ"
      },
      "outputs": [
        {
          "name": "stdout",
          "output_type": "stream",
          "text": [
            "Correct! You earned 1/1 points. You are a star!\n",
            "\n",
            "Your submission has been successfully recorded in the gradebook.\n"
          ]
        }
      ],
      "source": [
        "# check if the PennGrader is set up correctly\n",
        "# do not change this cell, see if you get 1/1!\n",
        "name_str = 'Yu Feng'\n",
        "grader.grade(test_case_id = 'name_test', answer = name_str)"
      ]
    },
    {
      "cell_type": "markdown",
      "metadata": {
        "id": "2CCFKR6Odl00"
      },
      "source": [
        "## Setup 2: Dataset/Packages"
      ]
    },
    {
      "cell_type": "markdown",
      "metadata": {
        "id": "-4WVrNKQC6nQ"
      },
      "source": [
        "Importing packages"
      ]
    },
    {
      "cell_type": "code",
      "execution_count": 7,
      "metadata": {
        "colab": {
          "base_uri": "https://localhost:8080/"
        },
        "id": "Rb-WLp5Z-cdy",
        "outputId": "f71579e7-50f7-4ec0-c6d7-b489a2ba0d6c"
      },
      "outputs": [],
      "source": [
        "#@title\n",
        "from __future__ import division\n",
        "import os, sys, re, json, time, datetime, shutil\n",
        "import itertools, collections\n",
        "from importlib import reload\n",
        "\n",
        "import random\n",
        "import numpy as np\n",
        "import pandas as pd\n",
        "import os\n",
        "import sys\n",
        "import matplotlib.pyplot as plt\n",
        "from numpy.linalg import *\n",
        "np.random.seed(42)  # don't change this line\n",
        "\n",
        "import base64\n",
        "\n",
        "# NLTK, NumPy, and Pandas.\n",
        "import nltk\n",
        "from nltk.tree import Tree\n",
        "from numpy import random as rd\n",
        "import random\n",
        "\n",
        "import collections\n",
        "import re\n",
        "import time\n",
        "import itertools\n",
        "from collections import defaultdict, Counter\n",
        "\n",
        "import glob\n",
        "from argparse import ArgumentParser\n",
        "\n",
        "#Pytorch\n",
        "import torch\n",
        "import torch.nn as nn\n",
        "import torch.nn.functional as F\n",
        "\n",
        "import torch.optim as optim\n",
        "from torch.utils.data import Dataset, DataLoader\n",
        "\n",
        "\n",
        "# !pip3 install wget"
      ]
    },
    {
      "cell_type": "markdown",
      "metadata": {
        "id": "1ma4E29Xe8Hs"
      },
      "source": [
        "Downloading Required files\n",
        "\n",
        "[train parquet file](https://www.cis.upenn.edu/~myatskar/teaching/cis519/a5/train.parquet)\n",
        "\n",
        "[dev parquet file](https://www.cis.upenn.edu/~myatskar/teaching/cis519/a5/dev.parquet)\n",
        "\n",
        "[test parquet file](https://www.cis.upenn.edu/~myatskar/teaching/cis519/a5/test.parquet)\n",
        "\n",
        "[tokens in training data](https://www.cis.upenn.edu/~myatskar/teaching/cis519/a5/train_tokens.txt)"
      ]
    },
    {
      "cell_type": "code",
      "execution_count": 8,
      "metadata": {
        "id": "LumyzFXKpDIa"
      },
      "outputs": [],
      "source": [
        "#@title\n",
        "# !wget  -c  https://www.cis.upenn.edu/~myatskar/teaching/cis519/a5/train_tokens.txt\n",
        "# !wget  -c  https://www.cis.upenn.edu/~myatskar/teaching/cis519/a5/train.parquet\n",
        "# !wget  -c  https://www.cis.upenn.edu/~myatskar/teaching/cis519/a5/dev.parquet\n",
        "# !wget  -c  https://www.cis.upenn.edu/~myatskar/teaching/cis519/a5/test.parquet"
      ]
    },
    {
      "cell_type": "markdown",
      "metadata": {
        "id": "AG1RbvIgdCuz"
      },
      "source": [
        "If the cells above fails to download all the files, rerun a couple of times or download them and add them manually."
      ]
    },
    {
      "cell_type": "code",
      "execution_count": 9,
      "metadata": {
        "id": "v0JC3vd0cvfG"
      },
      "outputs": [],
      "source": [
        "train_file = \"train.parquet\"\n",
        "dev_file = \"dev.parquet\"\n",
        "test_file = \"test.parquet\"\n",
        "vocab_file = \"train_tokens.txt\""
      ]
    },
    {
      "cell_type": "markdown",
      "metadata": {
        "id": "ZuEpzagkVzlZ"
      },
      "source": [
        "## 1. Introduction to Pytorch"
      ]
    },
    {
      "cell_type": "markdown",
      "metadata": {
        "id": "lkyB5UDOWhsO"
      },
      "source": [
        "PyTorch is an optimized tensor library for deep learning using GPUs and CPUs. This homework will be using PyTorch to build Neural Networks to solve an NLP classification problem.\n",
        "\n",
        "If you are new to using the framework it is worthwhile to spend an hour reviewing the concepts of tensors, autograd, training classifiers etc in [this tutorial](https://pytorch.org/tutorials/beginner/deep_learning_60min_blitz.html).\n",
        "\n",
        "Refer to [this tutorial](https://pytorch.org/tutorials/beginner/introyt/modelsyt_tutorial.html) to learn more about how to build models with Pytorch."
      ]
    },
    {
      "cell_type": "markdown",
      "metadata": {
        "id": "LcrJaJ73Rk9v"
      },
      "source": [
        "## 2. Stanford Sentiment Treebank(SST)"
      ]
    },
    {
      "cell_type": "markdown",
      "metadata": {
        "id": "Yp9rryptRoLR"
      },
      "source": [
        "We'll be using [Stanford Sentiment Treebank](https://nlp.stanford.edu/sentiment/index.html) (SST) dataset, a dataset introduced by [(Socher et al. 2013)](http://nlp.stanford.edu/~socherr/EMNLP2013_RNTN.pdf) consisting of 11,855 sentences drawn from a corpus of movie reviews (originally from Rotten Tomatoes), each labeled with sentiment on a five-point scale.\n",
        "\n",
        "An example of the five-point scale is:\n",
        "```\n",
        "sentence: [A warm , funny , engaging film .]\n",
        "label:    4 (very positive)\n",
        "```\n",
        "\n",
        "\n",
        "**Note:** Unlike most classification datasets, SST is also a _treebank_, which means each sentence is associated with a tree structure that decomposes it into subphrases. So for the example above, we'd also have sentiment labels for `[warm , funny]` and `[engaging film .]` and so on. The tree structure will comes in handy for complex NLP tasks and we will be using it briefly to analyze an example that has negation. The data is distributed as serialized trees in [S-expression](https://en.wikipedia.org/wiki/S-expression) form, like this:\n",
        "```\n",
        "(4 (4 (2 A) (4 (3 (3 warm) (2 ,)) (3 funny))) (3 (2 ,) (3 (4 (4 engaging) (2 film)) (2 .))))\n",
        "```\n",
        "Generally, we can exploit these richer annotations when training a classifier by also using phrases as training instances. This augmented training signal is important for getting good performance for models that have many parameters.\n",
        "\n",
        "We've downloaded the dataset and parse the S-expressions into a dataframe. Run the remaining cells in Section 2 to setup the dataset.\n",
        "\n",
        "\n",
        "***In this assignment, we simplified the task from multi-class classification to binary classification. The label in the dataset would be either 0 (negative sentiment) or 1 (positive sentiment)***\n",
        "\n"
      ]
    },
    {
      "cell_type": "markdown",
      "metadata": {
        "id": "olCRGZcIJuEf"
      },
      "source": [
        "### 2.1 Parsing Tree Structure"
      ]
    },
    {
      "cell_type": "code",
      "execution_count": 10,
      "metadata": {
        "id": "fDhs_mpQAQIt"
      },
      "outputs": [],
      "source": [
        "#@title\n",
        "class SSTDataset(object):\n",
        "    def __init__(self, train_file, dev_file, test_file, vocab_file, V=20000):\n",
        "        self.vocab = None\n",
        "        self.train = pd.read_parquet(train_file)\n",
        "        self.dev = pd.read_parquet(dev_file)\n",
        "        self.test = pd.read_parquet(test_file)\n",
        "        train_words =[]\n",
        "        with open(vocab_file) as f:\n",
        "            train_words = f.readlines()\n",
        "        train_words = [w.strip() for w in train_words]\n",
        "        # Build vocabulary over training set\n",
        "        self.vocab = Vocabulary(train_words, size=V)\n",
        "        print(\"Train set has {:,} words\".format(self.vocab.size))\n",
        "\n",
        "    def get_filtered_split(self, split='train',is_root = True):\n",
        "        df = getattr(self, split)\n",
        "        if is_root:\n",
        "            df = df[df.is_root]\n",
        "        return df\n",
        "\n",
        "    def as_padded_array(self, split='train', max_len=40, pad_id=0,is_root = True):\n",
        "        df = self.get_filtered_split(split,is_root)\n",
        "        x, ns = pad_np_array(df.ids, max_len=max_len, pad_id=pad_id)\n",
        "        y = np.empty((1,1))\n",
        "        if split != 'test':\n",
        "            y  = np.array(df.label, dtype=np.int32)\n",
        "        return x, ns, y\n",
        "\n",
        "    def as_sparse_bow(self, split='train',is_root = True):\n",
        "        from scipy import sparse\n",
        "        df = self.get_filtered_split(split,is_root)\n",
        "        x = id_lists_to_sparse_bow(df['ids'], self.vocab.size)\n",
        "        if split != 'test':\n",
        "            return x, np.array(df.label, dtype=np.int32)\n",
        "        return x\n",
        "\n",
        "    Example_fields = [\"tokens\", \"ids\", \"label\", \"is_root\", \"root_id\"]\n",
        "    Example = collections.namedtuple(\"Example\", Example_fields)\n",
        "\n",
        "    def canonicalize(self, raw_tokens):\n",
        "        wordset=(self.vocab.wordset if self.vocab else None)\n",
        "        return canonicalize_words(raw_tokens, wordset=wordset)\n",
        "\n",
        "# Constants for use by other modules.\n",
        "START_TOKEN = u\"<s>\"\n",
        "END_TOKEN   = u\"</s>\"\n",
        "UNK_TOKEN   = u\"<unk>\"\n",
        "\n",
        "def require_package(package_name):\n",
        "    import pkgutil\n",
        "    import subprocess\n",
        "    import sys\n",
        "    if not pkgutil.find_loader(package_name):\n",
        "        subprocess.check_call([sys.executable, '-m', 'pip', 'install', package_name])\n",
        "\n",
        "def canonicalize_digits(word):\n",
        "    if any([c.isalpha() for c in word]): return word\n",
        "    word = re.sub(\"\\d\", \"DG\", word)\n",
        "    if word.startswith(\"DG\"):\n",
        "        word = word.replace(\",\", \"\") # remove thousands separator\n",
        "    return word\n",
        "\n",
        "def canonicalize_word(word, wordset=None, digits=True):\n",
        "    word = word.lower()\n",
        "    if digits:\n",
        "        if (wordset != None) and (word in wordset): return word\n",
        "        word = canonicalize_digits(word) # try to canonicalize numbers\n",
        "    if (wordset == None) or (word in wordset):\n",
        "        return word\n",
        "    else:\n",
        "        return UNK_TOKEN\n",
        "\n",
        "def canonicalize_words(words, **kw):\n",
        "    return [canonicalize_word(word, **kw) for word in words]\n",
        "\n",
        "\n",
        "def pad_np_array(example_ids, max_len=250, pad_id=0):\n",
        "    arr = np.full([len(example_ids), max_len], pad_id, dtype=np.int32)\n",
        "    ns = np.zeros([len(example_ids)], dtype=np.int32)\n",
        "    for i, ids in enumerate(example_ids):\n",
        "        cpy_len = min(len(ids), max_len)\n",
        "        arr[i,:cpy_len] = ids[:cpy_len]\n",
        "        ns[i] = cpy_len\n",
        "    return arr, ns\n",
        "\n",
        "def id_lists_to_sparse_bow(id_lists, vocab_size):\n",
        "    from scipy import sparse\n",
        "    ii = []  # row indices (example ids)\n",
        "    jj = []  # column indices (token ids)\n",
        "    for row_id, ids in enumerate(id_lists):\n",
        "        ii.extend([row_id]*len(ids))\n",
        "        jj.extend(ids)\n",
        "    x = sparse.csr_matrix((np.ones_like(ii), (ii, jj)),\n",
        "                          shape=[len(id_lists), vocab_size])\n",
        "    return x\n",
        "\n",
        "class Vocabulary(object):\n",
        "\n",
        "    START_TOKEN = START_TOKEN\n",
        "    END_TOKEN   = END_TOKEN\n",
        "    UNK_TOKEN   = UNK_TOKEN\n",
        "\n",
        "    def __init__(self, tokens, size=None,\n",
        "                 progressbar=lambda l:l):\n",
        "        self.unigram_counts = Counter()\n",
        "        self.bigram_counts = defaultdict(lambda: Counter())\n",
        "        prev_word = None\n",
        "        for word in progressbar(tokens):  # Make a single pass through tokens\n",
        "            self.unigram_counts[word] += 1\n",
        "            self.bigram_counts[prev_word][word] += 1\n",
        "            prev_word = word\n",
        "        self.bigram_counts.default_factory = None  # make into a normal dict\n",
        "\n",
        "        # Leave space for \"<s>\", \"</s>\", and \"<unk>\"\n",
        "        top_counts = self.unigram_counts.most_common(None if size is None else (size - 3))\n",
        "        vocab = ([self.START_TOKEN, self.END_TOKEN, self.UNK_TOKEN] +\n",
        "                 [w for w,c in top_counts])\n",
        "\n",
        "        # Assign an id to each word, by frequency\n",
        "        self.id_to_word = dict(enumerate(vocab))\n",
        "        self.word_to_id = {v:k for k,v in self.id_to_word.items()}\n",
        "        self.size = len(self.id_to_word)\n",
        "        if size is not None:\n",
        "            assert(self.size <= size)\n",
        "\n",
        "        # For convenience\n",
        "        self.wordset = set(self.word_to_id.keys())\n",
        "\n",
        "        # Store special IDs\n",
        "        self.START_ID = self.word_to_id[self.START_TOKEN]\n",
        "        self.END_ID = self.word_to_id[self.END_TOKEN]\n",
        "        self.UNK_ID = self.word_to_id[self.UNK_TOKEN]\n",
        "\n",
        "    def words_to_ids(self, words):\n",
        "        return [self.word_to_id.get(w, self.UNK_ID) for w in words]\n",
        "\n",
        "    def ids_to_words(self, ids):\n",
        "        return [self.id_to_word[i] for i in ids]\n",
        "\n",
        "    def ordered_words(self):\n",
        "        \"\"\"Return a list of words, ordered by id.\"\"\"\n",
        "        return self.ids_to_words(range(self.size))\n"
      ]
    },
    {
      "cell_type": "markdown",
      "metadata": {
        "id": "Wcs9j-CDDcFC"
      },
      "source": [
        "### 2.2 Brief Look at SSTDataset Functionality\n",
        "\n"
      ]
    },
    {
      "cell_type": "code",
      "execution_count": 11,
      "metadata": {
        "colab": {
          "base_uri": "https://localhost:8080/"
        },
        "id": "CSRZ9eqxt6-b",
        "outputId": "be9c3f4e-a2e9-475c-8305-f047b2134263"
      },
      "outputs": [
        {
          "name": "stdout",
          "output_type": "stream",
          "text": [
            "Train set has 16,474 words\n"
          ]
        }
      ],
      "source": [
        "ds = SSTDataset(train_file, dev_file, test_file, vocab_file, V=20000)"
      ]
    },
    {
      "cell_type": "markdown",
      "metadata": {
        "id": "kY5JE1DQt6-d"
      },
      "source": [
        "A few members of the `SSTDataset()` class that we will be using are:\n",
        "- **`ds.vocab`**: a `vocabulary.Vocabulary` object managing the model vocabulary.\n",
        "- **`ds.{train,dev,test}`**: a Pandas DataFrame containing the _processed_ examples, including all subphrases. `label` is the target label, `is_root` denotes whether this example is a root node (full sentence), and `tokens` are the tokenized words from the original sentence."
      ]
    },
    {
      "cell_type": "markdown",
      "metadata": {
        "id": "16q8ruRjt6-k"
      },
      "source": [
        "Note if you set `root_only=True` the dataframe will return only examples corresponding to whole sentences. If you set `root_only=False` the dataframe will return examples for all phrases."
      ]
    },
    {
      "cell_type": "code",
      "execution_count": 12,
      "metadata": {
        "id": "9SXUCz-2YeP0"
      },
      "outputs": [],
      "source": [
        "is_root = False"
      ]
    },
    {
      "cell_type": "markdown",
      "metadata": {
        "id": "K2EMoXKcUQ1G"
      },
      "source": [
        "## 3. [Deep Averaging Networks](https://people.cs.umass.edu/~miyyer/pubs/2015_acl_dan.pdf)\n",
        "\n",
        "![dan](https://miro.medium.com/max/904/1*0LezMYWUk3pXptoMdO5M_Q.png)\n",
        "\n",
        "\n",
        "Vector space models represent words using high dimensional vectors called embeddings.\n",
        "Since sentences are made up of multiple words, each with their own embeddings, we must compose embeddings together to produce a classifier.\n",
        "\n",
        "Composition functions can be orginized based on the properties they capture.\n",
        "For example, some composition functions can completely ignoring sentence order.\n",
        "Composition functions can vary in complexity, trying to capture different aspects of language that may be important.\n",
        "In this assignment, we will explore two simple approaches for composing input embeddings to produce a classifier.\n",
        "\n",
        "Deep averaging networks (DAN) are an unordered model which can perform very well on sentence level classification tasks.\n",
        "While not the state-of-the-art anymore, it generally performs well, is very simple to implement and apply, and very computationally fast to execute.\n",
        "\n",
        "The archecture for a DAN is described in the figure above.\n",
        "DANs works in three simple steps:\n",
        "1. Take the vector average of the embeddings\n",
        "associated with an input sequence of tokens\n",
        "2. Pass that average through one or more feedforward layers\n",
        "3. Perform (linear) classification on the final\n",
        "layer’s representation\n"
      ]
    },
    {
      "cell_type": "markdown",
      "metadata": {
        "id": "6S7vplWWPya4"
      },
      "source": [
        "We will walk you through the process of setting up DAN.\n",
        "You will need to implement snippets along the way and we will provide PennGrader routines to help test correctness.  You will need to implement the following elements:\n",
        "\n",
        "\n",
        "*   Configuring word embeddings (Sections 3.1-3.3).\n",
        "\n",
        "*   Implementing the neural archecture in the figure above (Sections 3.4 - 3.6)\n",
        "\n",
        "*   Training and hyper-parameter tuning the model (Section 3.7)\n",
        "\n",
        "Validating hyper-parameters is a crucial part of making any deep network work, as the models can be very sensitive. You will need to validate hyperparameters of the archecture such as depth, choice of non-linearity or dropout, as well as learning hyper-parameters. In the report, you will need to include a table with this exploration.\n",
        "\n",
        "At the end of section 3, you we will evalaute the qualitity of your DAN on test data. It is possible to get as high as 85\\% on our test data. You will be graded on a linear scale between 83 and 85%. In our experiments, performance on the validation set and test set are comparable.\n",
        "\n",
        "If you are getting non-zero credit on the PennGrader cell at the end, you are on the right track but may need to validate more hyper-parameters. Select reasonable hyper-parameter experiments, focusing on the parameters that you believe will have most impact on the final performance. Do not experiment randomly or in too fine-grained a way, as you risk overfitting the validation set.\n",
        "\n"
      ]
    },
    {
      "cell_type": "markdown",
      "metadata": {
        "id": "Q5ulmPzRwr3T"
      },
      "source": [
        "### 3.1 [Glove Embeddings](https://nlp.stanford.edu/projects/glove/)\n",
        "We are downloading pretrained glove word vectors that has been trained on Common Crawl data, a snapshot of the whole web.\n",
        "These embeddings serve as excelent initilizations for embeddings our model needs.\n",
        "Downloading glove embeddings (This will take around 10 minutes)"
      ]
    },
    {
      "cell_type": "code",
      "execution_count": 13,
      "metadata": {
        "id": "nT27aeXBVw01"
      },
      "outputs": [],
      "source": [
        "#this takes about 10 minutes to run\n",
        "# !wget -nc https://huggingface.co/stanfordnlp/glove/resolve/main/glove.840B.300d.zip\n",
        "# !unzip glove.840B.300d.zip\n",
        "# !ls -lat"
      ]
    },
    {
      "cell_type": "code",
      "execution_count": 14,
      "metadata": {
        "id": "gukyScOlS6Ri"
      },
      "outputs": [],
      "source": [
        "glove_file = \"glove.840B.300d.txt\""
      ]
    },
    {
      "cell_type": "code",
      "execution_count": 15,
      "metadata": {},
      "outputs": [
        {
          "data": {
            "text/plain": [
              "<__main__.SSTDataset at 0x7f3eb26982d0>"
            ]
          },
          "execution_count": 15,
          "metadata": {},
          "output_type": "execute_result"
        }
      ],
      "source": [
        "ds"
      ]
    },
    {
      "cell_type": "code",
      "execution_count": 16,
      "metadata": {
        "id": "MpUv8X36MEru"
      },
      "outputs": [
        {
          "name": "stdout",
          "output_type": "stream",
          "text": [
            "Training set:   x = (98794, 40) sparse, ns=(98794,), y = (98794,)\n",
            "Validation set: x = (13142, 40) sparse, ns=(13142,), y = (13142,)\n",
            "Test set:       x = (26052, 40) sparse, ns=(26052,)\n"
          ]
        }
      ],
      "source": [
        "train_x, train_ns, train_y = ds.as_padded_array(\"train\",is_root = is_root)\n",
        "dev_x, dev_ns, dev_y = ds.as_padded_array(\"dev\",is_root = is_root)\n",
        "test_x, test_ns,_  = ds.as_padded_array(\"test\",is_root = is_root)\n",
        "\n",
        "print(\"Training set:   x = {:s} sparse, ns={:s}, y = {:s}\".format(str(train_x.shape), str(train_ns.shape),\n",
        "                                                str(train_y.shape)))\n",
        "print(\"Validation set: x = {:s} sparse, ns={:s}, y = {:s}\".format(str(dev_x.shape), str(dev_ns.shape),\n",
        "                                                str(dev_y.shape)))\n",
        "print(\"Test set:       x = {:s} sparse, ns={:s}\".format(str(test_x.shape), str(test_ns.shape)))"
      ]
    },
    {
      "cell_type": "code",
      "execution_count": 17,
      "metadata": {
        "id": "qu-xCT7dIfwD"
      },
      "outputs": [
        {
          "name": "stdout",
          "output_type": "stream",
          "text": [
            ", -0.082752 0.67204 -0.14987 -0.064983 0.056491 0.40228 0.0027747 -0.3311 -0.30691 2.0817 0.031819 0.013643 0.30265 0.0071297 -0.5819 -0.2774 -0.062254 1.1451 -0.24232 0.1235 -0.12243 0.33152 -0.006162 -0.30541 -0.13057 -0.054601 0.037083 -0.070552 0.5893 -0.30385 0.2898 -0.14653 -0.27052 0.37161 0.32031 -0.29125 0.0052483 -0.13212 -0.052736 0.087349 -0.26668 -0.16897 0.015162 -0.0083746 -0.14871 0.23413 -0.20719 -0.091386 0.40075 -0.17223 0.18145 0.37586 -0.28682 0.37289 -0.16185 0.18008 0.3032 -0.13216 0.18352 0.095759 0.094916 0.008289 0.11761 0.34046 0.03677 -0.29077 0.058303 -0.027814 0.082941 0.1862 -0.031494 0.27985 -0.074412 -0.13762 -0.21866 0.18138 0.040855 -0.113 0.24107 0.3657 -0.27525 -0.05684 0.34872 0.011884 0.14517 -0.71395 0.48497 0.14807 0.62287 0.20599 0.58379 -0.13438 0.40207 0.18311 0.28021 -0.42349 -0.25626 0.17715 -0.54095 0.16596 -0.036058 0.08499 -0.64989 0.075549 -0.28831 0.40626 -0.2802 0.094062 0.32406 0.28437 -0.26341 0.11553 0.071918 -0.47215 -0.18366 -0.34709 0.29964 -0.66514 0.002516 -0.42333 0.27512 0.36012 0.16311 0.23964 -0.05923 0.3261 0.20559 0.038677 -0.045816 0.089764 0.43151 -0.15954 0.08532 -0.26572 -0.15001 0.084286 -0.16714 -0.43004 0.060807 0.13121 -0.24112 0.66554 0.4453 -0.18019 -0.13919 0.56252 0.21457 -0.46443 -0.012211 0.029988 -0.051094 -0.20135 0.80788 0.47377 -0.057647 0.46216 0.16084 -0.20954 -0.05452 0.15572 -0.13712 0.12972 -0.011936 -0.003378 -0.13595 -0.080711 0.20065 0.054056 0.046816 0.059539 0.046265 0.17754 -0.31094 0.28119 -0.24355 0.085252 -0.21011 -0.19472 0.0027297 -0.46341 0.14789 -0.31517 -0.065939 0.036106 0.42903 -0.33759 0.16432 0.32568 -0.050392 -0.054297 0.24074 0.41923 0.13012 -0.17167 -0.37808 -0.23089 -0.019477 -0.29291 -0.30824 0.30297 -0.22659 0.081574 -0.18516 -0.21408 0.40616 -0.28974 0.074174 -0.17795 0.28595 -0.039626 -0.2339 -0.36054 -0.067503 -0.091065 0.23438 -0.0041331 0.003232 0.0072134 0.008697 0.21614 0.049904 0.35582 0.13748 0.073361 0.14166 0.2412 -0.013322 0.15613 0.083381 0.088146 -0.019357 0.43795 0.083961 0.45309 -0.50489 -0.10865 -0.2527 -0.18251 0.20441 0.13319 0.1294 0.050594 -0.15612 -0.39543 0.12538 0.24881 -0.1927 -0.31847 -0.12719 0.4341 0.31177 -0.0040946 -0.2094 -0.079961 0.1161 -0.050794 0.015266 -0.2803 -0.12486 0.23587 0.2339 -0.14023 0.028462 0.56923 -0.1649 -0.036429 0.010051 -0.17107 -0.042608 0.044965 -0.4393 -0.26137 0.30088 -0.060772 -0.45312 -0.19076 -0.20288 0.27694 -0.060888 0.11944 0.62206 -0.19343 0.47849 -0.30113 0.059389 0.074901 0.061068 -0.4662 0.40054 -0.19099 -0.14331 0.018267 -0.18643 0.20709 -0.35598 0.05338 -0.050821 -0.1918 -0.37846 -0.06589\n",
            ". 0.012001 0.20751 -0.12578 -0.59325 0.12525 0.15975 0.13748 -0.33157 -0.13694 1.7893 -0.47094 0.70434 0.26673 -0.089961 -0.18168 0.067226 0.053347 1.5595 -0.2541 0.038413 -0.01409 0.056774 0.023434 0.024042 0.31703 0.19025 -0.37505 0.035603 0.1181 0.012032 -0.037566 -0.5046 -0.049261 0.092351 0.11031 -0.073062 0.33994 0.28239 0.13413 0.070128 -0.022099 -0.28103 0.49607 -0.48693 -0.090964 -0.1538 -0.38011 -0.014228 -0.19392 -0.11068 -0.014088 -0.17906 0.24509 -0.16878 -0.15351 -0.13808 0.02151 0.13699 0.0068061 -0.14915 -0.38169 0.12727 0.44007 0.32678 -0.46117 0.068687 0.34747 0.18827 -0.31837 0.4447 -0.2095 -0.26987 0.48945 0.15388 0.05295 -0.049831 0.11207 0.14881 -0.37003 0.30777 -0.33865 0.045149 -0.18987 0.26634 -0.26401 -0.47556 0.68381 -0.30653 0.24606 0.31611 -0.071098 0.030417 0.088119 0.045025 0.20125 -0.21618 -0.36371 -0.25948 -0.42398 -0.14305 -0.10208 0.21498 -0.21924 -0.17935 0.21546 0.13801 0.24504 -0.2559 0.054815 0.21307 0.2564 -0.25673 0.17961 -0.47638 -0.25181 -0.0091498 -0.054362 -0.21007 0.12597 -0.40795 -0.021164 0.20585 0.18925 -0.0051896 -0.51394 0.28862 -0.077748 -0.27676 0.46567 -0.14225 -0.17879 -0.4357 -0.32481 0.15034 -0.058367 0.49652 0.20472 0.019866 0.13326 0.12823 -1.0177 0.29007 0.28995 0.029994 -0.10763 0.28665 -0.24387 0.22905 -0.26249 -0.069269 -0.17889 0.21936 0.15146 0.04567 -0.050497 0.071482 -0.1027 -0.080705 0.30296 0.031302 0.26613 -0.0060951 0.10313 -0.39987 -0.043945 -0.057625 0.08702 -0.098152 0.22835 -0.005211 0.038075 0.01591 -0.20622 0.021853 0.0040426 -0.043063 -0.002294 -0.26097 -0.25802 -0.28158 -0.23118 -0.010404 -0.30102 -0.4042 0.014653 -0.10445 0.30377 -0.20957 0.3119 0.068272 0.1008 0.010423 0.54011 0.29865 0.12653 0.013761 0.21738 -0.39521 0.066633 0.50327 0.14913 -0.11554 0.010042 0.095698 0.16607 -0.18808 0.055019 0.026715 -0.3164 -0.046583 -0.051591 0.023475 -0.11007 0.085642 0.28394 0.040497 0.071986 0.14157 -0.021199 0.44718 0.20088 -0.12964 -0.067183 0.47614 0.13394 -0.17287 -0.37324 -0.17285 0.02683 -0.1316 0.09116 -0.46487 0.1274 -0.090159 -0.10552 0.068006 -0.13381 0.17056 0.089509 -0.23133 -0.27572 0.061534 -0.051646 0.28377 0.25286 -0.24139 -0.19905 0.12049 -0.1011 0.27392 0.27843 0.26449 -0.18292 -0.048961 0.19198 0.17192 0.33659 -0.20184 -0.34305 -0.24553 -0.15399 0.3945 0.22839 -0.25753 -0.25675 -0.37332 -0.23884 -0.048816 0.78323 0.18851 -0.26477 0.096566 0.062658 -0.30668 -0.43334 0.10006 0.21136 0.039459 -0.11077 0.24421 0.60942 -0.46646 0.086385 -0.39702 -0.23363 0.021307 -0.10778 -0.2281 0.50803 0.11567 0.16165 -0.066737 -0.29556 0.022612 -0.28135 0.0635 0.14019 0.13871 -0.36049 -0.035\n",
            "the 0.27204 -0.06203 -0.1884 0.023225 -0.018158 0.0067192 -0.13877 0.17708 0.17709 2.5882 -0.35179 -0.17312 0.43285 -0.10708 0.15006 -0.19982 -0.19093 1.1871 -0.16207 -0.23538 0.003664 -0.19156 -0.085662 0.039199 -0.066449 -0.04209 -0.19122 0.011679 -0.37138 0.21886 0.0011423 0.4319 -0.14205 0.38059 0.30654 0.020167 -0.18316 -0.0065186 -0.0080549 -0.12063 0.027507 0.29839 -0.22896 -0.22882 0.14671 -0.076301 -0.1268 -0.0066651 -0.052795 0.14258 0.1561 0.05551 -0.16149 0.09629 -0.076533 -0.049971 -0.010195 -0.047641 -0.16679 -0.2394 0.0050141 -0.049175 0.013338 0.41923 -0.10104 0.015111 -0.077706 -0.13471 0.119 0.10802 0.21061 -0.051904 0.18527 0.17856 0.041293 -0.014385 -0.082567 -0.035483 -0.076173 -0.045367 0.089281 0.33672 -0.22099 -0.0067275 0.23983 -0.23147 -0.88592 0.091297 -0.012123 0.013233 -0.25799 -0.02972 0.016754 0.01369 0.32377 0.039546 0.042114 -0.088243 0.30318 0.087747 0.16346 -0.40485 -0.043845 -0.040697 0.20936 -0.77795 0.2997 0.2334 0.14891 -0.39037 -0.053086 0.062922 0.065663 -0.13906 0.094193 0.10344 -0.2797 0.28905 -0.32161 0.020687 0.063254 -0.23257 -0.4352 -0.017049 -0.32744 -0.047064 -0.075149 -0.18788 -0.015017 0.029342 -0.3527 -0.044278 -0.13507 -0.11644 -0.1043 0.1392 0.0039199 0.37603 0.067217 -0.37992 -1.1241 -0.057357 -0.16826 0.03941 0.2604 -0.023866 0.17963 0.13553 0.2139 0.052633 -0.25033 -0.11307 0.22234 0.066597 -0.11161 0.062438 -0.27972 0.19878 -0.36262 -1.0006e-05 -0.17262 0.29166 -0.15723 0.054295 0.06101 -0.39165 0.2766 0.057816 0.39709 0.025229 0.24672 -0.08905 0.15683 -0.2096 -0.22196 0.052394 -0.01136 0.050417 -0.14023 -0.042825 -0.031931 -0.21336 -0.20402 -0.23272 0.07449 0.088202 -0.11063 -0.33526 -0.014028 -0.29429 -0.086911 -0.1321 -0.43616 0.20513 0.0079362 0.48505 0.064237 0.14261 -0.43711 0.12783 -0.13111 0.24673 -0.27496 0.15896 0.43314 0.090286 0.24662 0.066463 -0.20099 0.1101 0.03644 0.17359 -0.15689 -0.086328 -0.17316 0.36975 -0.40317 -0.064814 -0.034166 -0.013773 0.062854 -0.17183 -0.12366 -0.034663 -0.22793 -0.23172 0.239 0.27473 0.15332 0.10661 -0.060982 -0.024805 -0.13478 0.17932 -0.37374 -0.02893 -0.11142 -0.08389 -0.055932 0.068039 -0.10783 0.1465 0.094617 -0.084554 0.067429 -0.3291 0.034082 -0.16747 -0.25997 -0.22917 0.020159 -0.02758 0.16136 -0.18538 0.037665 0.57603 0.20684 0.27941 0.16477 -0.018769 0.12062 0.069648 0.059022 -0.23154 0.24095 -0.3471 0.04854 -0.056502 0.41566 -0.43194 0.4823 -0.051759 -0.27285 -0.25893 0.16555 -0.1831 -0.06734 0.42457 0.010346 0.14237 0.25939 0.17123 -0.13821 -0.066846 0.015981 -0.30193 0.043579 -0.043102 0.35025 -0.19681 -0.4281 0.16899 0.22511 -0.28557 -0.1028 -0.018168 0.11407 0.13015 -0.18317 0.1323\n",
            "and -0.18567 0.066008 -0.25209 -0.11725 0.26513 0.064908 0.12291 -0.093979 0.024321 2.4926 -0.017916 -0.071218 -0.24782 -0.26237 -0.2246 -0.21961 -0.12927 1.0867 -0.66072 -0.031617 -0.057328 0.056903 -0.27939 -0.39825 0.14251 -0.085146 -0.14779 0.055067 -0.0028687 -0.20917 -0.070735 0.22577 -0.15881 -0.10395 0.09711 -0.56251 -0.32929 -0.20853 0.0098711 0.049777 0.0014883 0.15884 0.042771 -0.0026956 -0.02462 -0.19213 -0.22556 0.10838 0.090086 -0.13291 0.32559 -0.17038 -0.1099 -0.23986 -0.024289 0.014656 -0.237 0.084828 -0.35982 -0.076746 0.048909 0.11431 -0.21013 0.24765 -0.017531 -0.14028 0.046191 0.22972 0.1175 0.12724 0.012992 0.4587 0.41085 0.039106 0.15713 -0.18376 0.26834 0.056662 0.16844 -0.053788 -0.091892 0.11193 -0.08681 -0.13324 0.15062 -0.31733 -0.22078 0.25038 0.34131 0.36419 -0.089514 -0.22193 0.24471 0.040091 0.47798 -0.029996 0.0019212 0.063511 -0.20417 -0.26478 0.20649 0.015573 -0.27722 -0.18861 -0.10289 -0.49773 0.14986 -0.010877 0.25085 -0.28117 0.18966 -0.065879 0.094753 -0.15338 -0.055071 -0.36747 0.24993 0.096527 0.23538 0.18405 0.052859 0.22967 0.12582 0.15536 -0.17275 0.33946 -0.10049 0.074948 -0.093575 -0.04049 -0.016922 -0.0058039 -0.18108 0.19537 0.45178 0.10965 0.2337 -0.09905 -0.078633 0.21678 -0.71231 -0.099759 0.33333 -0.1646 -0.091688 0.21056 0.023669 0.028922 0.1199 -0.12512 -0.026037 -0.062217 0.55816 0.0050273 -0.30888 0.038611 0.17568 -0.11163 -0.10815 -0.19444 0.29433 0.14519 -0.042878 0.18534 0.018891 -0.61883 0.13352 0.036007 0.33995 0.22109 -0.079328 0.071319 0.17678 0.16378 -0.23142 -0.1434 -0.098122 -0.019286 0.2356 -0.34013 -0.061007 -0.23208 -0.31152 0.10063 -0.15957 0.20183 -0.016345 -0.12303 0.022667 -0.20986 -0.20127 -0.087883 0.064731 0.10195 -0.1786 0.33056 0.21407 -0.32165 -0.17106 0.19407 -0.38618 -0.2148 -0.052254 0.023175 0.47389 0.18612 0.12711 0.20855 -0.10256 -0.12016 -0.40488 0.029695 -0.027419 -0.0085227 -0.11415 0.081134 -0.17228 0.19142 0.026514 0.043789 -0.12399 0.13354 0.10112 0.081682 -0.15085 0.0075806 -0.18971 0.24669 0.22491 0.35553 -0.3277 -0.21821 0.1402 0.28604 0.055226 -0.086544 0.02111 -0.19236 0.074245 0.076782 0.00081666 0.034097 -0.57719 0.10657 0.28134 -0.11964 -0.68281 -0.32893 -0.24442 -0.025847 0.0091273 0.2025 -0.050959 -0.11042 0.010962 0.076773 0.40048 -0.40739 -0.44773 0.31954 -0.036326 -0.012789 -0.17282 0.1476 0.2356 0.080642 -0.36528 -0.0083443 0.6239 -0.24379 0.019917 -0.28803 -0.010494 0.038412 -0.11718 -0.072462 0.16381 0.38488 -0.029783 0.23444 0.4532 0.14815 -0.027021 -0.073181 -0.1147 -0.0054545 0.47796 0.090912 0.094489 -0.36882 -0.59396 -0.097729 0.20072 0.17055 -0.0047356 -0.039709 0.32498 -0.023452 0.12302 0.3312\n",
            "to 0.31924 0.06316 -0.27858 0.2612 0.079248 -0.21462 -0.10495 0.15495 -0.03353 2.4834 -0.50904 0.08749 0.21426 0.22151 -0.25234 -0.097544 -0.1927 1.3606 -0.11592 -0.10383 0.21929 0.11997 -0.11063 0.14212 -0.16643 0.21815 0.0042086 -0.070012 -0.23532 -0.26518 0.031248 0.16669 -0.089777 0.20059 0.31614 -0.5583 0.075735 0.27635 0.12741 -0.18185 -0.12722 0.024686 -0.077233 -0.48998 0.020355 0.0039164 0.1215 0.089723 -0.078975 0.081443 -0.099087 -0.055621 0.10737 -0.0044042 0.48496 0.11717 -0.017329 0.109 -0.35558 0.051084 0.15714 0.17961 -0.29711 0.033645 -0.025792 -0.013931 -0.23 -0.040306 0.22282 -0.013544 0.011554 0.3911 0.26533 -0.31012 0.40539 -0.042975 0.020811 -0.33033 0.19573 -0.037958 0.10274 -0.0013581 -0.44505 0.077886 0.08511 -0.20285 -0.19481 0.056933 0.53105 0.034154 -0.56996 -0.18469 0.093403 0.28044 -0.23349 0.10938 -0.014288 -0.274 0.034196 -0.098479 0.13268 0.19437 0.13463 -0.099059 0.040324 -0.66272 0.3571 0.15429 0.18598 0.087542 0.080538 -0.25121 0.24155 0.1783 0.036011 -0.027677 0.21161 -0.29107 -0.0083456 0.11317 0.31064 -0.10693 -0.27367 -0.039785 0.039881 0.034462 -0.16518 0.16115 0.060826 0.3075 -0.22398 0.14619 -0.2661 0.49732 -0.13996 -0.24287 0.039469 -0.084495 -0.24315 0.070701 -1.0136 -0.21733 -0.36878 -0.24973 0.17472 -0.011592 0.068561 -0.090411 0.21878 -0.2639 0.11904 0.14285 -0.18707 -0.13474 -0.13232 -0.26553 0.22947 -0.018215 0.0067383 -0.1019 0.10053 -0.1127 -0.13295 0.15951 0.14906 -0.095578 0.26992 0.011057 0.056568 0.021386 0.20215 0.00048589 0.5336 -0.22947 0.29275 0.17378 0.25423 -0.10976 0.058816 0.014616 -0.04306 0.10732 -0.028149 -0.19181 0.1025 -0.063892 0.012737 -0.12913 0.015037 0.26562 -0.017049 -0.060716 -0.094919 0.017775 0.13221 0.1683 -0.19323 -0.17612 0.075506 0.18939 0.12508 -0.1988 -0.16017 -0.21092 0.46933 0.044747 0.098349 0.011637 0.22281 -0.010837 -0.04833 -0.47335 -0.36811 -0.13592 -0.15086 0.25416 0.069531 0.14211 -0.26703 -0.1259 0.12076 -0.26117 0.033024 -0.034398 -0.13968 0.13446 -0.16709 0.15002 -0.13724 0.091226 -0.27718 0.020098 0.26919 0.43016 0.094019 -0.085496 -0.25192 -0.11645 -0.039734 0.0046738 0.54178 -0.16636 0.34546 0.098501 0.47819 -0.38428 -0.3238 -0.14822 -0.47817 0.16704 -0.064505 0.11834 -0.3448 0.096891 0.32309 0.41471 0.19463 -0.20891 -0.12223 -0.058298 -0.20268 0.2948 0.043397 0.10112 0.27177 -0.52124 -0.073794 0.044808 0.41388 0.088782 0.62255 -0.072391 0.090129 0.15428 0.023163 -0.13028 0.061762 0.33803 -0.091581 0.21039 0.05108 0.19184 0.10444 0.2138 -0.35091 -0.23702 0.038399 -0.10031 0.18359 0.025178 -0.12977 0.3713 0.18888 -0.0042738 -0.10645 -0.2581 -0.044629 0.082745 0.097801 0.25045\n",
            "of 0.060216 0.21799 -0.04249 -0.38618 -0.15388 0.034635 0.22243 0.21718 0.0068483 2.4375 -0.27418 0.13572 0.31086 -0.063206 0.00038225 -0.18597 -0.19333 1.4447 -0.38541 -0.28549 0.075627 -0.036799 -0.46068 -0.016835 0.19821 -0.092746 0.18954 -0.00032648 -0.17081 0.50359 0.46256 0.26901 -0.12256 0.24713 0.069305 -0.20777 -0.4456 0.30223 -0.0098344 0.32772 0.11038 0.41271 -0.15854 -0.056983 0.38918 -0.21158 -0.13307 0.40406 0.1749 0.053949 0.10984 -0.18476 -0.054014 0.040112 -0.10175 0.12662 0.069709 -0.24071 -0.20995 -0.051381 0.28219 0.18598 -0.5018 0.27572 -0.18497 -0.18399 0.15696 -0.038444 -0.52238 0.22753 0.048672 -0.078837 0.065448 0.18399 0.40211 -0.12745 -0.12302 0.31072 0.099588 0.036047 -0.25946 0.36128 0.12748 -0.18667 0.16502 -0.3912 -0.67549 0.11291 0.040743 0.034973 -0.04091 -0.039791 -0.40544 -0.015867 0.10239 0.046868 -0.082776 0.015132 -0.14899 -0.25125 0.25244 -0.11851 -0.34127 0.016516 0.30405 -0.541 0.305 0.39065 0.42362 -0.41721 -0.054247 -0.26014 -0.14048 -0.14166 -0.02105 0.050822 -0.078053 0.45922 0.17598 -0.0157 0.09118 0.034263 -0.49995 0.028574 0.12068 0.19781 -0.013025 -0.22418 0.12503 0.14653 -0.23085 0.21987 -0.059321 -0.088169 -0.1252 0.0075112 -0.22421 0.6214 0.2009 -0.02899 -0.65073 0.0053506 -0.12073 0.20988 -0.1684 0.041826 0.054582 0.35247 0.2006 0.031903 -0.053307 -0.44009 0.22495 -0.30616 -0.32855 -0.015779 -0.13913 0.34309 -0.13569 -0.22276 0.14295 0.05501 -0.10616 0.23597 -0.20701 -0.30963 0.13528 -0.16144 0.29108 0.12301 0.2365 -0.26153 0.31022 0.20612 -0.19885 0.10971 -0.0018054 0.14621 0.15177 -0.4468 0.0067433 -0.028784 0.13821 -0.16566 -0.45517 0.016623 0.10703 -0.48399 0.040033 0.049625 -0.26454 -0.1468 0.13651 0.15261 0.067522 0.50405 -0.18848 0.15256 -0.26997 0.055578 0.047077 -0.17848 -0.33567 -0.03148 0.19107 0.18818 0.18778 0.18313 -0.364 -0.0054127 -0.15763 0.16386 -0.084828 -0.19838 -0.40454 0.41031 -0.41393 0.029771 0.10544 -0.11295 -0.068076 -0.22372 -0.19084 -0.080269 -0.38345 0.064712 0.23111 0.21408 0.28038 0.14221 -0.20696 0.015874 -0.14112 0.089859 -0.21533 -0.020105 0.22703 0.083425 -0.2958 0.018036 0.19885 0.17794 0.13688 -0.10302 0.029651 0.051271 -0.14787 -0.41824 0.019828 -0.26385 -0.074654 -0.015718 0.48094 0.12492 -0.11409 0.58127 0.095836 -0.095912 -0.057435 0.13883 0.10307 0.081362 -0.4669 0.50705 0.021685 -0.071623 -0.063827 -0.11154 0.61792 -0.56329 0.023565 0.18041 -0.2578 -0.50956 0.14737 -0.033317 -0.037053 0.24062 0.12641 -0.027091 0.4039 -0.02836 -0.022235 -0.11493 -0.2285 -0.05746 0.2952 -0.21914 -0.13307 -0.23647 -0.42484 0.11606 0.0048131 -0.39629 -0.26823 0.3292 -0.17597 0.11709 -0.16692 -0.094085\n",
            "a 0.043798 0.024779 -0.20937 0.49745 0.36019 -0.37503 -0.052078 -0.60555 0.036744 2.2085 -0.23389 -0.06836 -0.22355 -0.053989 -0.15198 -0.17319 0.053355 1.6485 -0.047991 -0.085311 -0.15712 -0.64425 -0.39819 0.278 0.15364 0.031678 0.055414 0.015939 0.31851 -0.058979 0.038584 0.1077 0.1041 -0.077346 0.37396 -0.21482 0.3832 -0.27737 -0.18352 -0.83838 0.34124 0.58164 0.18543 -0.31028 0.17666 -0.069421 -0.34422 -0.13665 -0.10823 0.23637 -0.32923 0.61348 0.1972 0.087123 0.10785 0.3073 0.13757 0.30809 0.24331 -0.29422 -0.0098214 0.55675 -0.04888 0.099468 0.30543 -0.37597 -0.19525 0.046246 -0.036675 0.34023 0.14905 0.0978 -0.26664 0.056834 -0.043201 -0.23338 0.13111 -0.35742 -0.3607 0.30997 -0.19727 -0.1432 -0.16747 0.00042435 -0.1512 0.067562 -0.38644 0.025349 0.24918 -0.23955 -0.15615 0.49868 0.0082758 -0.1912 -0.14906 0.48757 -0.015281 0.010196 0.37642 -0.01946 -0.27835 0.16355 -0.24127 -0.21405 -0.21562 -0.79697 0.34321 0.093209 0.073977 -0.27147 0.20539 0.15061 0.020734 0.11267 0.028714 0.2967 -0.21267 0.43214 0.12788 0.29249 0.19056 -0.29113 -0.11382 -0.038242 -0.2029 0.18301 -0.16661 -0.27116 0.0012685 0.071704 -0.18583 0.08985 -0.039895 0.39479 0.0053211 -0.00061548 -0.27082 -0.089782 -0.2879 -0.14865 -1.3746 0.16515 0.20598 0.15252 0.034723 -0.38531 -0.094574 -0.19871 0.50239 -0.28702 -0.088727 0.056881 0.13634 0.19034 -0.19353 0.40506 -0.19317 0.22908 0.10055 -0.26895 -0.034727 -0.08401 0.057806 0.011076 -0.043349 -0.26917 -0.19333 0.22181 0.26123 -0.11761 0.10092 -0.15078 0.47153 0.11253 -0.26749 -0.038785 -0.03652 -0.089248 -0.24427 -0.041381 -0.021785 -0.35738 -0.063409 -0.53983 -0.010112 0.00041238 -0.097049 0.42628 -0.21349 -0.41055 -0.2494 -0.033571 -0.4954 0.15557 0.19882 0.10498 -0.24372 0.11429 -0.039279 -0.36258 0.10318 0.129 -0.41785 -0.041607 0.33522 0.073186 0.13362 0.010812 0.052645 0.18801 -0.30185 0.20333 -0.32258 -0.24673 0.21124 0.79132 -0.41539 0.3622 0.099852 -0.035378 -0.0419 -0.13851 -0.063255 0.13635 0.090863 -0.3994 0.099062 0.3221 -0.12256 -0.085906 -0.10218 0.2635 -0.18689 -0.1856 -0.43923 -0.325 -0.1991 0.17831 -0.27283 0.33473 0.082382 0.12825 0.39275 -0.034929 0.16148 -0.026713 0.40129 -0.39503 -0.064823 -0.08982 -0.066592 -0.34537 0.046283 0.36837 -0.024573 0.32213 0.30641 -0.28112 0.0066449 0.087743 -0.03417 0.60373 0.4212 -0.073349 0.26682 -0.1586 0.23765 -0.0062604 0.15236 -0.23409 0.31634 -0.08786 -0.15747 -0.24955 -0.18766 -0.096743 -0.27994 -0.24334 0.32643 0.29906 0.42763 0.22266 -0.17464 -0.019916 -0.31206 -0.34009 -0.14993 -0.28818 0.1475 -0.040503 -0.10347 0.0033634 0.2176 -0.20409 0.092415 0.080421 -0.061246 -0.30099 -0.14584 0.28188\n",
            "in 0.089187 0.25792 0.26282 -0.029365 0.47187 -0.10389 -0.10013 0.08123 0.20883 2.5726 -0.67854 0.036121 0.13085 0.0012462 0.14769 0.26926 0.37144 1.3501 -0.11326 -0.23036 -0.26575 -0.18077 0.092455 -0.16215 0.15003 -0.34547 0.072295 0.40659 0.010021 -0.0079257 -0.11435 0.017008 -0.29789 0.19079 0.37112 -0.26588 0.16212 0.065469 -0.31781 -0.03226 0.081969 0.3445 -0.17362 -0.35745 0.054487 0.39941 0.13699 -0.022066 0.11025 -0.41898 0.1276 -0.095869 -0.17944 -0.17443 0.27302 -0.19464 0.26747 -0.28241 0.1638 -0.11518 0.013196 -0.10616 -0.36093 0.023634 0.13464 0.021652 -0.27094 -0.018737 0.10017 0.36071 -0.093951 0.47634 0.12874 0.0011868 0.1377 -0.14034 -0.1887 -0.16405 -0.15349 0.32347 -0.17616 0.3523 -0.023531 -0.19121 -0.054809 -0.099521 -0.30056 0.36632 -0.21509 0.074123 -0.20267 0.1286 -0.38111 -0.025482 0.45103 0.088633 0.36288 -0.23406 -0.086024 -0.50604 0.034242 0.43998 -0.083023 -0.11969 0.68686 -0.34115 0.21228 0.40039 0.26367 -0.37144 0.16206 -0.42854 0.078658 -0.2905 0.21727 -0.27484 0.35887 0.27055 -0.11326 -0.14848 -0.0050659 -0.076862 0.078621 -0.24922 0.42026 -0.069698 0.071595 0.0071665 0.27473 -0.15664 0.25713 -0.058461 -0.29733 -0.090996 0.5246 0.14889 -0.20883 -0.13004 -0.20022 0.4503 -0.34654 -0.26007 0.35247 -0.34757 0.033738 0.19907 -0.32912 -0.084689 0.65319 0.20954 0.079274 0.1086 0.0026466 -0.12843 -0.22811 0.051501 -0.27429 0.14505 -0.1843 -0.34825 -0.11701 0.34034 0.075848 0.08239 -0.39188 -0.022312 -0.080373 0.14477 0.29701 -0.10523 0.092893 0.029813 -0.11761 0.16308 0.098382 0.46152 -0.162 -0.2456 0.20293 -0.11344 0.057902 -0.19528 -0.20141 -0.22874 -0.014101 0.2637 -0.10028 -0.051896 0.18859 -0.17767 -0.11556 0.121 0.17303 0.11773 0.034837 0.28485 -0.30447 0.061024 -0.26442 -0.081135 -0.044524 -0.036931 -0.15217 0.29175 0.44926 -0.28875 0.33193 -0.01242 -0.18805 -0.19832 -0.19736 0.26893 0.11106 -0.67383 -0.1518 -0.16615 -0.16563 0.0093671 -0.15945 -0.33468 0.22038 -0.16724 -0.1535 -0.61782 -0.17258 0.088928 0.019411 0.18296 0.32967 -0.0024906 -0.09208 0.514 0.0042484 -0.084377 -0.71448 -0.22148 -0.04835 0.043761 -0.29376 -0.22287 0.18001 0.072197 0.46499 0.056466 0.40844 -0.23641 -0.038946 0.087363 -0.21901 -0.3231 -0.19989 -0.3128 -0.067656 -0.22596 0.090926 0.28365 0.31462 0.46082 -0.024871 -0.14605 0.30454 0.17704 -0.011311 0.26807 -0.032461 -0.16644 -0.15313 -0.20426 -0.3082 -0.2459 0.085848 -0.11767 -0.063056 -0.18133 -0.18629 -0.17694 0.29618 0.35987 0.0020102 0.38616 0.36712 -0.055112 -0.34733 -0.072678 -0.051119 -0.29069 0.053598 0.019587 0.16808 -0.27456 -0.097179 -0.054541 0.19229 -0.48128 -0.20304 0.19368 -0.32546 0.14421 -0.169 0.26501\n",
            "\" -0.075242 0.57337 -0.31908 -0.18484 0.88867 -0.27381 0.077588 0.13905 -0.47746 1.4442 -0.56159 0.085829 0.27504 0.1567 0.088067 0.038404 0.13146 0.80903 -0.16476 -0.26437 -0.25213 -0.10082 0.23976 -0.0017618 -0.14791 -0.042768 0.087014 0.4747 -0.0018207 -0.38313 -0.18743 -0.17626 -0.31186 0.11831 0.23195 -0.19336 -0.54827 -0.11649 -0.23389 -0.04854 -0.31656 0.04927 0.0074875 -0.3366 0.39277 -0.25234 -0.24983 0.19855 -0.038369 -0.13467 -0.11403 0.37989 -0.16665 -0.090585 0.22177 0.28434 0.25214 -0.03522 -0.0362 0.092851 -0.1177 -0.1239 0.75229 -0.33378 0.27406 -0.14008 0.12932 -0.081124 -0.23386 0.53654 0.45947 -0.14284 0.080147 0.12924 -0.24142 -0.50243 -0.16263 0.22523 0.528 0.089438 0.010835 -0.15715 -0.49085 -0.30451 -0.06281 -0.033262 -0.34762 -0.61321 0.12422 0.52602 -0.14759 -0.29829 -0.28189 -0.075447 -0.52833 0.20302 -0.36833 -0.095067 0.49005 -0.28781 -0.15406 0.2827 -0.085221 -0.24289 -0.22717 0.71889 -0.32832 0.1002 0.20946 0.59244 -0.41214 0.62329 -0.026238 -0.17192 0.49179 -0.0016847 -0.11607 -0.24131 0.11644 -0.1921 0.03934 -0.084155 -0.0996 0.022975 -0.31975 -0.050044 0.52722 0.2252 0.016595 0.20643 -0.0098633 0.31594 -0.078281 0.12947 -0.062864 0.52739 -0.09028 0.14762 0.043752 0.41388 -1.2517 0.16028 0.029431 0.37164 -0.14389 -0.090422 0.33523 0.65587 0.029611 -0.31848 0.15365 0.080007 -0.30963 -0.082044 0.25966 0.070255 -0.56391 -0.70405 -0.16871 0.025228 -0.31917 0.095542 0.03875 -0.27151 -0.45413 -0.27367 0.15582 -0.23491 0.017226 -0.12817 0.19779 -0.070536 -0.46543 -0.30177 0.126 0.28083 0.27455 -0.097111 -0.097692 -0.49537 -0.34073 -0.22939 -0.14542 0.036665 -0.71022 0.3501 -0.23481 0.73786 -0.1357 -0.15819 -0.25091 0.1612 -0.17855 0.19617 0.13535 0.29201 -0.33659 -0.34374 0.022833 0.72946 -0.14079 -0.23412 -0.23124 0.043603 -0.14916 -0.13349 0.26499 -0.072018 0.26515 -0.11531 -0.049195 -0.3157 0.16259 -0.21417 0.26391 0.19793 -0.14555 0.1195 -0.6928 -0.50451 0.21449 0.49722 -0.15937 0.07369 0.28543 -0.16188 0.043208 0.089521 -0.061378 0.005429 0.23594 -0.16455 0.6693 -0.68702 -0.02823 0.30058 -0.053056 -0.35263 -0.21279 0.2776 -0.067762 0.045954 0.23585 -0.18751 0.13449 -0.10923 -0.010326 -0.3995 -0.44222 0.0080668 0.094805 -0.10209 -0.17181 -0.15658 -0.12305 0.61632 0.050099 0.018423 -0.204 0.090514 0.19061 0.022614 0.28797 0.14858 0.18576 -0.025255 -0.061938 -0.20647 0.43831 -0.16193 0.013259 -0.40052 -0.20146 -0.42659 0.38983 -0.084942 0.13971 0.011352 0.025489 0.25282 -0.10832 -0.081995 0.29953 -0.22407 -0.11489 -0.37855 -0.52748 -0.17067 0.16029 0.29872 -0.035604 -0.022669 0.42531 0.063414 0.36213 -0.2128 -0.22615 0.328 -0.10934 -0.37948\n",
            ": 0.008746 0.33214 -0.29175 -0.15119 -0.41842 -0.23931 -0.23458 -0.055618 -0.09896 0.75175 -0.66615 -0.10734 0.021663 -0.12194 0.022265 0.029731 0.036949 1.3326 -0.10886 -0.22681 -0.28436 0.021524 0.22749 -0.093169 -0.11529 0.51138 0.13868 -0.10885 -0.11482 -0.0074179 0.16234 0.0082633 -0.0023698 -0.39662 0.29591 0.22499 -0.46529 0.40232 0.027284 0.14321 0.034624 0.36936 -0.37351 0.22866 -0.29724 0.28951 -0.44012 0.47265 -0.070029 0.54446 0.30543 0.28181 0.063914 -0.30986 -0.40254 -0.032463 -0.39762 0.45387 0.075187 0.068059 0.12686 0.056289 0.29042 0.2362 0.34559 -0.14253 -0.016066 -0.058892 0.22277 0.31318 -0.37625 -0.044296 -0.017026 0.14938 0.87661 0.30364 -0.57488 -0.075509 -0.14493 0.16592 -0.67818 0.45022 -0.23441 -0.077216 0.32643 -0.1757 -0.0067939 -0.51045 0.56891 0.16143 0.18519 0.037305 -0.4579 -0.12869 0.19132 -0.38693 -0.1352 0.050239 0.36475 -0.061642 -0.181 -0.19424 0.46758 -0.25859 0.00027713 1.8061 -0.031111 -0.253 -0.043878 0.33484 0.21194 -0.16946 -0.012677 0.10138 -0.067128 0.2808 0.16923 -0.30368 -0.36514 0.18905 -0.36382 0.25917 0.18678 -0.054908 -0.068399 -0.083712 0.56264 -0.058912 -0.11257 -0.47151 0.62617 0.16101 0.17465 0.29054 -0.17968 0.17995 -0.28868 0.14772 -0.15869 0.12875 -0.050562 0.12813 0.018328 0.087067 -0.42093 0.26649 0.033762 0.46031 0.091036 -0.23591 0.37056 0.061394 -0.1232 -0.3872 0.31078 -0.40397 0.21185 0.14069 -0.32281 0.052793 -0.34045 -0.75221 -0.063703 0.094202 -0.45663 -0.53987 0.48825 -0.18757 -0.19803 0.40647 -0.24817 0.22975 0.21493 -0.48105 0.20716 0.32023 0.63723 -0.069866 0.3692 -0.15806 0.15572 0.36047 -0.010431 -0.27427 -0.087574 -0.37989 -0.1767 0.13558 0.056266 0.10345 -0.40615 0.11801 -0.32919 0.14333 -0.30102 -0.10898 -0.25298 0.33375 0.27642 0.71642 -0.091013 -0.002913 -0.19669 -0.39123 -0.056526 -0.1143 -0.28571 0.17814 -0.038271 -0.19628 -0.0057383 -0.68218 0.55404 -0.31276 -0.11263 -0.16157 -0.40151 0.40366 -0.21163 0.13927 0.32245 0.65676 0.039262 0.1051 -0.40708 -0.061696 0.30114 0.14276 0.24082 -0.29747 0.047918 0.3043 -0.15456 -0.27875 -0.39602 0.26501 -0.19017 0.054386 0.31772 0.44834 0.18064 -0.27069 0.15007 -0.037164 0.35867 0.25197 -0.42951 -0.080519 0.18769 0.35934 -0.12622 -0.034525 -0.44941 -0.27189 0.1923 0.3202 0.085719 -0.31613 0.12747 0.41687 -0.033986 0.16322 0.093101 0.012885 -0.13576 -0.50731 0.34072 0.01102 0.33894 0.043664 -0.22551 0.067386 -0.0061831 -0.10494 0.059349 0.43297 0.55025 0.30155 -0.1616 0.18268 -0.27236 -0.027163 0.61137 0.0027296 0.13913 0.051779 -0.19778 -0.03439 -0.088886 -0.096511 0.33936 -0.041628 -0.5592 0.22176 -0.41515 0.70059 -0.21371 -0.28677 -0.22663 -0.05087\n"
          ]
        }
      ],
      "source": [
        "#look at the format of the file\n",
        "!head glove.840B.300d.txt"
      ]
    },
    {
      "cell_type": "markdown",
      "metadata": {
        "id": "JFe9SkOcYugK"
      },
      "source": [
        "#### Get Glove embeddings\n",
        "In this section we want to populate the `glove` dictionary with a mapping of word to the embedding. Remember: the embedding should be an `np.array` of type `np.float` The glove dictionary should only have words that are present in the train vocabulary.\n",
        "\n",
        "\n",
        "Hint: For getting the word and corresponding embedding from the glove file, remember refer to the above structure of the word to embedding mapping."
      ]
    },
    {
      "cell_type": "code",
      "execution_count": 18,
      "metadata": {
        "id": "4RNiORwiYTzi"
      },
      "outputs": [],
      "source": [
        "#takes about 1 minute to read through the whole file and find the words we need.\n",
        "def get_glove_mapping(vocab, file):\n",
        "    \"\"\"\n",
        "    Gets the mapping of words from the vocabulary to pretrained embeddings\n",
        "\n",
        "    INPUT:\n",
        "    vocab       - set of vocabulary words\n",
        "    file        - file with pretrained embeddings\n",
        "\n",
        "    OUTPUT:\n",
        "    glove_map   - mapping of words in the vocabulary to the pretrained embedding\n",
        "\n",
        "    \"\"\"\n",
        "\n",
        "    glove_map = {}\n",
        "    with open(file,'rb') as fi:\n",
        "        for l in fi:\n",
        "            \n",
        "            try:\n",
        "                #### STUDENT CODE HERE ####\n",
        "                ## only include vectors that are found in the vocabulary.\n",
        "                values = l.split()\n",
        "                word = values[0].decode('utf-8')\n",
        "                vector = np.asarray(values[1:], dtype='float32')                \n",
        "                if word in vocab:\n",
        "                    \n",
        "                    glove_map[word] = vector\n",
        "                #### STUDENT CODE ENDS HERE ####\n",
        "            except:\n",
        "                #some lines have urls, we don't need them.\n",
        "                pass\n",
        "    return glove_map"
      ]
    },
    {
      "cell_type": "code",
      "execution_count": 19,
      "metadata": {
        "id": "kYettRoymWTz"
      },
      "outputs": [],
      "source": [
        "vocab_set = set(ds.vocab.ordered_words())\n",
        "glove_map = get_glove_mapping(vocab_set,\"./glove.840B.300d.txt\")\n",
        "glove_keys = glove_map.keys()"
      ]
    },
    {
      "cell_type": "code",
      "execution_count": 20,
      "metadata": {},
      "outputs": [
        {
          "data": {
            "text/plain": [
              "dict_keys([',', '.', 'the', 'and', 'to', 'of', 'a', 'in', ':', 'is', 'for', 'that', '-', 'on', 'you', 'with', \"'s\", 'it', 'are', 'by', 'at', 'be', 'this', 'as', 'from', 'was', 'have', 'or', '...', 'your', 'not', '!', '?', 'will', 'an', \"n't\", 'can', 'but', 'all', 'my', 'has', 'do', 'we', 'they', 'more', 'one', 'about', 'he', ';', \"'\", 'out', '$', 'their', 'so', 'his', 'up', '&', 'like', 'which', 'if', 'would', 'our', 'me', 'who', 'just', 'time', 'what', 'had', 'when', 'there', 'been', 'some', 'get', 'were', 'other', 'also', 'her', 'them', 'new', 'no', 'any', 'people', 'than', 'into', 'only', 'how', 'its', 'first', 'said', 'i', 'over', 'make', 'good', 'know', 'very', 'am', 'now', 'see', 'may', 'she', 'could', 'most', 'then', \"'m\", 'use', 'these', 'did', 'way', 'here', 'well', 'work', 'two', '=', 'think', 'much', 'should', 'us', 'years', 'many', 'back', 'because', '#', 'after', 'need', 'year', 'even', 'does', 'really', 'through', 'want', 'great', 'him', 'where', 'go', 'day', '--', 'such', 'right', 'best', 'made', \"'re\", 'views', 'find', 'take', 'being', \"'ve\", 'those', 'information', 'before', 'used', 'off', 'love', 'home', 'too', '+', 'last', 'going', 'help', 'still', 'free', 'down', 'life', 'same', 'around', \"'ll\", 'world', 'own', 'little', 'while', 'each', 'look', 'say', 'got', 'business', 'part', 'both', 'long', 'better', 'every', 'few', 'ago', 'things', 'between', 'something', 'game', 'available', 'never', 'using', 'place', 'under', 'come', 'online', 'another', 'system', 'found', 'days', 'without', 'always', 'different', 'next', 'set', 'must', 'since', 'high', 'video', 's', 'sure', 'lot', 'again', 'number', 'service', 'three', 'including', 'give', 'during', 'show', 'end', 'family', 'looking', 'thing', 'name', 'post', 'might', 'today', 'week', 'old', 'why', 'put', 'read', 'company', 'money', 'top', 'big', 'man', 'book', 'area', 'full', 'page', 'keep', 'away', 'against', 'small', 'feel', 'support', 'ca', 'real', 'times', \"'d\", 'says', 'school', 'play', 'left', 'team', 'water', 'point', 'music', 'ever', 'having', 'second', 'able', 'order', 'children', 'within', 'though', 'start', 'months', 'experience', 'car', 'until', 'case', 'making', 'x', 'getting', 'done', 'state', 'provide', 'course', 'list', 'change', 'local', 'enough', 'night', 'hard', 'person', 'let', 'line', 'website', 'least', 'live', 'power', 'try', 'doing', 'important', 'working', 'less', 'quality', 'group', 'care', 'makes', 'thought', 'side', 'call', 'per', 'room', 'actually', 'program', 'public', 'products', 'following', 'job', 'yet', 'called', 'buy', 'hours', 'already', 'price', 'easy', 'design', 'far', 'please', 'include', 'problem', 'open', 'health', 'food', 'women', 'based', 'went', 'body', 'house', 'process', 'needs', 'story', 'search', 'large', 'together', 'came', 'bit', 'someone', 'run', 'others', 'de', 'anything', 'often', 'fact', 'means', 'offer', 'country', 'control', 'once', 'friends', 'view', 'become', 'possible', 'several', 'along', 'bad', 'market', 'city', 'fun', 'believe', 'nice', 'pretty', 'product', 'seen', 'web', 'form', 'took', 'results', 'points', 'students', 'games', 'past', 'started', 'tell', 'level', 'news', 'government', 'kind', 'members', 'comes', 'head', 'light', 'check', 'hand', 'minutes', 'hope', 'black', 'type', 'above', 'whole', 'probably', 'season', 'everything', 'below', 'either', 'example', 'four', 'community', 'trying', 'special', 'review', 'anyone', 'million', 'idea', 'access', 'added', 'contact', 'add', 'men', 'given', 'everyone', 'value', 'phone', 'quite', 'nothing', 'known', 'early', 'near', 'current', 'pay', 'later', 'research', 'mind', 'question', 'personal', 'project', 'young', 'plan', 'told', 'offers', 'almost', 'development', 'movie', 'true', 'link', 'month', 'version', 'event', 'create', 'mean', 'future', 'size', 'taking', 'words', 'face', 'single', 'features', 'close', 'white', 'beautiful', 'looks', 'via', 'history', 'reading', 'series', 'across', 'cost', 'seems', 'else', 'visit', 'short', 'song', 'front', 'works', 'wanted', 'class', 'law', 'coming', 'whether', 'sex', 'share', 'problems', 'perfect', 'weeks', 'film', 'low', 'taken', 'reason', 'details', 'soon', 'party', 'complete', 'child', 'questions', 'card', 'range', 'report', 'sale', 'rather', 'property', 'comments', 'hot', 'hotel', 'friend', 'issue', 'understand', 'due', 'learn', 'heart', 'computer', 'office', 'kids', 'stop', 'especially', 'watch', 'provides', 'simple', 'art', 'major', 'issues', 'move', 'content', 'training', 'building', 'etc.', 'asked', 'miles', 'credit', 'couple', 'industry', 'original', 'age', 'air', 'five', 'date', 'includes', 'study', 'half', 'social', 'shows', 'space', 'photos', 'present', 'happy', 'matter', 'turn', 'needed', 'gets', 'image', 'performance', 'media', 'human', 'simply', 'stay', 'running', 'deal', 'living', 'girl', 'style', 'provided', 'ask', 'main', 'enjoy', 'member', 'energy', 'required', 'bring', 'further', 'technology', 'upon', 'playing', 'action', 'rate', 'comment', 'saw', 'insurance', 'sound', 'code', 'takes', 'talk', 'test', 'key', 'stuff', 'woman', 'however', 'win', 'various', 'among', 'usually', 'meet', 'parts', 'guys', 'behind', 'word', 'result', 'amount', 'store', 'yourself', 'wo', 'areas', 'position', 'return', 'field', 'interest', 'guy', 'books', 'events', 'myself', 'hit', 'longer', 'leave', 'items', 'total', 'remember', 'wrong', 'address', 'lost', 'message', 'rest', 'natural', 'picture', 'cause', 'general', 'goes', 'created', 'favorite', 'color', 'drive', 'clear', 'outside', 'paper', 'held', 'inside', 'private', 'currently', 'morning', 'model', 'similar', 'maybe', 'designed', 'professional', 'heard', 'internet', 'writing', 'lead', 'hear', 'certain', 'cover', 'period', 'account', 'sales', 'third', 'pictures', 'common', 'addition', 'subject', 'record', 'likely', 'saying', 'hair', 'written', 'changes', 'source', 'received', 'continue', 'ready', 'photo', 'customers', 'sense', 'interesting', 'recent', 'forward', 'weight', 'popular', 'reviews', 'wrote', 'ways', 'latest', 'instead', 'players', 'cut', 'strong', 'death', 'recently', 'save', 'thanks', 'late', 'network', 'red', 'education', 'cool', 'included', 'treatment', 'unique', 'send', 'write', 'baby', 'seem', 'player', 'section', 'choose', 'thinking', 'amazing', 'choice', 'according', 'travel', 'wish', 'fine', 'center', 'allow', 'wait', 'increase', 'chance', 'final', 'answer', 'played', 'fast', 'likes', 'worth', 'release', 'box', 'material', 'tax', 'location', 'specific', 'ones', 'meeting', 'town', 'entire', 'individual', 'eyes', 'themselves', 'girls', 'board', 'particular', 'higher', 'huge', 'medical', 'term', 'receive', 'marketing', 'hold', 'text', 'tried', 'table', 'itself', 'summer', 'gave', 'build', 'follow', 'easily', 'loss', 'worked', 'cheap', 'road', 'options', 'wide', 'standard', 'opportunity', 'decided', 'step', 'role', 'lives', 'pages', 'national', 'ideas', 'parents', 'terms', 'collection', 'international', 'method', 'piece', 'practice', 'title', 'skin', 'six', 'policy', 'door', 'green', 'wife', 'gives', 'excellent', 'knowledge', 'stock', 'production', 'interested', 'war', 'quickly', 'risk', 'son', 'sometimes', 'images', 'throughout', 'track', 'videos', 'starting', 'giving', 'lower', 'groups', 'looked', 'average', 'talking', 'shot', 'effect', 'wonderful', 'completely', 'political', 'hands', 'dog', 'moment', 'activities', 'sent', 't', 'knew', 'land', 'involved', 'band', 'difficult', 'finally', 'success', 'built', 'felt', 'screen', 'himself', 'student', 'fit', 'clean', 'wants', 'born', 'album', 'fire', 'hour', 'language', 'potential', 'device', 'attention', 'equipment', 'feet', 'mother', 'ability', 'fall', 'extra', 'former', 'variety', 'bed', 'cases', 'necessary', 'guess', 'allows', 'turned', 'plans', 'published', 'blood', 'leading', 'effects', 'types', 'response', 'costs', 'began', 'focus', 'became', '`', 'consider', 'levels', 'learning', 'daily', 'happen', 'resources', 'weekend', 'exactly', 'wedding', 'growth', 'note', 'feature', 'sell', 'brought', 'ground', 'speed', 'base', 'trip', 'decision', 'pain', 'plus', 'notes', 'environment', 'released', 'skills', 'rates', 'effective', 'court', 'conditions', 'career', 'college', 'character', 'voice', 'solution', 'safe', 'although', 'digital', 'police', 'walk', 'break', 'directly', 'round', 'item', 'difference', 'shown', 'sign', 'option', 'tools', 'projects', 'moving', 'places', 'function', 'situation', 'numbers', 'definitely', 'providing', 'stories', 'won', 'stand', 'paid', 'previous', 'display', 'feeling', 'floor', 'gift', 'race', 'legal', 'modern', 'pick', 'camera', 'guide', 'yes', 'eat', 'lyrics', 'pass', 'engine', 'goal', 'gone', 'lots', 'limited', 'nature', 'cards', 'fans', 'expected', 'awesome', 'spent', 'certainly', 'entry', 'considered', 'spend', 'claim', 'relationship', 'benefits', 'blue', 'alone', 'charge', 'machine', 'approach', 'lines', 'quick', 'brand', 'highly', 'schools', 'church', 'beginning', 'match', 'changed', 'homes', 'uses', 'unit', 'economic', 'ensure', 'happened', 'shop', 'fully', 'movies', 'bar', 'songs', 'father', 'regular', 'sort', 'improve', 'clients', 'expect', 'sounds', 'normal', 'fan', 'reports', 'memory', 'advice', 'deep', 'loved', 'serious', 'bought', 'trade', 'n', 'multiple', 'died', 'begin', 'pressure', 'towards', 'states', 'fight', 'knows', 'rooms', 'analysis', 'gas', 'helps', 'successful', 'b', 'cars', 'nearly', 'map', 'tool', 'direct', 'stage', 'author', 'com', 'developed', 'channel', 'eye', 'join', 'thank', 'fresh', 'ball', 'm', 'watching', 'gold', 'basic', 'bottom', 'copy', 'rules', 'perhaps', 'whose', 'update', 'double', 'force', 'moved', 'funny', 'drug', 'military', 'traditional', 'touch', 'gay', 'commercial', 'cell', 'significant', 'allowed', 'physical', 'apply', 'region', 'truly', 'window', 'activity', 'growing', 'act', 'club', 'wall', 'require', 'poor', 'cash', 'names', 'middle', 'reported', 'positive', 'press', 'evidence', 'surface', 'reach', 'star', 'vehicle', 'effort', 'led', 'heat', 'whatever', 'seeing', 'impact', 'recommend', 'construction', 'shopping', 'hotels', 'sports', 'finish', 'selection', 'dead', 'daughter', 'waiting', 'useful', 'figure', 'dark', 'husband', 'degree', 'boy', 'cancer', 'science', 'named', 'benefit', 'showing', 'purpose', 'rock', 'condition', 'earlier', 'vote', 'president', 'cold', 'beyond', 'updated', 'seconds', 'onto', 'businesses', 'disease', 'd', 'reasons', 'associated', 'glass', 'healthy', 'supply', 'straight', 'develop', 'basis', 'easier', 'setting', 'finished', 'lose', 'wear', 'teams', 'sweet', 'connection', 'particularly', 'helpful', 'profile', 'offering', 'actual', 'budget', 'except', 'models', 'campaign', 'characters', 'street', 'kept', 'culture', 'families', 'opinion', 'calls', 'traffic', 'pool', 'opening', 'print', 'statement', 'driving', 'speak', 'delivery', 'powerful', 'tour', 'overall', 'bank', 'radio', 'truth', 'unless', 'immediately', 'kitchen', 'individuals', 'buying', 'regarding', 'fish', 'older', 'respect', 'holiday', 'generally', 'understanding', 'responsible', 'damage', 'enter', 'served', 'beach', 'correct', 'finding', 'appear', 'notice', 'extremely', 'creating', 'letter', 'avoid', 'contains', 'solutions', 'passed', 'stars', 'appropriate', 'serve', 'comfortable', 'discussion', 'background', 'totally', 'greater', 'scene', 'topic', 'forum', 'wonder', 'director', 'mine', 'sleep', 'produce', 'records', 'package', 'married', 'investment', 'ahead', 'grow', 'annual', 'debt', 'status', 'attack', 'bag', 'reference', 'battery', 'runs', 'miss', 'lack', 'happens', 'structure', 'beat', 'la', 'population', 'minute', 'bill', 'prior', 'mentioned', 'followed', 'helped', 'drop', 'metal', 'society', 'larger', 'fat', 'compared', 'pieces', 'evening', 'shoes', 'challenge', 'contract', 'carry', 'hate', 'welcome', 'football', 'dating', 'learned', 'fashion', 'length', 'host', 'vs.', 'century', 'spot', 'self', 'movement', 'protect', 'selling', 'studies', 'park', 'error', 'reduce', 'e', 'tickets', 'described', 'absolutely', 'cute', 'ride', 'sorry', 'sources', 'produced', 'block', 'remove', 'dress', 'patient', 'values', 'opportunities', 'windows', 'friendly', 'distance', 'station', 'coffee', 'tree', 'existing', 'established', 'colors', 'direction', 'seven', 'forget', 'reality', 'covered', 'famous', 'female', 'complex', 'otherwise', 'nation', 'yesterday', 'listen', 'shipping', 'interview', 'driver', 'primary', 'thousands', 'warm', 'heavy', 'steps', 'doctor', 'biggest', 'thoughts', 'classic', 'sharing', 'efforts', 'handle', 'advantage', 'therefore', 'ten', 'appears', 'requires', 'et', 'seemed', 'category', 'mix', 'ice', 'devices', 'rich', 'placed', 'forms', 'exercise', 'closed', 'beauty', 'adult', 'plays', 'score', 'goals', 'killed', 'soft', 'leader', 'dance', 'standards', 'dinner', 'putting', 'dry', 'manager', 'liked', 'clearly', 'thus', 'communication', 'artist', 'plant', 'presented', 'helping', 'experienced', 'foot', 'fair', 'spring', 'die', 'accept', 'prevent', 'highest', 'sun', 'garden', 'starts', 'target', 'toward', 'solid', 'w', 'format', 'becomes', 'brother', 'testing', 'doubt', 'classes', 'walking', 'competition', 'net', 'central', 'parties', 'deals', 'properties', 'advanced', 'calling', 'keeping', 'remain', 'meaning', 'winter', 'shape', 'mention', 'balance', 'mostly', 'stores', 'elements', 'alternative', 'eating', 'theme', 'leaving', 'ended', 'trust', 'sexy', 'brain', 'technical', 'menu', 'claims', 'boys', 'animals', 'expensive', 'demand', 'wood', 'mom', 'separate', 'opened', 'caused', 'session', 'train', 'asking', 'feed', 'path', 'workers', 'creative', 'drugs', 'enjoyed', 'independent', 'dream', 'missing', 'peace', 'decide', 'spending', 'foreign', 'teen', 'cable', 'gain', 'sit', 'teacher', 'slow', 'fear', 'mode', 'plenty', 'south', 'recipe', 'aware', 'document', 'sets', 'strategy', 'earth', 'operating', 'flow', 'super', 'nor', 'television', 'meant', 'pair', 'laws', 'male', 'kill', 'lovely', 'sea', 'taste', 'concept', 'strength', 'majority', 'frame', 'attempt', 'eight', 'anyway', 'determine', 'faith', 'fill', 'ring', 'perform', 'proper', 'cup', 'adding', 'smaller', 'critical', 'sitting', 'whom', 'discuss', 'mouth', 'discount', 'dollars', 'units', 'ideal', 'partner', 'busy', 'library', 'corporate', 'porn', 'fantastic', 'drink', 'crazy', 'description', 'rent', 'agency', 'trial', 'ship', 'realize', 'edge', 'slightly', 'excited', 'department', 'becoming', 'marriage', 'maintain', 'combination', 'object', 'returned', 'schedule', 'willing', 'north', 'continues', 'essential', 'winning', 'flight', 'filled', 'leaves', 'mail', 'possibly', 'failed', 'plastic', 'hospital', 'caught', 'seat', 'holding', 'changing', 'bike', 'prepared', 'suggest', 'dogs', 'gonna', 'dedicated', 'anywhere', 'artists', 'hearing', 'developing', 'detail', 'rental', 'county', 'worse', 'count', 'documents', 'raised', 'techniques', 'trouble', 'manage', 'electronic', 'birthday', 'agreement', 'explain', 'fuel', 'audience', 'volume', 'guitar', 'luck', 'proud', 'defense', 'fix', 'corner', 'remains', 'hell', 'managed', 'removed', 'o', 'brings', 'connected', 'animal', 'quarter', 'joined', 'shared', 'kid', 'flat', 'capacity', 'mission', 'achieve', 'supposed', 'despite', 'wind', 'applied', 'cast', 'exciting', 'oh', 'updates', 'core', 'golf', 'plants', 'ran', 'none', 'reached', 'pics', 'negative', 'battle', 'agent', 'episode', 'load', 'cream', 'generation', 'silver', 'tomorrow', 'missed', 'appreciate', 'flowers', 'waste', 'sister', 'advance', 'detailed', 'factors', 'catch', 'bedroom', 'vacation', 'edition', 'numerous', 'cities', 'master', 'actions', 'performed', 'teachers', 'folks', 'lived', 'imagine', 'worry', 'square', 'recommended', 'magazine', 'presence', 'spread', 'yeah', 'auto', 'minimum', 'parking', 'election', 'exchange', 'broken', 'comfort', 'religious', 'turns', 'treat', 'rise', 'sexual', 'afternoon', 'eventually', 'houses', 'boat', 'maximum', 'sample', 'relevant', 'pull', 'species', 'limit', 'stopped', 'entertainment', 'abuse', 'markets', 'twice', 'raise', 'register', 'paying', 'tonight', 'tough', 'administration', 'noticed', 'housing', 'standing', 'theory', 'wearing', 'seriously', 'serving', 'greatest', 'experiences', 'hits', 'telling', 'seeking', 'switch', 'signs', 'deliver', 'feels', 'rating', 'concerned', 'trees', 'fees', 'manner', 'messages', 'sugar', 'faster', 'leads', 'cat', 'throw', 'internal', 'stress', 'ends', 'tells', 'forces', 'draw', 'guest', 'initial', 'centre', 'indeed', 'gallery', 'layer', 'prescription', 'edit', 'gun', 'sad', 'pack', 'properly', 'facts', 'secret', 'lunch', 'purposes', 'intended', 'residents', 'responsibility', 'stupid', 'clothes', 'behavior', 'searching', 'loves', 'freedom', 'functions', 'ok', 'answers', 'medium', 'lights', 'stick', 'previously', 'cross', 'failure', 'prefer', 'electric', 'forced', 'covers', 'films', 'mark', 'task', 'vision', 'ad', 'allowing', 'environmental', 'scale', 'bigger', 'launch', 'specifically', 'worst', 'usual', 'arms', 'writer', 'locations', 'causes', 'paint', 'desire', 'topics', 'components', 'appeared', 'decisions', 'brown', 'featuring', 'fell', 'sides', 'orders', 'west', 'wireless', 'leather', 'maintenance', 'hurt', 'automatically', 'combined', 'tea', 'suit', 'snow', 'spirit', 'chicken', 'license', 'award', 'reserved', 'picked', 'influence', 'expert', 'discovered', 'owned', 'practices', 'arrived', 'aid', 'relationships', 'truck', 'zone', 'obvious', 'compare', 'smart', 'professionals', 'island', 'kinds', 'determined', 'treated', 'rain', 'contain', 'command', 'edited', 'bathroom', 'y', 'sick', 'considering', 'hundreds', 'measure', 'wild', 'teach', 'surprised', 'begins', 'keeps', 'pop', 'milk', 'horse', 'obviously', 'factor', 'formed', 'recorded', 'upper', 'element', 'fly', 'roll', 'novel', 'false', 'chocolate', 'speaking', 'push', 'resolution', 'gifts', 'exist', 'defined', 'mass', 'bright', 'i.e.', 'emergency', 'bet', 'crime', 'seek', 'anymore', 'tend', 'somewhere', 'journey', 'improved', 'committed', 'soul', 'instance', 'yellow', 'herself', 'interests', 'studio', 'charged', 'fourth', 'grade', 'adults', 'recording', 'tight', 'quiet', 'ads', 'camp', 'replace', 'fruit', 'appearance', 'affect', 'university', 'knowing', 'aspects', 'fighting', 'goods', 'winner', 'mental', 'rare', 'legs', 'closer', 'agents', 'hole', 'presentation', 'surprise', 'pet', 'watched', 'beer', 'ourselves', 'recovery', 'connect', 'educational', 'invention', 'shooting', 'cheese', 'focused', 'featured', 'chain', 'concerns', 'remote', 'hardware', 'familiar', 'authority', 'examples', 'carried', 'youth', 'depending', 'choices', 'consumers', 'flash', 'shots', 'suitable', 'perfectly', 'listening', 'debate', 'religion', 'reduced', 'river', 'evil', 'cultural', 'accurate', 'bringing', 'follows', 'trading', 'executive', 'creation', 'challenges', 'apart', 'therapy', 'receiving', '20th', 'definition', 'agreed', 'importance', 'equal', 'confidence', 'partners', 'doors', 'hoping', 'historical', 'r', 'reasonable', 'tracks', 'fields', 'motion', 'losing', 'delivered', 'efficient', 'honest', 'violence', 'argument', 'context', 'mature', 'concern', 'clothing', 'arm', 'bags', 'smile', 'plate', 'officer', 'smooth', 'filter', 'judge', 'retail', 'turning', 'pink', 'climate', 'till', 'chief', 'conversation', 'settings', 'dates', 'massive', 'shoot', 'personally', 'lucky', 'chosen', 'ticket', 'photography', 'ordered', 'basically', 'cake', 'pleasure', 'jump', 'medicine', 'salt', 'chapter', 'musical', 'supplies', 'attached', 'talks', 'nine', 'log', 'talent', 'route', 'extended', 'holds', 'height', 'league', 'fairly', 'typically', 'meat', 'entirely', 'walked', 'shower', 'attacks', 'lady', 'stone', 'matters', 'perspective', 'accident', 'prove', 'crowd', 'thinks', 'millions', 'taught', 'typical', 'pulled', 'forever', 'bunch', 'politics', 'stands', 'entered', 'happening', 'sport', 'returns', 're', 'wondering', 'lets', 'moves', 'planned', 'saved', 'relatively', 'everyday', 'cutting', 'remaining', 'machines', 'dangerous', 'extensive', 'f', 'gear', 'crisis', 'god', 'practical', 'label', 'inspired', 'chair', 'discover', 'fabric', 'tiny', 'minor', 'engineering', 'lighting', 'shares', 'writes', 'objects', 'organic', 'east', 'prepare', 'reader', 'civil', 'candidate', 'painting', 'valuable', 'impossible', 'mixed', 'farm', 'phones', 'fellow', 'employment', 'apparently', 'suggested', 'wins', 'figures', 'p', 'supporting', 'pleased', 'expression', 'telephone', 'somewhat', 'neck', 'realized', 'meal', 'reliable', 'slowly', 'encourage', 'dropped', 'drawing', 'tired', 'cycle', 'lists', 'mountain', 'ages', 'interior', 'represent', 'versions', '7th', '19th', 'exact', 'normally', 'comparison', 'explore', 'capable', 'graphics', 'scientific', 'ancient', 'ingredients', 'king', 'occur', 'dad', 'walls', 'technologies', 'pure', 'ya', 'guarantee', 'participate', 'random', 'hundred', 'commitment', '21st', 'incredible', 'academic', 'heads', '10th', 'bear', 'unable', 'monitor', 'editor', 'string', 'procedure', 'printed', 'nuclear', 'fail', 'wet', 'frequently', 'arts', 'visual', 'magic', 'respond', 'appeal', 'passing', 'parent', 'duty', 'effectively', 'colour', 'acid', '8th', 'script', 'native', 'domestic', 'meetings', 'earned', 'improvement', 'noise', 'virtual', 'describe', 'reporting', 'clinical', 'constantly', 'strategies', 'bath', 'affected', 'afraid', 'strange', 'younger', 'drinking', 'tank', 'surrounding', 'presents', 'grown', 'yours', 'outstanding', 'gorgeous', 'criminal', 'delicious', 'stream', 'recognized', 'relief', 'alive', 'finds', 'facing', 'styles', 'kick', 'joint', 'manual', 'forth', 'sending', 'neighborhood', 'acting', 'neither', 'circumstances', 'stuck', 'moments', 'hidden', 'border', 'broke', 'bridge', 'grew', 'spiritual', 'justice', 'al.', 'empty', 'reaction', 'contest', 'statements', 'technique', 'tv', 'discussed', 'wherein', 'channels', 'generated', 'singing', 'ending', 'array', 'tape', 'ultimate', 'row', 'mainly', 'everybody', 'threat', 'assume', 'lies', 'replaced', 'sat', 'carefully', 'gotten', 'admit', 'muscle', 'brief', 'believed', 'atmosphere', 'damn', 'naked', 'promise', 'integrated', 'directed', 'adds', 'impressive', 'shirt', 'cuts', 'tested', 'thick', 'scored', 'successfully', 'conducted', 'streets', 'concert', 'dreams', 'honor', 'riding', 'okay', 'bodies', 'possibility', 'emotional', 'opposite', 'referred', 'exposure', 'mile', 'talked', 'laugh', 'bars', 'earn', 'contemporary', 'decent', 'bread', 'teeth', 'faces', 'planet', 'dollar', 'campus', 'crew', 'dealing', 'lessons', 'viewed', 'innovative', 'saving', 'draft', 'performing', 'significantly', 'column', 'feelings', 'differences', 'plane', 'baseball', 'express', 'participants', 'thin', 'afford', 'investigation', 'flying', 'bowl', 'circuit', 'aspect', 'everywhere', 'serves', 'basketball', 'pic', 'attractive', 'packages', 'pro', 'constant', 'identity', 'passion', 'extreme', 'nights', 'addresses', 'depends', 'valid', 'decades', 'unknown', 'proof', 'revealed', 'trailer', 'communications', 'blonde', 'wire', 'checking', 'sky', 'viewing', 'scenes', 'tube', 'situations', 'van', 'depth', 'ladies', 'crack', 'immediate', 'assets', 'stayed', 'recognize', 'swimming', 'controlled', 'flag', 'bands', 'joy', 'shut', 'seats', 'aside', 'split', 'bonus', 'killing', 'acts', 'labor', 'organized', 'capture', 'codes', 'pocket', 'clock', 'conduct', 'cook', 'convenient', 'skill', 'extension', 'lens', 'smoking', 'h', 'blow', 'adventure', 'weird', 'coast', 'loving', 'efficiency', 'inner', 'relative', 'butter', 'boot', 'tables', 'primarily', '15th', 'shoulder', 'raw', 'memories', 'consistent', 'racing', 'tall', 'wow', 'lie', 'destination', 'tone', 'graduate', 'represents', 'downtown', 'flower', 'writers', 'boxes', 'wanna', 'titles', '12th', 'suffering', 'enhance', 'smoke', 'proven', 'shift', 'trained', 'generate', 'copies', 'root', 'informed', 'awards', 'principles', 'a.', 'amounts', 'somehow', 'birds', 'dynamic', 'carrying', 'resistance', 'literally', 'extent', 'headed', 'favourite', 'suddenly', 'lay', 'mistake', 'necessarily', 'toys', 'puts', 'severe', 'enjoying', 'lake', 'invited', 'sessions', 'handling', 'grant', 'breaking', 'foundation', 'permission', 'rose', 'falling', 'celebrate', 'yard', 'whenever', 'zip', 'sight', 'errors', 'answered', 'closely', 'brilliant', 'superior', 'association', 'plain', 'hey', 'creates', 'tradition', 'lesson', 'hopefully', 'conflict', 'lifestyle', 'careful', 'orange', 'boots', 'grand', 'collect', 'desired', 'hang', '13th', 'boards', 'giant', 'prison', 'trend', 'attitude', 'historic', 'serial', 'lift', 'wanting', 'counter', 'awareness', 'favor', 'harder', 'automatic', 'humans', 'cotton', 'greatly', 'hat', 'era', 'thousand', 'hopes', 'expectations', 'believes', 'pregnant', 'stunning', 'decade', 'vast', 'regard', 'pump', 'covering', 'existence', 'apartments', 'warning', 'aircraft', 'contained', 'chest', 'reputation', 'concerning', 'garage', 'clubs', 'collected', 'fingers', 'producing', 'ease', 'patch', 'murder', 'inspiration', 'aim', 'matches', 'fits', 'amateur', 'rated', 'architecture', 'guard', 'generic', 'wealth', 'reflect', 'continuing', 'assembly', 'kinda', 'flexible', 'introduction', 'l', 'urban', 'establish', 'loose', 'regardless', 'mixture', 'entitled', 'sing', 'staying', 'weak', 'marked', 'proposal', 'drawn', 'terrible', 'merely', 'achieved', 'intelligence', 'developers', 'limits', 'wave', 'rice', 'factory', 'powered', 'vary', 'sees', 'mini', 'victims', 'festival', 'nose', 'directions', 'entries', 'somebody', 'setup', 'crash', 'blame', 'broad', 'accessible', 'equivalent', 'holes', 'laid', 'juice', 'falls', 'personality', 'explains', 'enemy', 'breath', 'contribute', 'certified', 'responses', 'risks', 'struggle', 'driven', 'meets', 'anybody', 'nobody', 'suspect', 'hanging', 'solo', 'literature', 'closing', 'expand', 'dude', 'correctly', 'soil', 'uk', 'arrive', 'suggests', 'plot', 'widely', 'drives', 'contrast', 'trail', 'debut', 'del', 'fake', 'consideration', 'sufficient', 'dancing', 'dirty', 'subjects', 'belt', 'di', 'landscape', 'sensitive', 'injuries', 'suppose', 'piano', 'bills', 'burn', 'releases', 'chances', 'marks', 'guaranteed', 'powers', 'strike', 'exists', 'ongoing', 'choosing', 'crap', 'forest', 'stretch', 'belief', 'heading', 'western', 'ratio', 'boost', 'impressed', 'photographs', 'visible', 'conversion', 'storm', 'exposed', 'cameras', 'soldiers', 'sentence', 'powder', 'involving', 'opens', 'partnership', 'consists', 'finger', 'granted', 'lock', 'compatible', 'indicate', 'pregnancy', 'graphic', 'pot', 'da', 'dick', 'vital', 'scientists', 'centers', 'wake', 'southern', 'recognition', 'hardly', 'dish', 'expansion', 'awarded', 'occasion', 'zero', 'ultimately', 'strongly', 'challenging', 'incident', 'smell', 'escape', 'routine', 'cry', 'wheels', 'diverse', 'toy', 'spots', 'singer', 'laser', 'connections', 'pace', 'bone', 'suffer', 'household', 'hide', 'vintage', 'pointed', 'worried', 'summary', 'mess', 'prayer', 'managing', 'actor', 'strategic', 'suck', 'ill', 'dust', 'le', 'incredibly', 'letting', 'guilty', 'ocean', 'drama', 'exception', 'booking', 'naturally', 'engaged', 'structures', 'behalf', 'surely', 'burning', 'joke', 'professor', 'sequence', 'absolute', 'brothers', 'boss', 'latter', 'clips', 'tied', 'moral', 'personnel', 'promotion', 'comedy', 'pants', 'fault', 'apple', 'occurs', 'largely', 'involves', 'formal', 'struck', 'sleeping', 'depression', 'maintained', 'opposed', 'healing', 'wash', 'victim', 'increasingly', 'fabulous', 'favorites', 'hall', 'reducing', 'stronger', 'rising', 'scores', 'sand', 'rural', 'remained', 'anniversary', 'pan', 'confident', 'breaks', 'babies', 'confused', 'requirement', 'unusual', 'comic', 'offensive', 'loud', 'secondary', 'passes', 'hearts', 'talented', 'fantasy', 'universe', 'workshop', 'recall', 'odd', 'philosophy', 'observed', 'versus', 'enterprise', 'oral', 'returning', 'tie', 'delay', 'fiction', 'angle', 'ear', 'broadcast', 'dealer', 'c.', 'golden', 'attempts', 'bid', 'transition', 'bound', 'clicking', 'sharp', 'romantic', 'formula', 'define', 'represented', 'satisfied', 'prints', 'tons', 'cheaper', 'mood', 'assigned', 'officially', 'hunting', 'appointed', 'reception', 'roads', 'pray', 'pitch', 'equally', 'elegant', 'pride', 'heaven', 'voting', 'concrete', 'entering', 'loaded', 'asks', 'forgot', 'dear', 'rings', 'circle', 'guns', 'survive', 'apparatus', 'variable', 'accuracy', 'mad', 'interviews', 'lifetime', 'angry', 'couples', 'painted', 'horses', 'rarely', 'curious', 'teens', 'raising', 'describes', 'satisfaction', 'deserve', 'wise', 'editing', 'explanation', 'prime', 'hitting', 'museum', 'slide', 'enforcement', 'grab', 'sin', 'bug', 'communicate', 'suffered', 'lately', 'photographer', 'figured', 'appreciated', 'gained', 'packed', 'tracking', 'resident', 'barely', 'childhood', 'concepts', 'conclusion', 'fluid', 'translation', 'conservative', 'ordinary', 'displays', 'genuine', 'objective', 'elsewhere', 'theater', 'compete', 'k', 'respective', 'processor', 'vegetables', 'signals', 'dose', 'narrow', 'logic', 'tries', 'engage', 'feat', 'reviewed', 'instrument', 'wooden', 'blend', 'upload', 'rank', 'northern', 'craft', 'scope', 'pepper', 'institution', 'flavor', 'minds', 'enables', 'moon', 'roles', 'intense', 'template', 'coat', 'relating', 'hero', 'fifth', 'complicated', 'combat', 'reverse', 'performances', 'rush', 'sucks', 'jacket', 'strip', 'rough', 'virtually', 'maker', 'essentially', 'evolution', 'respectively', 'consequences', 'participation', 'soccer', 'finest', 'mistakes', 'diamond', 'shock', 'credits', 'principal', 'dresses', 'pushed', 'stomach', 'conventional', 'findings', 'boring', 'references', 'blind', 'overnight', 'demands', 'd.', 'poster', 'maintaining', 'danger', 'tears', 'illness', 'icon', 'worship', 'tune', 'spaces', 'chips', 'buttons', 'wholesale', 'quit', 'innovation', 'substantial', 'argue', 'disaster', 'proved', 'girlfriend', 'shell', 'composition', 'difficulty', 'outcome', 'episodes', 'potentially', 'contributions', 'peak', 'stops', 'sought', 'hill', 'introduce', 'mountains', 'collaboration', 'rapidly', 'delete', 'filling', 'celebration', 'attending', 'accused', 'losses', 'origin', 'deeply', 'lips', 'lawyers', 'applying', 'acquired', 'faced', 'signature', 'supplied', 'exit', 'ears', 'judgment', 'courts', 'wisdom', 'winners', 'ha', 'butt', 'combine', 'slot', 'producer', 'classroom', 'rolling', 'pleasant', 'destroy', 'divided', 'dishes', 'ignore', 'disabled', 'twenty', 'pilot', 'fewer', 'lying', 'bond', 'disappointed', 'bits', 'contribution', 'crystal', 'races', 'acres', 'harm', 'reveal', 'impression', 'em', 'lesbian', 'grace', 'studied', 'themes', 'gap', 'periods', 'precious', 'defensive', 'glasses', 'singles', 'framework', 'liability', 'principle', 'mount', 'threads', 'horrible', 'tits', 'unlike', 'invest', 'interaction', 'pushing', 'shoe', 'excess', 'stages', 'crucial', 'damaged', 'worn', 'measured', 'convenience', 'governments', 'initially', 'seeds', 'instantly', 'walks', 'carrier', 'plug', 'sheets', 'insight', 'exceptional', 'hip', 'vice', 'heavily', 'tutorial', 'max', 'layers', 'preview', 'rely', 'decline', 'dramatic', 'agenda', 'invite', 'seller', 'upset', 'loop', 'rocks', 'honestly', 'speaks', 'applies', 'exercises', 'reaching', 'ownership', 'publishing', 'shame', 'approaches', 'declared', 'highlights', 'ai', 'corn', 'sum', 'sole', 'deeper', 'colored', 'entertaining', 'addiction', 'el', 'silly', 'pizza', 'cd', 'signing', 'trick', 'substance', 'workout', 'colleagues', 'mystery', 'grounds', 'phrase', 'muscles', 'english', 'pipe', 'expense', 'penalty', 'segment', 'mounted', 'refused', 'attract', 'attractions', 'intelligent', 'dot', 'captured', 'demonstrate', 'aged', 'casual', 'humor', 'promised', 'profits', 'arguments', 'thrown', 'banking', 'ed', 'happiness', 'sorts', 'advantages', 'emphasis', 'produces', 'stylish', 'mid', 'representation', 'outer', 'denied', 'rescue', 'intellectual', 'lab', 'un', 'stability', 'calm', 'dying', 'actors', 'rapid', 'ugly', 'pin', 'drops', 'involve', 'junior', 'hook', 'dvd', 'roots', 'loads', 'besides', 'patent', 'brush', 'tongue', 'dual', 'defend', 'poverty', 'liberal', 'terminal', 'gender', 'waters', 'highlight', 'scared', 'nervous', 'waves', 'completion', 'resume', 'complaint', 'poetry', 'targets', 'jazz', 'duties', 'throwing', 'dozen', 'acceptable', 'pc', 'nuts', 'watches', 'kiss', 'delivers', 'holy', 'experiment', 'universal', 'innocent', 'subscription', 'essay', 'pulling', 'targeted', 'subsequent', 'struggling', 'representing', 'timing', 'admitted', 'expanded', 'superb', 'spectacular', 'sons', 'witness', 'static', 'expecting', 'excuse', 'forgotten', 'scan', 'settled', 'enhanced', 'rail', 'focusing', 'occasionally', 'apparent', 'alert', 'ought', 'surrounded', 'finishing', 'constructed', 'frames', 'mechanical', 'beliefs', 'soup', 'dealers', 'void', 'no.', 'parallel', 'frequent', 'spare', 'cure', 'restore', 'unfortunately', 'arrangements', 'discovery', 'receives', 'spoken', 'survival', 'emotions', 'scoring', 'complaints', 'calories', 'enemies', 'distinct', 'searches', 'dressed', 'absence', 'animation', 'artwork', 'inspection', 'worker', 'pen', 'vertical', 'asian', 'fails', 'convinced', 'abstract', 'examination', 'candy', 'annoying', 'overcome', 'destruction', 'nicely', 'abroad', 'threw', 'popularity', 'll', 'franchise', 'balanced', 'refers', 'resulted', 'realistic', 'movements', 'indoor', 'durable', 'concentration', 'horror', 'asset', 'paintings', 'costume', 'courtesy', 'succeed', 'divorce', 'remarkable', 'tail', 'slight', 'monster', 'bother', 'championship', 'fascinating', 'violent', 'enjoyable', 'drunk', 'venture', 'ridiculous', 'reminds', 'involvement', 'anger', 'consistently', 'conditioning', 'aimed', 'unlikely', 'outlet', 'facial', 'champion', 'possibilities', 'identification', 'scary', 'thoroughly', 'depend', 'aggressive', 'importantly', 'suicide', 'documentary', 'diversity', 'accomplished', 'democracy', 'encounter', 'laughing', 'fallen', 'fancy', 'deleted', 'authentic', 'overview', 'wing', 'sudden', 'prevention', 'begun', 'passage', 'gathering', 'import', 'labels', 'theatre', 'painful', 'edges', 'killer', 'makeup', 'gambling', 'footage', 'plates', 'crimes', 'abilities', 'trials', 'regards', 'contributed', 'texture', 'musicians', 'spell', 'adequate', 'grateful', 'glory', 'dated', 'american', 'interpretation', 'creativity', 'excitement', 'hi', 'physically', 'physician', 'sake', 'armed', 'genre', 'safely', 'trusted', 'territory', 'celebrity', 'ate', 'shaped', 'frozen', 'wrap', 'actress', 'emerging', 'carries', 'hired', 'beautifully', 'spin', 'extraordinary', 'handy', 'focuses', 'deaths', 'suggestion', 'hospitals', 'blank', 'delivering', 'ton', 'followers', 'odds', 'toilet', 'hence', 'roughly', 'acquire', 'silent', 'buried', 'integrity', 'skilled', 'arrest', 'settle', 'scenario', 'manufactured', 'alleged', 'grey', 'magnetic', 'hungry', 'gang', 'sophisticated', 'qualify', 'dialogue', 'chemicals', 'generations', 'intent', 'producers', 'examine', 'remind', 'alongside', 'suits', 'archive', 'neutral', 'possession', 'tale', 'disagree', 'awful', 'demonstrated', 'badly', 'criticism', 'minimal', 'capability', 'sub', 'catalog', 'anime', 'bulk', 'belong', 'evaluate', 'suspension', 'surprising', 'beaches', 'promises', 'pad', 'derived', 'blessed', 'drum', 'shapes', 'gentle', 'romance', 'achievement', 'enormous', 'converted', 'steam', 'environments', 'stroke', 'handed', 'mask', 'forming', 'repeated', 'reveals', 'establishment', 'poem', 'beats', 'alike', 'slip', 'sisters', 'drag', 'bold', 'xxx', 'protecting', 'worthy', 'pursue', 'throat', 'intention', 's.', 'inform', 'nasty', 'dumb', 'directors', 'composed', 'imagination', 'trim', 'wrapped', 'breathing', 'counts', 'accomplish', 'boats', 'classical', 'execution', 'mainstream', 'rolled', 'bite', 'sits', 'voices', 'chamber', 'remembered', 'exhibit', 'exploring', 'stays', 'con', 'epic', 'pie', 'canvas', 'seal', '3d', 'bomb', 'wars', 'reward', 'associate', 'screening', 'wildlife', 'dependent', 'entity', 'whereas', 'lemon', 'highway', 'fitting', 'citizen', 'exclusively', 'ties', 'lover', 'determination', 'lovers', 'affects', 'valley', 'charm', 'athletes', 'sucking', 'considerable', 'placing', 'shadow', 'developments', 'beating', 'surfaces', 'bankruptcy', 'mere', 'attempted', 'adorable', 'engaging', 'caring', 'artificial', 'artistic', 'twin', 'spectrum', 'relate', 'steady', 'paste', 'unemployment', 'assault', 'grip', 'christmas', 'climb', 'prominent', 'collective', 'torrent', 'pays', 'tremendous', 'tap', 'bow', 'workshops', 'generous', 'aims', 'immune', 'seeks', 'makers', 'differently', 'landing', 'rape', 'refuse', 'silence', 'reminded', 'unlimited', 'globe', 'par', 'solely', 'veteran', 'dies', 'temple', 'underground', 'treating', 'behaviour', 'sink', 'backed', 'requiring', 'so-called', 'unexpected', 'cares', 'fax', 'gray', 'wider', 'friendship', 'progressive', 'tourism', 'effectiveness', 'titled', 'logical', 'gently', 'tricks', 'jury', 'nail', 'pointing', 'endless', 'cartoon', 'celebrated', 'exterior', 'laundry', 'lazy', 'placement', 'grain', 'selecting', 'investigate', 'bearing', 'devoted', 'steal', 'eastern', 'revolution', 'blade', 'heritage', 'betting', 'processed', 'secrets', 'accommodate', 'admission', 'discipline', 'na', 'desert', 'specialized', 'underlying', 'sometime', 'nationwide', 'deserves', 'responsibilities', 'assuming', 'duration', 'quest', 'mild', 'speeds', 'colorful', 'passionate', 'yield', 'precise', 'closest', 'welfare', 'enjoys', 'angel', 'handled', 'folk', 'stones', 'accompanied', 'graduated', 'tension', 'marine', 'operational', 'canada', 'gross', 'shelf', 'bikes', 'dimensions', 'lawn', 'hilarious', 'beings', 'cam', 'pour', 'shoulders', 'twelve', 'united', 'lasting', 'difficulties', 'blast', 'tender', 'trash', 'praise', 'terrorist', 'encouraging', 'bytes', 'centuries', 'operates', 'rolls', 'mothers', 'humanity', 'tear', 'convention', 'acceptance', 'touched', 'memorable', 'bored', 'flesh', 'worlds', 'swim', \"'em\", 'twist', 'province', 'intervention', 'relaxed', 'soap', 'coal', 'elite', 'informative', 'von', 'queen', 'funeral', 'wherever', 'coupled', 'rejected', 'illustrated', 'burden', 'don', 'confusion', 'shake', 'cultures', 'charming', 'subtle', 'departments', 'grocery', 'visitor', 'fence', 'hop', 'tops', 'bones', 'assured', 'beneath', 'wondered', 'viewers', 'daughters', 'vacuum', 'portrait', 'nowhere', 'ignored', 'lightweight', 'commentary', 'alternatives', 'isolated', 'heated', 'classified', 'wore', 'meaningful', 'beside', 'advised', 'puppy', 'rally', 'winds', 'handles', 'failing', 'precisely', 'striking', 'crossed', 'laboratory', 'profession', 'physics', 'real-time', 'tribute', 'drawings', 'timely', 'preferably', 'shorter', 'calculated', 'controlling', 'kills', 'magical', 'satisfy', 'deny', 'limitations', 'notion', 'legacy', 'bonds', 'psychological', 'reaches', 'sleeve', 'antique', 'climbing', 'beloved', 'der', 'ii', 'drew', 'legend', 'assignment', 'corruption', 'strings', 'kingdom', 'sacrifice', 'dig', 'proceed', 'simultaneously', 'woods', 'clinic', 'closure', 'scratch', 'lighter', 'resist', 'built-in', 'mixing', 'intensity', 'sixth', 'minority', 'screens', 'waited', 'grows', 'aging', 'hybrid', 'assess', 'clever', 'wines', 'recommendation', 'elderly', 'generating', 'captain', 'inspiring', 'anonymous', 'hills', 'abandoned', 'squad', 'margin', 'complain', 'warned', 'stepped', 'amp', 'shine', 'creatures', 'knees', 'reduces', 'ranks', 'cleaner', 'tub', 'competing', 'reflects', 'executed', 'flood', 'instances', 'sunny', 'handful', 'curve', 'animated', 'thou', 'jet', 'conversations', 'sends', 'moisture', 'reflection', 'survived', 'qualities', 'invitation', 'radical', 'motivation', 'replacing', '``', 'darkness', 'dozens', 'organize', 'bride', 'independence', 'commands', 'transparent', 'genius', 'variations', 'hottest', 'onion', 'obligation', 'cousin', 'ethnic', 'appreciation', 'desperate', 'secretary', 'combines', 'mounting', 'adopt', 'punch', 'sooner', 'hoped', 'defeated', 'puzzle', 'essence', 'ye', 'instructor', 'slave', 'explaining', 'demanding', 'floating', 'courage', 'fears', 'breed', 'belly', 'chick', 'legendary', 'tomatoes', 'suspended', 'starter', 'interact', 'economics', 'threatened', 'testimony', 'clue', 'shocked', 'tattoo', 'implications', 'portions', 'drain', 'afterwards', 'neighbor', 'vulnerable', 'strict', 'collar', 'meter', 'overwhelming', 'counting', 'saves', 'jersey', 'occasional', 'goodness', 'consciousness', 'reasonably', 'brass', 'strikes', 'comics', 'controversial', 'dough', 'sellers', 'shades', 'useless', 'accepting', 'prospect', 'routes', 'midnight', 'laughed', 'experimental', 'offset', 'patience', 'asleep', 'lounge', 'tourists', 'possess', 'jack', 'barrel', 'influenced', 'punishment', 'careers', 'blues', 'pill', 'fate', 'editorial', 'magnificent', 'clouds', 'convince', 'thirty', 'ensures', 'seemingly', 'freely', 'corners', 'raises', 'protective', 'perception', 'genes', 'literary', 'executives', 'suited', 'pork', 'repeatedly', 'motivated', 'gradually', 'collapse', 'descriptions', 'chemistry', 'exotic', 'neat', 'transformation', 'honored', 'buddy', 'treats', 'substitute', 'breasts', 'bubble', 'significance', 'skip', 'sticks', 'closet', 'readily', 'dealt', 'embedded', 'stamp', 'alternate', 'tasty', 'tends', 'critics', 'divine', 'feeds', 'delighted', 'heels', 'bare', 'affair', 'bang', 'departure', 'icons', 'batch', 'shorts', 'exploration', 'sword', 'noon', 'pose', 'workplace', 'excellence', 'biography', 'french', 'bears', 'keen', 'adapted', 'traditions', 'deficit', 'boundaries', 'tooth', 'archives', 'intimate', 'variation', 'performs', 'narrative', 'hood', 'offerings', 'catching', 'transform', 'fool', 'pollution', 'eager', 'comparing', 'mall', 'adventures', 'desires', 'compelling', 'athletic', 'racist', 'belongs', 'vibrant', 'verse', 'practically', 'surprisingly', 'proceedings', 'panic', 'conscious', 'pile', 'partly', 'ranges', 'reminder', 'lean', 'draws', 'volumes', 'suggesting', 'couch', 'legally', 'bucks', 'countless', 'efficiently', 'paths', 'coating', 'ours', 'achieving', 'hrs', 'drill', 'turkey', 'palm', 'trains', 'psychology', 'harsh', 'lane', 'touching', 'enabling', 'jokes', 'lobby', 'creator', 'snap', 'york', 'reflected', 'observation', 'hiding', 'torture', 'mysterious', 'restored', 'tactics', 'alien', 'sporting', 'tuned', 'advances', 'cooler', 'deer', 'strictly', 'wound', 'extends', 'prescribed', 'attraction', 'j', 'promising', 'anticipated', 'incorporate', 'bless', 'terrorism', 'presenting', 'garbage', 'decides', 'linear', 'terror', 'novels', 'delight', 'cellular', 'unnecessary', 'resolved', 'tanks', 'observe', 'appearing', 'fights', 'circles', 'gaining', 'deemed', 'fame', 'veterans', 'shore', 'recovered', 'sheer', 'hint', 'junk', 'affecting', 'describing', 'uncomfortable', 'continually', 'versatile', 'marry', 'synthetic', 'spreading', 'embrace', 'experiments', 'confusing', 'separation', 'mechanisms', 'reporters', 'delayed', 'permits', 'theories', 'phenomenon', 'kissing', 'yo', 'establishing', 'recruiting', 'ups', 'urge', 'knock', 'dramatically', 'zoom', 'inspire', 'renowned', 'regret', 'insane', 'orientation', 'lightly', 'symbols', 'pressed', 'addressing', 'graduation', 'london', 'flows', 'occupied', 'throws', 'lecture', 'treasure', 'sealed', 'insights', 'terrific', 'pit', 'gauge', 'arrives', 'toxic', 'precision', 'heal', 'updating', 'homework', 'attachment', 'companion', 'accurately', 'bitter', 'cuisine', 'strain', 'accent', 'beaten', 'existed', 'dominant', 'observations', 'indication', 'journalists', 'march', 'deadly', 'nerve', 'cinema', 'loses', 'emotion', 'niche', 'thrilled', 'cheat', 'briefly', 'talents', 'casting', 'journalist', 'democratic', 'fighter', 'heroes', 'concentrate', 'stereo', 'proceeds', 'males', 'rap', 'borders', 'audiences', 'appealing', 'robust', 'dive', 'challenged', 'screaming', 'roster', 'analyze', 'seasonal', 'evident', 'bout', 'predict', 'teenage', 'gods', 'surf', 'ethical', 'india', 'potato', 'complexity', 'matrix', 'delicate', 'distinctive', 'camps', 'alter', 'longest', 'california', 'pre', 'blown', 'los', 'surveys', 'approached', 'clarity', 'trademark', 'babes', 'emerged', 'triple', 'castle', 'thorough', 'lacking', 'eternal', 'justify', 'underneath', 'builds', 'strips', 'ethics', 'trace', 'fortune', 'organ', 'diesel', 'sensitivity', 'kicks', 'rewards', 'dare', 'faithful', 'stake', 'compromise', 'arise', 'distant', 'reportedly', 'loyal', 'boobs', 'desirable', 'bloody', 'remarks', 'labour', 'traveled', 'approaching', 'nails', 'acute', 'suspected', 'foster', 'brave', 'technological', 'nurses', 'smiling', 'costumes', 'unlock', 'distinction', 'obligations', 'span', 'rope', 'indian', 'expects', 'slim', 'recycling', 'enthusiasm', 'dedication', 'springs', 'soundtrack', 'costly', 'terrorists', 'quietly', 'pub', 'creature', 'ghost', 'demonstration', 'weddings', 'evolved', 'poorly', 'transit', 'encountered', 'frustrated', 'grandmother', 'manages', 'controversy', 'spirits', 'shelves', 'joins', 'fires', 'starring', 'plasma', 'matched', 'trap', 'firmly', 'um', 'dimension', 'parade', 'employ', 'allegedly', 'releasing', 'showcase', 'achievements', 'welcomed', 'meditation', 'refreshing', 't.', 'fried', 'disabilities', 'tones', 'bias', 'sweat', 'burst', 'needing', 'wrestling', 'baked', 'm.', 'hats', 'wit', 'fulfill', 'enters', 'invested', 'washed', 'finishes', 'educate', '1980s', 'linking', 'gel', 'viewer', 'utilizing', 'wasted', 'er', 'sewing', 'forcing', 'opera', 'follow-up', 'scripts', 'grave', 'rhythm', 'maintains', 'coastal', '!?', 'notable', 'hated', 'backyard', 'retreat', 'considerably', 'wonders', 'occupation', 'influences', 'rival', 'frustrating', 'inquiry', 'tragedy', 'heck', 'lit', 'china', 'celebrities', 'sustained', 'impacts', 'threshold', 'scientist', 'swear', 'happily', 'momentum', 'dentist', 'necessity', 'chase', 'ignorant', 'proves', 'cherry', 'answering', 'understands', 'namely', 'react', 'bacon', 'blowing', 'lifted', 'schemes', 'spine', 'crafted', 'varying', 'arriving', 'blanket', 'racial', 'pulse', 'jam', 'stuffed', 'souls', 'introducing', 'lingerie', 'invasion', 'worries', 'dragon', 'bullet', 'tunes', 'translate', 'pulls', 'battles', 'purely', 'hooked', 'complaining', 'pickup', 'nominated', 'surfing', '1970s', 'revolutionary', 'avoiding', 'fare', 'inevitable', 'flies', 'slice', 'float', 'attach', 'cocktail', 'surveillance', 'documented', 'characteristic', 'jar', 'yarn', 'assembled', 'spite', 'weakness', 'sandwich', 'lonely', 'cattle', 'organizing', 'mill', 'firing', 'invented', 'roller', 'hurts', 'conspiracy', 'fifteen', 'co', 'whatsoever', 'delightful', 'boasts', 'highlighted', 'touches', 'navigate', 'lending', 'outline', 'taxi', 'imposed', 'pond', 'sticking', 'inappropriate', 'corrupt', 'activists', 'lifting', 'punk', 'breathe', 'mentally', 'transformed', 'modest', 'utilized', 'prevents', 'grasp', 'angels', 'launching', 'merchant', 'dominated', 'bent', 'acted', 'fifty', 'tendency', 'john', 'rip', 'und', 'revision', 'machinery', 'boom', 'associations', 'genuinely', 'combining', 'erotic', 'flags', 't-shirt', 'warmth', 'midst', 'polished', 'backgrounds', '1960s', 'altogether', 'frustration', 'mobility', 'beast', 'cow', 'shiny', 'equation', 'loyalty', 'arrow', 'demonstrates', 'teenagers', 'anchor', 'san', 'guessing', 'substances', 'uncle', 'bible', 'pretend', 'mud', 'thumbs', 'characterized', 'masters', 'awkward', 'solving', 'hobby', 'wishing', 'structured', 'hairy', 'chaos', 'surgeon', 'handsome', 'prisoners', 'consequence', 'preliminary', 'rider', 'explosion', 'radar', 'invisible', 'supposedly', 'broader', 'lesser', 'christian', 'probe', 'recreational', 'believing', 'unfortunate', 'resorts', 'hack', 'jealous', 'technically', 'crisp', 'definitions', 'showers', 'fraction', 'forgive', 'classification', 'conflicts', 'breakdown', 'construct', 'ballot', 'humble', 'mercy', 'discretion', 'consistency', 'poet', 'grounded', 'varies', 'enjoyment', 'playoff', 'surroundings', 'dynamics', 'glance', 'hints', 'princess', 'struggles', 'wounded', 'profound', 'flame', 'improves', 'memorial', 'foul', 'encourages', 'sadly', 'rocket', 'therapeutic', 'defines', 'debts', 'conviction', 'develops', 'bra', 'bull', 'slides', 'witnesses', 'masses', 'satisfying', 'salvation', 'ingredient', 'smallest', 'switches', 'incidents', 'pale', 'recycled', 'les', 'favour', 'teenager', 'thesis', 'rendered', 'clicks', 'gates', 'sunset', 'mighty', 'altered', 'fighters', 'consuming', 'cricket', 'billing', 'salaries', 'advertisement', 'empire', 'founding', 'eh', 'defining', 'hunger', 'cage', 'senses', 'recreation', 'scandal', 'duck', 'journalism', 'strengths', 'conclusions', 'bizarre', 'distinguished', 'ruin', 'complications', 'grandfather', 'spinning', 'dip', 'snacks', 'rude', 'witnessed', 'sketch', 'glorious', 'streak', 'realm', 'consume', 'gravity', 'sucked', 'hardest', 'simulation', 'cope', 'nowadays', 'wears', 'struggled', 'brutal', 'sequences', 'kicking', 'rewarding', 'sights', 'stranger', 'spy', 'fatal', 'cops', 'america', 'architect', 'sequel', 'influential', 'wives', 'barriers', 'chinese', 'shallow', 'honors', 'assumption', 'deserved', 'torn', 'attitudes', 'introduces', 'q', 'praying', 'japanese', 'households', 'arguing', 'laughter', 'undergraduate', 'performers', 'si', 'collaborative', 'marker', 'nomination', 'blah', 'perfection', 'inviting', 'bush', 'virgin', 'lo', 'promotes', 'sensation', 'exceptions', 'unity', 'lil', 'miracle', 'toes', 'scam', 'trapped', 'scenery', 'pencil', 'considers', 'fork', 'pig', 'owe', 'commerce', 'crowded', 'freshman', 'appeals', 'bronze', 'athlete', 'stealing', 'martial', 'competent', 'echo', 'smoothly', 'doc', 'practitioners', 'studios', 'cop', 'consumed', 'lively', 'tales', 'balloon', 'clutch', 'escort', 'rat', 'guilt', 'bucket', 'guarantees', 'in-depth', 'laptops', 'sexually', 'envelope', 'plumbing', 'cracked', 'elevated', 'wallet', 'tolerance', 'expressions', 'dosage', 'staring', 'dismissed', 'bolt', 'roses', 'commenting', 'pursuing', 'nationally', 'render', 'intentions', 'fathers', 'mechanics', 'imagined', 'revealing', 'disturbing', 'award-winning', 'composer', 'sustain', 'pipeline', 'gem', 'por', 'stimulus', 'uncertainty', 'utterly', 'rounded', 'nevertheless', 'lame', 'readings', 'dull', 'bust', 'scenarios', 'depressed', 'fairy', 'nonsense', 'angles', 'sunshine', 'racism', 'metro', 'skinny', 'sticky', 'dash', 'stiff', 'checkout', 'lord', 'refined', 'rage', 'dialog', 'societies', 'sterling', 'mat', 'disappointing', 'renewal', 'brains', 'monkey', 'nightmare', 'hunter', 'circular', 'buzz', 'strongest', 'clause', 'credibility', 'compassion', 'shadows', 'tragic', 'candles', 'passive', 'spicy', 'bump', 'pros', 'straightforward', 'publicity', 'runner', 'borrow', 'rushed', 'expose', 'picnic', 'politically', 'participant', 'sour', 'crush', 'swinging', 'decorating', 'myth', 'elaborate', 'rendering', 'bean', 'severely', 'openly', 'thoughtful', 'smiles', 'upside', 'framed', 'bothered', 'rises', 'traditionally', 'sincere', 'grief', 'emerge', 'criminals', 'daddy', 'appetite', 'pissed', 'stance', 'sa', 'twisted', 'spice', 'puppies', 'disappointment', 'implies', 'trades', 'glow', 'explicit', 'lottery', 'anxious', 'pause', 'someday', 'doses', 'aids', 'governance', 'shifts', 'pumpkin', 'succeeded', 'emotionally', 'illustrates', 'adaptation', 'admire', 'mortality', 'snake', 'invites', 'shifting', 'surround', 'infinite', 'breach', 'undoubtedly', 'spark', 'worthwhile', 'glimpse', 'pronounced', 'simpler', 'screwed', 'origins', 'clarify', 'finale', 'simplicity', 'ford', 'awake', 'scream', 'urgent', 'shoots', 'ample', 'eighth', 'interference', 'accepts', 'noble', 'overly', 'hurry', 'assurance', 'scare', 'cheer', 'wasting', 'ambitious', 'sounding', 'cheats', 'chill', 'squeeze', 'wicked', 'crushed', 'markers', 'desperately', 'enthusiastic', 'partnerships', 'eliminating', 'syrup', 'urine', 'tricky', 'speculation', 'generates', 'shaking', 'explores', 'argues', 'liking', 'negotiate', 'toss', 'methodology', 'advertised', 'denial', 'misses', 'scattered', 'centered', 'writings', 'swingers', 'dangers', 'pearl', 'frankly', 'cracks', 'spotlight', 'lengthy', 'hammer', 'modem', 'compliment', 'transparency', 'convey', 'intriguing', 'virtue', 'lectures', 'ray', 'inability', 'exhibits', 'intro', 'shocking', 'spends', 'crowds', 'naughty', 'hands-on', 'religions', 'filming', 'hatred', 'dawn', 'underwear', 'stretched', 'obstacles', 'toast', 'australia', 'activate', 'tuning', 'propaganda', 'lion', 'shout', 'melt', 'ladder', 'abused', 'commercials', 'tissues', 'progression', 'flush', 'peanut', 'amid', 'nonetheless', 'cared', 'poses', 'comfortably', 'knitting', 'whites', 'trio', 'survivors', 'intact', 'orgasm', 'laughs', 'vampire', 'minus', 'dancers', 'worrying', 'advocacy', 'filmed', 'enthusiasts', 'sneak', 'iconic', 'closes', 'dumped', 'revenge', 'lengths', 'bore', 'inherent', 'catches', 'hype', 'indie', 'carved', 'louis', 'hug', 'troubled', 'playlist', 'lodging', 'arising', 'honesty', 'absent', 'similarly', 'unprecedented', 'duplicate', 'dense', '1950s', 'leap', 'mileage', 'lacks', 'definite', 'cult', 'rug', 'optimistic', 'cruel', 'surge', 'projection', 'civilization', 'drying', 'aesthetic', 'towers', 'ego', 'captures', 'pathetic', 'tens', 'glucose', 'perspectives', 'devastating', 'forty', 'slavery', 'performer', 'mankind', 'energetic', 'crude', 'positively', 'proving', 'doubles', 'tightly', 'binary', 'dignity', 'practiced', 'diary', 'appropriately', 'monsters', 'prone', 'comprise', 'aliens', 'accompanying', 'blacks', 'surprises', 'darker', 'comparisons', 'exhausted', 'isolation', 'expressing', 'debris', 'popped', 'halfway', 'warnings', 'ah', 'blows', 'retro', 'sleek', 'fusion', 'merit', 'constraints', 'nursery', 'questioning', 'convincing', 'liner', 'juicy', 'obsessed', 'toddler', 'creepy', 'divisions', 'cloudy', 'traits', 'stud', 'foremost', 'singers', 'eleven', 'communicating', 'enhancing', 'celebrates', 'dysfunction', 'calculations', 'curves', 'spill', 'persistent', 'entertain', 'chords', 'inhabitants', 'exquisite', 'gut', 'gum', 'warrior', 'judging', 'curiosity', 'continent', 'rats', 'irrelevant', 'pa', 'distinguish', 'freight', 'burns', 'buck', 'strangers', 'ruined', 'heights', 'unhappy', 'ignoring', 'stirring', 'resolutions', 'portraits', 'lungs', 'jumps', 'bombs', 'beers', 'arc', 'doubts', 'beginners', 'sweep', 'shortage', 'abundant', 'scenic', \"'n\", 'marking', 'sentiment', 'implied', 'absorb', 'lend', 'rode', 'tract', 'lowered', 'gadgets', 'verbal', 'absorbed', 'wounds', 'bio', 'inquiries', 'acclaimed', 'jungle', 'escaped', 'uncertain', 'explored', 'favors', 'addicted', 'notably', 'premise', 'creations', 'undertaken', 'discovering', 'gaps', 'imagery', 'encyclopedia', 'warn', 'headaches', 'elegance', 'suspects', 'interpret', 'indigenous', 'velocity', 'albeit', 'scrap', 'yields', 'realizing', 'underway', 'fade', 'classics', 'cardiac', 'remotely', 'terribly', 'seated', 'recovering', 'visually', 'bumper', 'explosive', 'feminine', 'reign', 'idiots', 'melted', 'inspirational', 'shining', 'compositions', 'impress', 'overwhelmed', 'willingness', 'lifts', 'recognizes', 'infants', 'bowling', 'ritual', 'sympathy', 'themed', 'dolls', 'gourmet', 'turf', 'hardwood', 'evenings', 'iii', 'cartoons', 'productions', 'deliberately', 'chasing', 'underwater', 'humidity', 'behave', 'mixer', 'unclear', 'retrieve', 'expectation', 'loops', 'messy', 'lodge', 'refuses', 'siblings', 'stimulate', 'capturing', 'assign', 'hates', 'sufficiently', 'historically', 'wonderfully', 'freaking', 'woven', 'rigid', 'grandparents', 'clerk', 'adjusting', 'ministers', 'breathtaking', 'vivid', 'eats', 'reunion', 'economical', 'misleading', 'curtain', 'distances', 'dominate', 'unbelievable', 'rivals', 'ounce', 'relevance', 'personalities', 'fireworks', 'cows', 'overlooked', 'russian', 'spider', 'subscriber', 'charitable', 'feast', 'circa', 'cliff', 'credited', 'pat', 'theaters', 'slope', 'german', 'pleasing', 'elephant', 'examines', 'accents', 'gifted', 'lush', 'detailing', 'flaws', 'tattoos', 'refresh', 'photographic', 'revelation', 'wholly', 'emailed', 'satin', 'shifted', 'directing', 'mistaken', 'uh', 'zombie', 'surviving', 'sophomore', 'civic', '70s', 'margins', 'kindness', 'outs', 'android', 'jaw', 'merge', 'miserable', 'batting', 'prince', 'examining', 'dreaming', 'swept', 'rainbow', 'conscience', 'fills', 'collision', 'notch', 'immense', 'puzzles', 'subjected', 'weighs', 'amazingly', 'dots', 'ashamed', 'ninth', 'fuels', 'hopeful', 'compressed', 'polite', 'lick', 'manipulation', 'unsure', 'splash', 'flashing', 'hollow', 'borrowed', 'stitch', 'warfare', 'skies', 'swallow', 'high-end', 'all-time', 'sexuality', 'thereafter', 'evolve', 'pains', 'pledge', 'waking', 'amusing', 'robots', 'chin', 'crappy', 'illusion', 'spells', 'ensemble', 'imply', 'widget', 'overweight', 'stockings', 'gratitude', 'tiger', 'discomfort', 'ruins', 'smarter', 'seasoned', 'curse', 'posing', 'evenly', 'spanish', 'comeback', 'nerves', 'groove', 'david', 'f.', 'confirms', 'ham', 'secular', 'tempted', 'critic', 'chooses', 'exceptionally', 'endorsement', 'installment', 'distress', 'messenger', 'exchanges', 'vague', 'landmark', 'definitive', 'yourselves', 'undergo', 'renting', 'rejection', 'minded', 'invaluable', 'philosophical', 'evolving', 'lanes', 'exploit', 'coloured', 'peek', 'servants', 'capitalism', 'pupils', 'clone', 'surrender', 'repeating', 'explanations', 'destiny', 'triangle', 'fellowship', 'demographic', 'extras', 'balancing', 'anticipation', 'sausage', 'sweeping', 'thrust', 'assumes', 'bypass', 'welcomes', 'socially', 'innovations', 'boiling', 'funky', 'surplus', 'tu', 'noticeable', 'supermarket', 'multitude', 'ideally', 'encounters', 'ne', 'bisexual', 'prom', 'learns', 'forgiveness', 'predictable', 'critically', 'aiming', 'tossed', 'norm', 'freshly', 'veggies', 'insult', 'refugees', 'semi', 'dunno', 'landscapes', 'maturity', 'vent', 'risky', 'theology', 'reel', 'hostile', 'hooks', 'pitched', 'steadily', 'obscure', 'violated', 'blended', 'incorporates', 'saddle', 'impressions', 'exceeds', 'detached', 'goodies', 'endure', 'disgusting', 'retaining', 'bubbles', 'abandon', 'flames', 'witch', 'elect', 'coral', 'cardboard', 'absurd', 'northwest', 'piss', 'prey', 'destructive', 'accomplishments', 'chicago', 'gears', 'uniquely', 'equals', 'canon', 'obsession', 'arbitrary', 'critique', 'remembering', 'analytical', 'professors', 'unaware', 'fragile', 'biblical', 'ram', 'canadian', 'inevitably', 'masterpiece', 'suffers', 'genres', 'variant', 'inadequate', 'aerial', 'transported', 'rhetoric', 'whip', 'cheek', 'classy', 'spreads', 'burnt', 'wells', 'verdict', 'timeless', 'plea', 'questionable', 'madness', 'numbered', 'passages', 'utter', 'ho', 'respects', 'needles', 'subjective', 'relies', 'shaping', 'prisoner', 'rails', 'denying', 'leaning', 'skins', 'embarrassed', 'fierce', 'reluctant', 'recognise', 'weaknesses', 'rainy', 'undo', 'neglected', 'sincerely', 'bees', 'hereby', 'biased', 'bind', 'longtime', 'arguably', 'ward', 'friday', 'cushion', 'creek', 'foolish', 'intentionally', 'thriller', 'governmental', 'pity', 'collectively', 'morality', 'burger', 'sung', 'mixes', 'james', 'cleansing', 'potent', 'rash', 'rewarded', 'transcript', 'contributes', 'gems', 'routinely', 'strokes', 'wizard', 'credible', 'demonstrating', 'stripped', 'recalls', 'backdrop', 'indoors', 'peaks', 'eve', 'ideology', 'affection', 'mama', 'routines', 'popping', 'confined', 'hypothesis', 'reside', 'geared', 'prolonged', 'detention', 'vagina', 'wrapping', 'michael', 'curtains', 'dances', 'scarf', 'barrels', 'phenomena', 'moist', 'provincial', 'mexico', 'spiral', 'ballet', 'rant', 'projector', 'ripe', 'canned', 'fist', 'reconstruction', 'fictional', 'tier', 'sparkling', 'offended', 'adequately', 'vein', 'vibe', 'vulnerability', 'relying', 'bites', 'leagues', 'clan', 'seamless', 'mindset', 'ash', 'noisy', 'bullets', 'geographical', 'converts', 'wraps', 'reflective', 'coordinated', 'gossip', 'finely', 'employs', \"'n'\", 'juvenile', 'relieved', 'remake', 'booty', 'unrelated', 'suburban', 'domination', 'accessibility', 'cons', 'annoyed', 'fulfilling', 'atmospheric', 'champagne', 'traces', 'humour', 'textbook', 'day-to-day', 'unified', 'breakthrough', 'forbidden', 'guiding', 'depicted', 'weighed', 'secretly', 'arch', 'paul', 'handheld', 'entertained', 'chris', 'tackles', 'grind', 'pushes', 'pal', 'symbolic', 'traveler', 'irony', 'eagle', 'realization', 'reductions', 'loser', 'refusing', 'disposable', 'harbor', 'unforgettable', 'thrill', 'mug', 'melting', 'detective', 'storyline', 'cracking', 'reviewers', 'counterparts', 'set-up', 'believer', 'outright', 'dependence', 'washington', 'reproduce', 'soothing', 'softly', 'mob', 'dragged', 'comfy', 'stare', 'immigrant', 'lone', 'downward', 'flawed', 'dreamed', 'preserving', 'mommy', 'outdated', 'configurations', 'pointless', 'discourse', 'parental', 'vacant', 'fashioned', 'clash', 'apology', 'palette', 'deeds', 'conception', 'fluids', 'ecological', 'depths', 'rocky', 'prophet', 'enhances', 'accumulated', 'sadness', 'stakes', 'academy', 'successor', 'bark', 'leaks', 'hip-hop', 'undergoing', 'psychic', 'slap', 'inferior', 'flick', 'ironic', 'dilemma', 'mornings', 'stretches', 'cheeks', 'seldom', 'crosses', 'widow', 'plots', 'playful', 'alarms', 'photographed', 'greed', 'conceived', 'portrayed', 'deposited', 'primitive', 'gesture', 'figuring', 'stellar', 'paints', 'japan', 'satisfactory', 'merits', 'concludes', 'problematic', 'wreck', 'maid', 'ace', 'mike', 'triumph', 'bonding', 'haul', 'nod', 'flavour', 'stacked', 'successes', 'catalyst', 'creators', 'endurance', 'benchmark', 'undertaking', 'attracting', 'grease', 'conventions', 'despair', 'compensate', 'elder', 'symptom', 'trek', 'padded', 'rooted', 'demons', 'cube', 'advancing', 'fertility', 'grabs', 'brushes', 'addictive', 'relied', 'scrutiny', 'distanced', 'splendid', 'tense', 'dismiss', 'crawl', 'stimulating', 'lifelong', 'atop', 'avid', 'tougher', 'unpleasant', 'gaze', 'majors', 'remarkably', 'world-class', 'understandable', 'downs', 'jelly', 'beg', 'zipper', 'registering', 'stains', 'italian', 'outing', 'veins', 'ceremonies', '1930s', 'exposing', 'exceeding', 'tolerate', 'continuity', 'awe', 'embraced', 'backward', 'expands', 'berry', 'guessed', 'nephew', 'compelled', 'attracts', 'theatrical', 'accomplishment', 'myriad', 'darling', 'outrageous', 'nick', 'phenomenal', 'endangered', 'transplant', 'victories', 'orbit', 'skirts', 'preaching', 'distracted', 'blends', 'addict', 'guardian', 'mai', 'worm', 'framing', 'unacceptable', 'europe', 'devotion', 'preceded', 'infectious', 'savvy', 'w.', 'slowed', 'rubbish', 'pony', 'worthless', 'slick', 'geek', 'porno', 'owed', 'daytime', 'electoral', 'typed', 'whale', 'unstable', 'blond', 'gays', 'equations', 'chord', 'begging', 'hierarchy', 'metropolitan', 'faint', 'yelling', 'inconsistent', 'motorcycles', 'sunday', 'favored', 'humorous', 'rebel', 'insightful', 'withstand', 'privileged', 'dug', 'supernatural', 'disney', 'prejudice', 'insists', 'drawers', 'adhere', 'pee', 'popcorn', 'crashing', 'swift', 'gentlemen', 'o.', 'balances', 'destined', 'hash', 'endeavor', 'interrupted', 'peas', 'prevalent', 'cutter', 'mars', 'coincidence', 'fascinated', 'fantasies', 'warriors', 'sack', 'integrating', 'mock', 'comprehend', 'truths', 'redemption', 'rumor', 'enacted', 'decay', 'holistic', 'bumps', 'grin', 'saturday', 'possessed', 'intricate', 'masturbation', 'collateral', 'sharply', 'feathers', 'homosexual', 'proposes', 'dubbed', 'tom', 'tick', 'regain', 'damned', 'realizes', 'pearls', 'deepest', 'utilizes', 'realities', 'behold', 'schematic', 'resides', 'eternity', 'lust', 'proportions', 'sketches', 'vain', 'simplify', 'mounts', 'chefs', 'dodge', 'notorious', 'digits', 'accidental', 'strains', 'amusement', 'ou', 'bathing', 'purity', 'continuation', 'clocks', 'joe', 'aftermath', 'large-scale', 'circus', 'vanity', 'pursued', 'cone', 'vicious', 'rightly', 'diapers', 'populated', 'refusal', 'swings', 'drained', 'insider', 'smith', 'halloween', 'pedestrian', 'uncover', 'traps', 'coupling', 'thrilling', 'confront', 'restoring', 'panoramic', 'gloss', 'das', 'ambition', 'sensual', 'deliberate', 'dan', 'temptation', 'ally', 'pokemon', 'charms', 'seas', 'unfamiliar', 'shouting', 'mainland', 'resurrection', 'disturbed', 'standardized', 'pastry', 'exploitation', 'fundamentals', 'adventurous', 'wrinkles', 'tactic', 'harmless', 'bob', 'troll', 'arrogant', 'motivate', 'fairness', 'misery', 'monkeys', 'cyber', 'faded', 'paradigm', 'ringing', 'succession', 'baggage', 'scratches', 'singular', 'bounds', 'british', 'expiration', 'beard', 'bodily', 'paris', 'giants', 'sorrow', 'congrats', 'wildly', 'probation', 'explode', 'metaphor', 'odor', 'mediocre', 'spelled', 'layered', 'susceptible', 'cries', 'marvelous', 'highs', 'spontaneous', 'emphasized', 'derivative', 'republic', 'rests', 'naval', 'forefront', 'steals', 'lays', 'fuzzy', 'altar', 'haunted', 'nausea', 'bouquet', 'literal', 'speedy', 'porcelain', 'same-sex', 'visions', 'obstacle', 'ver', 'expressly', 'righteousness', 'hem', 'calculating', 'youngsters', 'conceptual', 'enduring', 'england', 'wander', 'prevalence', 'watts', 'disposition', 'tad', 'depressing', 'lump', 'threatens', 'hugely', 'confuse', 'energies', 'tucked', 'authenticity', 'mysteries', 'possesses', 'compromised', 'dire', 'faults', 'greedy', 'high-tech', 'glossy', 'occupational', 'reminiscent', 'spirituality', 'fundamentally', 'clown', 'resemble', 'co.', 'folds', 'wisely', 'staged', 'chop', 'sewer', 'edits', 'recycle', 'perceptions', 'monument', 'meaningless', 'snapshot', 'bowel', 'nike', 'percussion', 'idol', 'repetitive', 'daunting', 'os', 'hears', 'combustion', 'primer', 'rustic', 'shines', 'scar', 'blender', 'topical', 'gigantic', 'predominantly', 'feminist', 'oversized', 'shores', 'wedge', 'aisle', 'kitten', 'testosterone', 'volatile', 'crank', 'resembles', 'tempting', 'permitting', 'smash', 'naive', 'reminding', 'enforced', 'benefited', 'guru', 'founders', 'horns', 'limbs', 'urges', 'redundant', 'ghosts', 'sympathetic', 'preach', 'vastly', 'bald', 'shave', 'tenth', 'peculiar', 'intentional', 'indulge', 'transitions', 'cue', 'compassionate', 'frightening', 'predecessor', 'unchanged', 'discoveries', 'retains', 'faulty', 'sucker', 'eventual', 'tailor', 'villain', 'murders', 'fringe', 'superstar', 'april', 'storytelling', 'ba', 'brew', 'trimmed', 'homosexuality', 'generosity', 'petite', 'ins', 'upscale', 'animations', 'latin', 'imaginary', 'miracles', 'windshield', 'pertinent', 'reef', 'competence', 'ropes', 'broadly', 'tease', 'motives', 'astonishing', 'emergence', 'pristine', 'inmates', 'poets', 'viewpoint', 'lacked', 'flawless', 'sweetness', 'inflammatory', 'priceless', 'lee', 'highways', 'pleasures', 'shakes', 'retiring', 'chew', 'unpredictable', 'banquet', 'quirky', 'downhill', 'angeles', 'trilogy', 'digest', 'screams', 'flashes', 'smokers', 'overlook', 'stocked', 'innocence', 'marginal', 'specifics', 'forged', 'prose', 'injected', 'cabins', 'weave', 'dim', 'tearing', 'fools', 'thirteen', 'stripe', 'guts', 'fluffy', 'topping', 'induce', 'sermon', 'caliber', 'interpretations', 'toughest', 'aggressively', 'assert', 'greatness', 'tapping', 'spike', 'mexican', 'dependable', 'monopoly', 'sacrifices', 'motions', 'youthful', 'unsuccessful', 'respectable', 'saga', 'optimism', 'slips', 'gracious', 'reliance', 'surveyed', 'recommending', 'old-fashioned', 'filmmaker', 'reflections', 'demise', 'intrigued', 'glamour', 'splitting', 'tummy', 'crossover', 'observer', 'resonance', 'scooter', 'doomed', 'filler', 'distraction', 'palate', 'blending', 'famed', 'rewritten', 'inspector', 'maternal', 'comedian', 'daring', 'flaw', 'novelty', 'sinks', 'richer', 'france', 'sci-fi', 'butterflies', 'glitter', 'flop', 'genocide', 'soaked', 'accountant', 'poised', '50s', 'goose', 'mortal', 'harbour', 'testament', 'cooker', 'spoil', 'disadvantage', 'piercing', 'grips', 'veil', 'neatly', 'grad', 'outward', 'formulas', 'twists', 'witty', 'whistle', 'plague', '?!?', 'slightest', 'friendships', 'mythology', 'ripping', 'akin', 'fuse', 'bouncing', 'paved', 'parody', 'surrounds', 'pornography', 'inherently', 'impulse', 'biting', 'flair', 'knight', 'showcases', 'dwell', 'reconciliation', 'traced', 'furious', 'checklist', 'battlefield', 'funniest', 'puppet', 'investigator', 'seams', 'ventures', 'graffiti', 'bastard', 'crafting', 'gamble', 'bliss', 'snaps', 'aspirations', 'conquer', 'outrage', 'tortured', 'boiled', 'omitted', 'funk', 'adolescents', 'piles', 'pleasantly', 'dean', 'losers', 'carpets', 'pulp', 'dimensional', 'skipped', 'amidst', 'boston', 'inc.', 'limb', 'contempt', 'mugs', 'inspires', 'longevity', 'dope', 'girlfriends', 'suspend', 'pairing', 'stupidity', 'injustice', 'heroic', 'manners', 'noticing', 'wrath', 'voyage', 'theological', 'rob', 'liar', 'self-esteem', 'padding', 'lipstick', 'instinct', 'unexpectedly', 'stubborn', 'paycheck', 'simmer', 'unparalleled', 'beginnings', 'ridiculously', 'ivory', 'depicts', 'confession', 'cumulative', 'sparked', 'devote', 'loosely', 'plunge', 'coping', 'contend', 'hairs', 'immensely', 'convictions', 'postcard', 'horrific', 'filmmakers', 'fuss', 'mistress', 'forwards', 'disappoint', 'terrified', 'wary', 'eclipse', 'rogue', 'cooks', 'jesus', 'separates', 'imaginative', 'poetic', 'ineffective', 'malls', 'characterization', 'marching', 'optic', 'stray', 'crushing', 'hotter', 'dime', 'ben', 'earns', 'sharks', 'graceful', 'stuffing', 'bankrupt', 'paced', 'unusually', 'trumpet', 'sober', 'compass', 'coherent', 'terrifying', 'suppression', 'messing', 'thankfully', 'stunt', 'frank', 'tedious', 'embarrassment', 'european', 'collage', 'cheering', 'weighted', 'robbed', 'pun', 'glazed', 'waits', 'scratching', 'comforting', 'whining', 'wig', 'specimen', 'twilight', 'shocks', 'heap', 'riot', 'tighter', 'casualties', 'killers', 'hail', 'assassination', 'styled', 'temporal', 'bleed', 'smoother', 'georgia', 'illumination', 'effortlessly', 'passions', 'volcano', 'unfinished', 'disastrous', 'punches', 'unpaid', 'telescope', 'refugee', 'drunken', 'displacement', 'decisive', 'articulate', 'catcher', 'inactive', 'mist', 'bathtub', 'blur', 'tremendously', 'orgy', 'real-life', 'comprehension', 'tensions', 'communal', 'two-thirds', 'fencing', 'ideological', 'rebellion', 'progressed', 'directs', 'intimacy', 'petty', 'illustrating', 'resumes', 'attentive', 'cheesy', 'spans', 'bully', 'vampires', 'urgency', 'expresses', 'george', 'encompasses', 'chewing', 'dictate', 'notions', 'irritating', 'mosque', 'slippery', 'embracing', 'squeezed', 'restraint', 'adolescent', 'visuals', 'illuminated', 'backbone', 'mary', 'dues', 'sweetheart', 'memoir', 'best-selling', 'presses', 'dripping', 'counterpart', 'flee', 'portray', 'insanity', 'regimen', 'superhero', 'glamorous', 'trusts', 'cannon', 'sweating', 'morally', 'pianist', 'oily', 'realism', 'hollywood', 'indicative', 'kinky', 'breadth', 'dragons', 'sloppy', 'undermine', 'seizures', 'majestic', 'insulting', 'moron', 'establishes', 'conflicting', 'downright', 'pop-up', 'subtitles', 'lookin', 'striving', 'tar', 'zoning', 'admitting', 'rivalry', 'santa', 'stark', 'teasing', 'stacks', 'hectic', 'african', 'asylum', 'disregard', 'yep', 'deserving', 'longing', 'groundbreaking', 'homage', 'drastic', 'chilled', 'full-length', 'climax', 'g.', 'craftsmanship', 'fingering', 'lows', 'incapable', 'moderately', 'discreet', 'concentrating', 'hitch', 'devastated', 'preferable', 'discarded', 'l.', 'crackers', 'maiden', 'emphasizes', 'suspense', 'catastrophic', 'aided', 'cape', 'massacre', 'spoiler', 'deleting', 'docs', 'contender', 'skeleton', 'debating', 'choke', 'turmoil', 'rhythms', 'prolific', 'africa', 'radioactive', 'sane', 'cheated', 'reap', 'jackson', 'rendition', 'sway', 'cruelty', 'flux', 'temper', 'uneven', 'tranquil', 'user-friendly', 'glued', '1940s', 'salvage', 'strives', 'attendant', 'blunt', 'elusive', 'staggering', 'trusting', 'strands', 'verge', 'pies', 'paranoid', 'insomnia', 'monday', 'endured', 'topless', 'beware', 'alterations', 'steve', 'proficient', 'accumulate', 'initiation', 'emperor', 'reckless', 'precedent', 'absorbing', 'fi', 'derive', 'stereotypes', 'dazzling', 'astounding', 'haunting', 'alias', 'blush', 'gestures', 'acknowledges', 'chaotic', 'liberation', 'strategically', 'acquainted', 'misuse', 'chuck', 'coke', 'starving', 'harvesting', 'stranded', 'plausible', 'spouses', 'prevail', 'loaf', 'cynical', 'ambitions', 'formidable', 'persona', 'overload', 'integrates', 'hmmm', 'coarse', 'predators', 'pinned', 'plethora', 'cutting-edge', 'jordan', 'cedar', 'allied', 'mystical', 'coaster', 'disappears', 'shortest', 'capped', 'captive', 'operative', 'weary', 'weaving', 'spanning', 'fertile', 'strangely', 'sip', 'vitality', 'irrational', 'entrepreneurial', 'bots', 'radiant', 'perpetual', 'liberties', 'chilly', 'spins', 'dusty', 'cerebral', 'stalls', 'fragment', 'scrapbook', 'merry', 'spaghetti', 'upbeat', 'greek', 'admiration', 'hardship', 'dorm', 'disguise', 'r.', 'bland', 'emerges', 'effortless', 'leash', 'transporting', 'intern', 'lang', 'harry', 'mantra', 'misunderstood', 'crawling', 'cylinders', 'contrasting', 'deferred', 'quaint', 'intellect', 'punched', 'spiritually', 'debated', 'chalk', 'widescreen', 'forgiven', 'irresponsible', 'needy', 'indictment', 'repetition', 'tart', 'chops', 'alarming', 'oops', 'hopeless', 'dipped', 'stumble', 'fiery', 'ants', 'provocative', 'handicap', 'superficial', 'sentiments', 'fest', 'biz', 'crane', 'humility', 'protagonist', 'horribly', 'marina', 'hefty', 'microscope', 'empathy', 'thirst', 'slack', 'nostalgia', 'redeem', 'masculine', 'gag', 'brilliantly', 'advises', 'digitally', 'patriotic', 'spectacle', 'rot', 'swords', 'creep', 'aesthetics', 'chilling', 'honorable', 'brightly', 'owes', 'presume', 'regeneration', 'lousy', 'joyful', 'fabricated', 'fascination', 'u.', 'endeavors', 'doubling', 'maze', 'bedtime', 'affinity', 'swiftly', 'sanity', 'mundane', 'instincts', 'tackling', 'reactive', 'halftime', 'smack', 'honoring', 'olives', 'rewrite', 'rejects', 'python', 'ke', 'tipped', 'lingering', 'timeout', 'conceive', 'high-profile', 'crises', 'sting', 'heroine', 'right-wing', 'tunnels', 'upfront', 'activism', 'excursion', 'crave', 'deception', 'patiently', 'fearful', 'engages', 'gangs', 'estrogen', 'grim', 'demographics', 'surreal', 'documenting', 'lessen', 'tendencies', 'earnest', 'ghetto', 'equilibrium', 'restless', 'floppy', 'distinctly', 'june', 'spectators', 'pivotal', 'scripting', 'infusion', 'warmed', 'marvel', 'relentless', 'recognizable', 'rotten', 'cues', 'advert', 'intensely', 'seaside', 'ponder', 'taps', 'virtues', 'principals', 'cultivated', 'rite', 'reversal', 'casts', 'flourish', 'modeled', 'sparks', 'commanding', 'rampant', 'germany', 'peter', 'dread', 'sublime', 'cherish', 'natives', 'validated', 'alas', 'staircase', 'mildly', 'delights', 'imprint', 'instability', 'sophistication', 'muddy', 'pardon', 'percentages', 'skipping', 'immature', 'enlightened', 'alternating', 'bogus', 'reminders', 'havoc', 'substantive', 'frosting', 'expressive', 'spikes', 'cinematic', 'cultivation', 'hinge', 'buff', 'miami', 'compensated', 'dubious', 'raging', 'stern', 'enriched', 'robotic', 'persistence', 'indispensable', 'narrator', 'café', 'abound', 'wrought', 'unseen', 'perennial', 'helm', 'unrealistic', 'li', 'regrets', 'directive', 'exaggerated', 'restrictive', 'fueled', 'disciplined', 'proficiency', 'clueless', 'preteen', 'brilliance', 'hardened', 'august', 'transforms', 'overdue', 'icy', 'duly', 'sands', 'september', 'relocated', 'flavours', 'hypocrisy', 'submarine', 'homicide', 'sewage', 'amused', 'distract', 'chimney', 'slew', 'booths', 'ambience', 'dreaded', 'jealousy', 'hostage', 'screenplay', 'yielded', 'frenzy', 'troubling', 'slender', 'jones', 'interpreting', 'implication', 'hinges', 'heavyweight', 'unfold', 'sailor', 'joys', 'manifestation', 'nudity', 'morals', 'first-time', 'sacrificing', 'doorstep', 'agile', 'quitting', 'oddly', 'disturbance', 'hardy', 'sibling', 'murderer', 'fret', 'experimentation', 'courageous', 'face-to-face', 'quotations', 'clinically', 'plight', 'backstage', 'aspire', 'drains', 'twisting', 'systematically', 'painfully', 'nightmares', 'flowering', 'ka', 'heartfelt', 'progresses', 'flattering', 'gripping', 'candid', 'inventive', 'teddy', 'stew', 'fury', 'jams', 'cherished', 'courtroom', 'phoenix', 'escapes', 'floats', 'potter', 'childish', 'notwithstanding', 'thomas', 'asphalt', 'blossom', 'refreshed', 'blatant', 'arrogance', 'actresses', 'anthology', 'paramount', 'willingly', 'informs', 'profoundly', 'avoids', 'fortunately', 'negatives', 'three-dimensional', 'drowning', 'tongues', 'lends', 'sunk', 'doubtful', 'stamina', 'captivating', 'misunderstanding', 'consciously', 'indefinitely', 'catholic', 'plainly', 'humiliation', 'procedural', 'sheds', 'sam', 'paranormal', 'accuse', 'wastes', 'nicest', 'nostalgic', 'portrayal', 'vaguely', 'streamlined', 'admittedly', 'insignificant', 'sacrificed', 'theatres', 'stitched', 'eccentric', 'offend', 'non-stop', 'assures', 'explosions', 'lavish', 'diego', 'unanswered', 'lunar', 'lolita', 'satire', 'noteworthy', 'robert', 'slapped', 'watercolor', 'digs', 'insecure', 'punching', \"ol'\", 'speculative', 'acknowledging', 'spain', 'opaque', 'simulate', 'vanished', 'scares', 'blockbuster', 'quota', 'incompetent', 'societal', 'stylist', 'sinister', 'shaken', 'levy', 'salute', 'clears', 'dotted', 'taylor', 'respecting', 'exposes', 'foreground', 'schizophrenia', 'mar', 'undercover', 'lad', 'reinforcement', 'valentine', 'extremes', 'immortal', 'imitation', 'pathology', 'siege', 'trimming', 'avenues', 'vectors', 'exploits', 'congratulate', 'residences', 'spawn', 'enlightenment', 'awakening', 'desperation', 'sleeper', 'exceedingly', 'uplifting', 'translating', 'irresistible', 'interpersonal', 'heightened', 'sensational', 'ache', 'novelist', 'overwhelmingly', 'beasts', 'logically', 'whopping', 'uncertainties', 'librarian', 'leftovers', 'enchanting', 'archival', 'conveyor', 'comparatively', 'suffice', 'pronounce', 'thinkers', 'openness', 'tuck', 'scott', 'savage', 'familiarity', 'sociology', 'simplistic', 'decidedly', 'sterile', 'miscellaneous', 'rooting', 'criterion', 'overlapping', 'mourning', 'renders', 'snatch', 'bothers', 'resemblance', 'lurking', 'dreadful', 'empowerment', 'achieves', 'serene', 'brink', 'sooooo', 'clones', 'insults', 'contradiction', 'dearly', 'praises', 'concession', 'subconscious', 'walker', 'seriousness', 'elbows', 'one-of-a-kind', 'plagued', 'bursting', 'strained', 'stab', 'dwarf', 'devoid', 'misguided', 'painters', 'diplomacy', 'innate', 'etched', 'documentaries', 'seventeen', 'goodwill', 'distractions', 'sweaty', 'rom', 'ailments', 'ambiguous', 'betrayed', 'korean', 'newcomers', 'succeeds', 'depict', 'visualize', 'selves', 'evangelical', 'cello', 'bmw', 'agony', 'goofy', 'discerning', 'inclination', 'americans', 'capitalize', 'blasts', 'profiling', 'downtime', 'inexperienced', 'everlasting', 'disgrace', 'anonymity', 'corpse', 'villains', 'hormonal', 'suitcase', 'handicapped', 'probes', 'distracting', 'immersed', 'redeemed', 'richness', 'ireland', 'visionary', 'antics', 'monumental', 'revelations', 'uphill', 'lyrical', 'originality', 'wayne', 'william', 'graves', 'earthly', 'defeats', 'impeccable', 'compromising', 'showdown', 'kidnapping', 'queens', 'fluent', 'banged', 'impatient', 'woodland', 'brow', 'platter', 'boredom', 'denver', 'veggie', 'cheered', 'mario', 'midway', 'dave', 'asparagus', 'thanksgiving', 'hiatus', 'clad', 'extraordinarily', 'irish', 'shortcomings', 'startling', 'whimsical', 'greasy', '10-year', 'tenor', 'viability', 'spears', 'humane', 'deterioration', 'guarded', 'puff', 'believable', 'heed', 'nifty', 'adjective', 'philosophers', 'poignant', 'seeming', 'screenings', 'claws', 'battered', 'seattle', 'hailed', 'pacing', 'bo', 'blueprint', 'gritty', 'attributable', 'francisco', 'descend', 'stale', 'cal', 'fore', 'nyc', 'spirited', 'gothic', 'inject', 'reacting', 'shaky', 'sweetest', 'jim', 'preserves', 'garnered', 'bursts', 'resembling', 'instruct', 'loneliness', 'diversion', 'drowned', 'blasting', 'exhaustion', 'seductive', 'anchored', 'milestones', 'civilized', 'vengeance', 'prominence', 'workings', 'prominently', 'cling', 'thunderstorms', 'orlando', 'edged', 'bilingual', 'televised', 'tame', 'pedigree', 'fiddle', 'airs', 'brutally', 'shedding', 'retard', 'psychiatrist', 'needless', 'bolster', 'millennium', 'psyche', 'awfully', 'tentative', 'contenders', 'slump', 'infinitely', 'intolerance', 'kim', 'condensed', 'vigorously', 'bustling', 'dishonest', 'swung', 'admirable', 'standout', 'revived', 'diner', 'infused', 'italy', 'cafeteria', 'suicidal', 'budding', 'boosted', 'ruthless', 'fast-paced', 'bleak', 'ops', 'characterize', 'acidic', 'futuristic', 'austin', 'plotting', 'phantom', 'knocks', 'debuts', 'DG', 'sling', 'hue', 'heavy-duty', 'unconditional', 'obnoxious', 'adrenaline', 'inadvertently', 'whipping', 'moan', 'wrists', 'disbelief', 'ascertain', 'freaks', 'feminism', 'geeks', 'survives', 'tempered', 'zest', 'martin', 'relish', 'freshness', 'intermittent', 'ironically', 'lovingly', 'imaginable', 'ticks', 'leaps', 'puzzled', 'proclaim', 'incarnation', 'backlash', 'charismatic', 'unconventional', 'footing', 'stature', 'conceal', 'quieter', 'interchangeable', 'retrospective', 'disgust', 'imperfect', 'two-way', 'requisite', 'exhausting', 'betrayal', 'wholesome', 'intrusion', 'wrestler', 'endlessly', 'plateau', 'facet', 'violently', 'gymnastics', 'airy', 'disturb', 'classify', 'computerized', 'numb', 'unleashed', 'darkest', 'boils', 'brand-new', 'stills', 'manipulating', 'facade', 'rethink', 'two-day', 'sidewalks', 'powerhouse', 'stalking', 'carpenter', 'sentimental', 'would-be', 'blazing', 'urgently', 'elevate', 'mastering', 'penetrating', 'lighted', 'confidently', 'smashing', 'extremists', 'echoes', 'collegiate', 'parallels', 'taboo', 'williams', 'chills', 'underrated', 'sluggish', 'top-notch', 'coma', 'whine', 'enormously', 'sarah', 'discern', 'porous', 'acclaim', 'spree', 'unnamed', 'creatively', 'interrogation', 'miraculous', 'alabama', 'rosemary', 'bidder', 'drown', 'worldly', 'truthful', 'contradictory', 'minimalist', 'poking', 'victorious', 'unbelievably', 'grit', 'ballroom', 'jean', 'pervasive', 'intrigue', 'scum', 'settles', 'jennifer', 'wacky', 'trajectory', 'excessively', 'savory', 'pitfalls', 'bastards', 'locale', 'ensuing', 'chiefly', 'claw', 'richly', 'uniqueness', 'snapping', 'castles', 'symbolism', 'edgy', 'contagious', 'culprit', 'screwing', 'fruitful', 'prank', 'eye-catching', 'stuffs', 'depiction', 'embraces', 'scented', 'tidal', 'stereotype', 'goggles', 'deem', 'grinder', 'idiotic', 'newcomer', 'emphasizing', 'pastel', 'treasured', 'magician', 'tiring', 'fleeing', 'fu', 'decoder', 'cleavage', 'sprouts', 'procession', 'begs', 'flashy', 'iced', 'blowout', 'motivations', 'richard', 'unnoticed', 'baker', 'slain', 'pleasurable', 'rake', 'anchors', 'jewish', 'affirm', 'ugh', 'duel', 'shovel', 'correctness', 'attackers', 'predecessors', 'kate', 'roman', 'criticizing', 'stink', 'anthropology', 'ecstasy', 'corpus', 'persuasive', 'intimidated', 'veneer', 'lofty', 'mana', 'painless', 'allegiance', 'gasp', 'asia', 'harmed', 'cloak', 'sparse', 'misdemeanor', 'mindless', 'creeping', 'devastation', 'redundancy', 'labelled', 'endings', 'amaze', 'careless', 'shootings', 'endeavour', 'enticing', 'chuckle', 'provoke', 'hawk', 'masked', 'dramas', 'tim', 'sap', 'unnatural', 'disgusted', 'dominates', 'tony', 'agendas', 'resentment', 'opting', 'mafia', 'thinly', 'curling', 'cracker', 'insanely', 'famine', 'puppets', 'cameo', 'ordeal', 'depleted', 'acidity', 'doctorate', 'adam', 'austerity', 'dared', 'dreamy', 'semen', 'creed', 'smear', 'contrasts', 'commonplace', 'tasteful', 'hateful', 'mummy', 'jay', 'shear', 'horrors', 'soar', 'muster', 'obligatory', 'punctuation', 'kin', 'extracting', 'foo', 'ryan', 'realistically', 'crafty', 'aching', 'acquires', 'first-class', 'reefs', 'kudos', 'lily', 'itch', 'scarcely', 'ingenious', 'parrot', 'peaked', 'jessica', 'outage', 'dizzy', 'scandals', 'drumming', 'perfected', 'indifferent', 'auditorium', 'heaps', 'pedestal', 'sprung', 'downfall', 'blondes', 'unfolding', 'chatter', 'pageant', 'affluent', 'wiser', 'positives', 'fad', 'lantern', 'hovering', 'giggle', 'esteemed', 'unveil', 'intellectually', 'luscious', 'moods', 'fused', 'boasting', 'limp', 'blurry', 'ticking', 'physique', 'laden', 'bitten', 'shred', 'spawned', 'prowess', 'frantic', 'chronicles', 'smoky', 'illuminate', 'glaring', 'verbally', 'disguised', 'complexities', 'dictates', 'sitcom', 'arithmetic', 'frontal', 'restrained', 'biographical', 'artworks', 'derives', 'individuality', 'lobbyists', 'autistic', 'interfering', 'australian', 'melts', 'futile', 'shouts', 'earthy', 'adept', 'fades', \"'80s\", 'january', 'sprinkled', 'woo', 'tackled', 'retreats', 'wills', 'improperly', 'communicates', 'atrocities', 'gutter', 'omission', 'prostitute', 'vile', 'devise', 'narration', 'towering', 'remembrance', 'shameful', 'diaries', 'webcast', 'luminous', 'dangerously', 'yang', 'time-consuming', 'noticeably', 'steaming', 'last-minute', 'flavorful', 'freeing', 'scrape', 'dysfunctional', 'disparate', 'chore', 'tightened', 'jason', 'appreciates', 'spooky', 'soothe', 'beacon', 'stand-up', 'appetizer', 'penned', 'orthodox', 'enlightening', 'distilled', 'muted', 'lovable', 'x.', 'lighten', 'paws', 'meticulous', 'misplaced', 'obsessive', 'rappers', 'grounding', 'couture', 'tangled', 'elegantly', 'passionately', 'stunts', 'jeff', 'dr.', 'moaning', 'fullness', 'psychedelic', 'playstation', 'riffs', 'frustrations', 'outsiders', 'iteration', 'uneasy', 'occurrences', 'choreography', 'extremist', 'hideous', 'insecurity', 'stabbing', 'dismal', 'calculus', 'middle-class', 'extravagant', 'bedside', 'drawbacks', 'reassuring', 'augmented', 'christ', 'fluff', 'nuances', 'sincerity', 'retaliation', 'abrasive', 'perseverance', 'blanks', 'consolation', 'confronting', 'joyous', 'exhilarating', 'heartbreaking', 'skateboard', 'runaway', 'appalling', 'impacting', 'blackout', 'affectionate', 'suitably', 'wen', 'mayhem', 'angst', 'jumbo', 'bloated', 'undeniable', 'wildest', 'rambling', 'manifestations', 'cohesive', 'serenity', 'shrug', 'diver', 'wearer', 'panorama', 'noir', 'understated', 'uncut', 'fearless', 'conformity', 'motifs', 'spies', 'sept.', 'middle-aged', 'evoke', 'annoyance', 'exploiting', 'sprawling', 'perch', 'assassin', 'portrays', 'tainted', 'pact', 'jeopardy', 'shootout', 'encompassing', 'grieving', 'lore', 'satisfies', 'tug', 'orphans', 'linger', 'fart', 'bestowed', 'negativity', 'galore', 'nighttime', 'constructs', 'diminishing', 'brutality', 'parsing', 'cross-country', 'motherhood', 'grenade', 'turbulent', 'adaptations', 'muse', 'garnish', 'insiders', 'swirl', 'overboard', 'pawn', 'motorized', 'surfer', 'unsuspecting', 'concentrates', 'poo', 'adversity', 'freaky', 'diva', 'septic', 'solemn', 'clothed', 'apex', 'dips', 'gloomy', 'playwright', 'fumes', 'pondering', 'delinquent', 'confines', 'swirling', 'chemically', 'boldly', 'appreciative', 'behaving', 'borderline', 'illuminating', 'adultery', 'comedic', 'unintended', 'nationalism', 'behind-the-scenes', 'meticulously', 'vat', 'prognosis', 'distinguishing', 'on-screen', 'monstrous', 'horrified', 'assaults', 'smartest', 'peroxide', 'sharper', 'tenderness', 'substitutes', 'ambiguity', 'adolescence', 'abrupt', 'absorbs', 'snail', 'inhabit', 'gore', 'oblivious', 'continuum', 'flops', 'soulful', 'voyeur', 'modern-day', 'subtly', 'flicks', 'uniformly', 'unfolds', 'knockout', 'duke', 'alluring', 'energized', 'fearing', 'specificity', 'cumbersome', 'contentious', 'prehistoric', 'unbearable', 'understatement', 'impart', 'unfairly', 'paranoia', 'renaissance', 'melancholy', 'wan', 'eerie', 'mergers', 'peril', 'filmmaking', 'utah', 'peep', 'bruised', 'kinetic', 'biscuit', 'lieutenant', 'gloom', 'matured', 'xmas', 'astronauts', 'enact', 'throbbing', 'parting', 'conveying', 'britney', 'expertly', 'phony', 'comedies', 'recovers', 'submerged', 'shabby', 'gracefully', 'watery', 'proverbial', 'clumsy', 'all-around', 'gangster', 'horizons', 'yarns', 'commend', 'ramifications', 'pinnacle', 'slogans', 'anguish', 'bon', 'hallmark', 'payoff', 'triangles', 'side-by-side', 'pesky', \"'70s\", 'philadelphia', 'orchard', 'hindsight', 'distinctions', 'fanatic', 'sexist', 'contours', 'equate', 'swipe', 'indifference', 'purge', 'lizard', 'mattered', 'potency', 'oppressive', 'garner', 'fleeting', 'jane', 'thematic', 'exposition', 'restroom', 'catalytic', 'kevin', 'ordinances', 'synagogue', 'stoked', 'startled', 'provoked', 'someplace', 'all-inclusive', 'aptly', 'smuggling', 'sixties', 'zeal', 'captions', 'bubbly', 'summertime', 'reverence', 'hunk', 'weep', 'robin', 'jimmy', 'off-season', 'outweigh', 'musicals', 'bordering', 'populace', 'ballistic', 'respite', 'brian', 'vividly', 'insistence', 'johnny', 'bluff', 'funnier', 'iceberg', 'blatantly', 'collapses', 'camouflage', 'balm', 'spout', 'comin', 'cleverly', 'traverse', 'steamy', 'vulgar', 'abiding', 'muy', 'air-conditioning', 'to-do', 'brittle', 'recalling', 'guise', 'nagging', 'ninety', 'puberty', 'playboy', 'bravery', 'upsetting', 'parlor', 'sneaky', 'cliche', 'elves', 'relegated', 'elemental', 'profanity', 'woody', 'laughable', 'undead', 'superbly', 'knack', 'watered', 'billy', 'workable', 'abbreviated', 'much-needed', 'spectator', 'ludicrous', 'antitrust', 'mr.', 'batman', 'accompanies', 'nba', 'excite', 'hypocritical', 'build-up', 'overflowing', 'fiercely', 'teaming', 'half-hour', 'hurried', 'delusional', 'bile', 'rye', 'hymn', 'intimately', 'adopts', 'crippled', 'scripted', 'all-star', 'supple', 'laced', 'intellectuals', 'approximation', 'brisk', 'trembling', 'ridicule', 'fragmented', 'hippie', 'jockey', 'menace', 'jargon', 'immaculate', 'drizzle', 'conveys', 'holly', 'debilitating', 'right-hand', 'crossroads', 'impulses', 'fillers', 'tweaked', 'gimmick', 'punitive', 'devotees', 'aspiration', 'israel', 'fanatics', 'crammed', 'tennessee', 'gurus', 'jerking', 'anomaly', 'affords', 'cunning', 'ante', 'hangover', 'anti-virus', 'rigged', 'culmination', 'ingenuity', 'subordinate', 'sham', 'evergreen', 'cascade', 'sumptuous', 'devils', 'bittersweet', 'wednesday', 'iris', 'glee', 'sydney', 'rover', 'embodies', 'chronicle', 'misfortune', 'unaffected', 'dismay', 'summons', 'sexes', 'charisma', 'improvised', 'cringe', 'tacky', 'rapport', 'anew', 'wartime', 'hypnotic', 'arresting', 'moonlight', 'astronaut', 'demeanor', 'strut', 'paralyzed', 'enthusiastically', 'ominous', 'charles', 'ark', 'installments', 'masterpieces', 'resonate', 'retina', 'minimally', 'glorified', 'predicament', \"'90s\", 'embellished', 'yearning', 'intelligently', 'serpent', 'moody', 'tides', 'eric', 'adored', 'uncanny', 'gaping', 'skewed', 'folly', 'invaders', 'kong', 'grossly', 'mystic', 'spoof', 'lisa', 'sorely', 'negligible', 'metaphysical', 'portraying', 'babysitter', 'graveyard', 'decadent', 'diplomat', 'libido', 'narrated', 'nonfiction', 'self-help', 'nerds', 'doggie', 'eloquent', 'artistry', 'friggin', 'rarity', 'metaphors', 'whirlwind', 'unresolved', 'markedly', 'enchanted', 'sabotage', 'ethos', 'pours', 'psychotic', 'bloodstream', 'unstoppable', 'sean', 'murderous', 'eternally', 'ivy', 'amy', 'decency', 'tout', 'boomers', 'wannabe', 'autopsy', 'hazy', 'footnote', 'ripper', 'comical', 'afloat', 'nutty', 'jews', 'schoolgirl', 'disdain', 'innumerable', 'dogma', 'insulted', 'rebellious', 'persecuted', 'overwhelm', 'grandeur', 'probing', 'grasping', 'lumps', 'propelled', 'drooling', 'apocalypse', 'dispense', 'trump', 'bollywood', 'junkie', 'ashley', 'flattened', 'craftsmen', 'black-and-white', 'prod', 'amazement', 'scotland', 'spade', 'patched', 'streamed', 'allen', 'crocodile', 'squarely', 'pretended', 'banter', 'old-school', 'skateboarding', 'powerfully', 'swan', 'prozac', 'musings', 'companionship', 'admiring', 'collaborators', 'widen', 'warped', 'tonal', 'stinks', 'conspicuous', 'reigns', 'ron', 'burgeoning', 'meaty', 'miller', 'evokes', 'improvisation', 'goo', 'transports', 'erratic', 'moratorium', 'resists', 'usher', 'slapping', 'thrills', 'horrifying', 'remorse', 'intrusive', 'shimmering', 'skillful', 'whence', 'nationalist', 'impetus', 'embody', 'thought-provoking', 'michelle', 'bouts', 'nonstop', 'miserably', 'evolves', 'horrid', 'avalanche', 'gruesome', 'wade', 'calibrated', 'humming', 'barrage', 'sensibility', 'implicitly', 'mermaid', 'conceivable', 'recount', 'rapids', 'flashback', 'delectable', 'journalistic', 'tabloid', 'fruition', 'buffs', 'rehearsals', 'bella', 'ahem', 'senseless', 'bounces', 'distinguishes', 'pleas', 'payback', 'year-end', \"'til\", \"'60s\", 'tapestry', 'sugary', 'cheeky', 'numbness', 'testimonial', 'recite', 'grumpy', 'skulls', 'jolly', 'strenuous', 'terry', 'favorably', 'appropriated', 'tango', 'evocative', 'indulgence', 'explodes', 'triumphant', 'masterful', 'kung', 'suggestive', 'yu', 'columbia', 'splendor', 'fairies', 'ape', 'setups', 'undeniably', 'marginally', 'tequila', 'collide', 'wondrous', 'frontman', 'undone', 'marquee', 'esoteric', 'siren', 'anna', 'best-known', 'ignite', 'reassure', 'underdog', 'manifesto', 'prejudices', 'liberalism', 'terrier', 'rick', 'underestimated', 'feral', 'hand-held', 'aptitude', 'ardent', 'sequels', 'apartheid', 'winger', 'pore', 'cursing', 'waffle', 'savor', 'degraded', 'commended', 'penchant', 'contemplation', 'stormy', 'vera', 'bouncy', 'rotting', 'plotted', 'tragedies', 'arctic', 'relentlessly', 'metropolis', 'raving', 'clutches', 'forgets', 'family-friendly', 'revisited', 'flatter', 'conclusive', 'brim', 'preferring', 'humankind', 'ducts', 'gravitational', 'unexplained', 'literate', 'seduce', 'anatomical', 'envious', 'victor', 'psychologically', 'embarking', 'relays', 'detriment', 'pretentious', 'lucid', 'pathological', 'hyped', 'bona', 'tracts', 'sandbox', 'compulsive', 'unbalanced', 'alternately', 'prima', 'detachment', 'aesthetically', 'ut', 'genesis', 'timid', 'suckers', 'visceral', 'laziness', 'dodgy', 'uncles', 'shameless', 'baffled', 'contemporaries', 'emptiness', 'fondly', 'parable', 'ia', 'puzzling', 'meatballs', 'orchestrated', 'well-written', 'lowly', 'underworld', 'captivated', 'sporadic', 'conversational', 'manic', 'feeble', 'expiry', 'samurai', 'endearing', 'hysteria', 'solidly', 'quintessential', 'ancillary', 'stallion', 'niches', 'cross-section', 'eighties', 'abc', 'streaks', 'clams', 'daniel', 'densely', 'butler', 'illiterate', 'mined', 'ruminations', 'avant-garde', 'unprepared', 'abyss', 'sassy', 'marinated', 'winged', 'creeps', 'demonic', 'two-hour', 'korea', 'unthinkable', 'decomposition', 'gamut', 'rattling', 'undermined', 'graham', 'coherence', 'weaponry', 'over-the-top', 'arkansas', 'abundantly', 'eviction', 'screenwriter', '30-year', 'exaggeration', 'smug', 'adhering', 'degrading', 'zealand', 'dong', 'jose', 'troupe', 'induces', 'cranky', 'charlie', 'bruising', 'unsettling', 'resonant', 'wonderland', 'patriot', 'humiliated', 'stereotypical', 'deceit', 'graced', 'murky', 'giddy', 'shudder', 'flimsy', 'glimpses', 'holocaust', 'pierce', 'trims', 'hampered', 'fide', 'weathered', 'two-dimensional', 'perverse', 'jon', 'charlotte', 'goth', 'ethereal', 'giggling', 'scarlet', 'solace', 'upsets', 'anarchy', 'spiced', 'grinning', 'aversion', 'armchair', 'ballast', 'hastily', 'applauded', 'fathom', 'primal', 'lax', 'riveting', 'late-night', 'intermediary', 'eyelids', 'campfire', 'modesty', 'milking', 'anti-war', 'werewolf', 'forceful', 'rein', 'pessimistic', 'improbable', 'anderson', \"c'mon\", 'weaves', 'wretched', 'one-sided', 'luster', 'discouraging', 'governs', 'giggles', 'chewy', 'stricken', 'untold', 'evade', 'perpetrated', 'ransom', 'fatally', 'spiked', 'inert', 'nobility', 'antonio', 'drags', 'disobedience', 'lightest', 'grating', 'dreary', 'vistas', 'genitals', 'defiance', 'intolerant', 'encountering', 'avert', 'prettiest', 'fuses', 'unintentionally', 'categorize', 'undermining', 'turntable', 'hopelessly', 'ken', 'lifeless', 'virtuous', 'drenched', 'afterlife', 'matchmaking', 'contrived', 'arduous', 'lan', 'thoughtfully', 'swedish', 'exalted', 'skeptics', 'steeped', 'farce', 'recyclable', 'delicately', 'existential', 'simpson', 'repellent', 'boardwalk', 'rife', 'sultry', 'astray', 'anthony', 'charting', 'inconsistencies', 'adamant', 'prism', 'manhood', 'propensity', 'delightfully', 'enigmatic', 'carnage', 'pious', 'papa', 'breezy', 'delhi', 'mason', 'locales', 'unchecked', 'deliciously', 'steadfast', 'leaping', 'distressing', 'aboriginal', 'seduced', 'espionage', 'overshadowed', 'prophecies', 'inertia', 'fishy', 'sensibilities', 'sexism', 'stylized', 'justifies', 'nourishing', 'maneuvers', 'drinker', 'puddle', 'alice', 'paraphrase', 'underlined', 'lured', 'familial', 'skeletons', 'staggered', 'discloses', 'overtake', 'storylines', 'patchwork', 'josh', 'fussy', 'obscured', 'sly', 'immersive', 'superman', 'dignified', 'stalker', 'spat', 'participatory', 'unmistakable', 'ali', 'desolate', 'menacing', 'latino', 'extravaganza', 'monsoon', 'interplay', 'straining', 'immerse', 'world-renowned', 'shoving', 'herring', 'clinch', 'life-changing', 'perpetually', 'adage', 'endorses', 'olympic', 'thrives', 'overrun', 'pitiful', 'pitted', 'fling', 'biologically', 'elicit', 'bravo', 'psycho', 'aisles', 'unclean', 'complicate', 'distort', 'bracing', 'feces', 'transcend', 'cuddly', '18-year-old', 'lambs', 'estranged', 'amassed', 'copious', 'doo', 'pornographic', 'paces', 'cub', 'palpable', 'ledger', 'littered', 'inept', 'midwest', 'innovators', 'stately', 'instructive', 'astute', 'gait', 'ado', 'k.', 'protestors', 'grown-up', 'expanse', 'inversion', 'benevolent', 'liberating', 'apes', 'interestingly', 'gall', 'substituting', 'convoluted', 'operas', 'nurtured', 'cheery', 'fosters', 'heartbreak', 'maids', 'arbitrarily', 'resorting', 'absurdity', 'vietnam', 'corny', 'cocky', 'unsuccessfully', 'resourceful', 'hammering', 'egypt', 'triumphs', 'rut', 'howard', 'graces', 'cram', 'oftentimes', 'no-brainer', 'overkill', 'heartache', 'forcefully', 'misty', 'presiding', 'confessions', 'atlantic', 'peels', 'confluence', 'onscreen', 'romp', 'blockage', 'objectivity', 'tolerable', 'furiously', 'blemishes', 'haunts', 'lagging', 'lunatic', 'wilson', 'sketchy', 'hoods', 'bearded', 'u.s.', 'nicole', 'unattractive', 'lackluster', 'spaceship', 'howling', 'small-scale', 'temptations', 'branched', 'irreversible', 'prevails', 'craziness', 'makin', 'snowman', 'monologue', 'bitterly', 'cowardly', 'discontent', 'struts', 'curiously', 'manipulative', 'morbidity', 'dumplings', 'fluke', 'illogical', 'stomp', 'despicable', 'in-between', 'baroque', 'clout', 'lament', 'crazed', 'condone', 'cinematography', 'purposeful', 'indulging', 'limbo', 'uncompromising', 'athleticism', 'jerry', 'treatise', 'blinding', 'loopholes', 'fledgling', 'perry', 'cohesion', 'zen', 'protagonists', 'waged', 'orleans', 'storyteller', 'tireless', 'vu', 'eroded', 'chainsaw', 'unintentional', 'stylistic', 'antidote', 'outwardly', 'punishable', 'shenanigans', 'macaroni', 'contradicts', 'clocked', 'purposefully', 'fugitive', 'fresher', 'impair', 'horde', 'brooklyn', 'neglecting', 'scant', 'camaraderie', 'pb', 'secondhand', 'inhale', 'exploratory', 'nuanced', 'hong', 'flashbacks', 'ragged', 'eyeballs', 'undisputed', 'gary', 'first-rate', 'stroked', 'jock', 'quirks', 'satirical', 'khan', 'aborted', 'egregious', 'departs', 'graphically', 'legion', 'mischievous', 'amuse', 'grueling', 'lewis', 'good-looking', 'hammers', 'insatiable', 'unimaginable', 'laura', 'satan', 'jerky', 'relic', 'mesmerizing', 'crooks', 'namesake', 'choreographed', 'spin-off', 'fisher', 'fondness', 'henry', 'fairytale', 'tragically', 'j.', 'conforms', 'precarious', 'snuck', 'cynicism', 'wishful', 'ills', 'personable', 'hoot', 'meager', 'muck', 'finesse', 'totalitarian', 'nada', 'columbus', 'cliché', 'distortions', 'davis', 'one-hour', 'exclamation', 'lukewarm', 'infidelity', 'trumps', 'carousel', 'chases', 'wreckage', 'incomprehensible', 'broadway', 'ruffle', 'dwellers', 'fulfills', 'audacity', 'scooped', 'larry', 'troopers', 'warmest', 'trot', 'excels', 'moore', 'plunging', 'brat', 'marketable', 'bruce', 'justifying', 'footnotes', 'alienated', 'condescending', 'gunfire', 'invincible', 'uproar', 'long-running', 'sleepless', 'dynamite', 'unqualified', 'churn', 'well-rounded', 'exquisitely', 'prelude', 'soggy', 'rousing', 'inventing', 'videotape', 'tuxedo', 'shadowy', 'jaded', 'stunningly', 'elizabeth', 'grotesque', 'dares', 'leaky', 'caricature', 'ilk', 'reconciled', 'morgan', 'breathless', 'laid-back', '14-year-old', 'macho', 'breathes', 'grandkids', 'post-war', 'carol', 'unread', 'transporter', 'tiresome', 'dungeons', 'atrocious', 'gliding', 'detract', '12-year-old', 'fifties', 'negate', 'open-minded', 'grub', 'throwback', 'dummies', 'woe', 'whit', 'commune', 'depictions', 'inflate', 'exiled', 'fred', 'heady', 'nonexistent', 'transcends', 'berlin', 'violinist', 'strikingly', 'stuffy', 'skillfully', 'rainbows', 'structuring', 'tang', 'admirers', 'anecdote', 'delusions', 'underscore', 'loathe', 'stardom', 'grainy', 'fateful', 'fright', 'alienation', 'swaying', 'open-ended', 'mediocrity', 'dashing', 'cashing', 'burdened', 'sickening', 'conjure', 'rachel', 'redeeming', 'nemesis', 'coldest', 'up-and-coming', 'modestly', 'rouge', 'composure', 'hindered', 'blob', 'unequivocally', 'heartily', 'tumultuous', 'fable', 'strangest', 'conflicted', 'anne', 'jackass', 'passer', '22-year-old', 'martyr', 'sadistic', 'riddle', 'recreated', 'edward', 'titans', 'morbid', 'promenade', 'jagged', 'self-control', 'sociological', 'nazi', 'defies', 'bourgeois', 'tagline', 'infrequently', 'must-see', 'groan', 'unruly', 'glacial', 'truncated', 'pandora', 'ushered', 'anchoring', 'scorn', 'reunions', 'heyday', 'harrowing', 'calibre', 'succumb', 'bloodshed', 'fantastically', 'sweetly', 'protracted', 'choppy', 'excesses', 'crusty', 'anarchist', 'ana', 'disapproval', 'instructs', 'firmer', 'impressively', 'digested', 'stinging', 'sorority', 'dismantle', 'splashing', 'femme', 'sparring', 'playbook', 'fanboy', 'gusto', 'flickering', 'faked', 'inseparable', 'rudimentary', 'deliverance', 'uplift', 'simmering', 'dissection', 'liberally', 'debatable', 'backseat', 'doubting', 'cartons', 'opposites', 'repressed', 'wrecks', 'populist', 'stylists', 'undermines', 'spades', 'invigorating', 'heroism', 'oo', 'indecent', 'elm', 'eloquently', 'marathons', 'pep', 'overtly', 'pete', 'navel', 'channeling', 'holland', 'legged', 'authenticate', 'reactionary', 'stephen', 'chronically', 'perils', 'ramblings', 'supremely', 'shattering', 'mid-range', 'consummate', 'adams', 'thi', 'blight', 'botched', 'unifying', 'full-fledged', 'randomness', 'convincingly', 'nonsensical', 'seizing', 'goers', 'rhino', 'yawn', 'uma', 'gullible', 'barbed', 'upheaval', 'idealistic', 'democracies', 'countenance', 'abomination', 'salient', 'smartly', 'smirk', 'assassins', 'normative', 'plastered', 'nuance', 'indians', 'engulfed', 'dispel', 'palatable', 'pretends', 'tickled', 'awkwardly', 'calamity', 'compulsion', 'chimes', 'affectionately', 'hush', 'affirms', 'kiosks', 'revitalize', 'glancing', 'fingered', 'intoxication', 'reincarnation', 'intrepid', 'defiant', 'entree', 'incessant', 'kindred', 'keel', 'slowest', 'scandalous', 'low-key', 'projectile', 'descends', 'centering', 'orbits', 'distillation', 'action-packed', 'indignation', 'busts', 'sleazy', 'sympathize', 'marred', 'predictably', 'tact', 'celebratory', 'dishonesty', 'extrusion', 'pegged', 'ferret', 'inexplicable', 'failings', 'ensues', 'revel', 'cad', 'boundless', 'subtlety', 'bogged', 'cheerfully', 'arcane', 'feisty', 'nimble', 'meditative', 'mojo', 'snowball', 'superfluous', 'evoked', 'kangaroo', 'sprawl', 'euphoria', 'humbling', 'outlandish', 'affirming', 'iran', 'homophobia', 'all-out', 'mimics', 'disappointments', 'equalizer', 'norton', 'privy', 'trombone', 'extremities', 'torturing', 'publicist', 'anxieties', 'parrots', 'stumbles', 'spectacularly', 'angling', 'effecting', 'mushy', 'shoddy', 'affections', 'impulsive', 'romances', 'sparking', 'extant', 'brooding', 'clunky', 'satisfactorily', 'milder', 'expectant', 'replete', 'rapes', 'sever', 'serials', 'wanton', 'tasteless', 'likeable', 'susan', 'princesses', 'robberies', 'gleaned', 'auspicious', 'head-on', 'intoxicating', 'torpedo', 'frighten', 'overuse', 'shiver', 'karen', 'burrito', 'well-defined', 'trinity', 'excruciating', 'handguns', 'gags', 'punctuated', 'trashy', 'masala', 'impersonal', 'tormented', 'scribe', 'stewart', 'dichotomy', 'riddled', 'salvaged', 'exuberant', 'annex', '19th-century', 'assesses', 'gimmicks', 'unwavering', 'blunder', 'bristles', 'alan', 'keenly', 'sieve', 'morph', 'spectacles', 'wildcard', 'cuter', 'die-hard', 'sequins', 'brimming', 'eventful', 'cooper', 'dolly', 'snappy', 'subversive', 'illuminates', 'awry', 'shreds', 'lull', 'bewildered', 'live-action', 'splashed', 'weakly', 'shortness', 'victimized', 'autobiographical', 'ode', 'domino', 'suspending', 'cautions', 'ascension', 'tommy', 'revisiting', 'likable', 'posterity', 'dey', 'pranks', 'intersect', 'forte', 'gushing', 'agnostic', 'fringes', 'intolerable', 'shockingly', 'commendable', 'naïve', 'ian', 'smitten', 'working-class', 'expend', 'chan', 'fetching', 'manhattan', 'keg', 'concoction', 'mein', 'inhuman', 'tenderly', 'joseph', 'greg', 'sneeze', 'wreak', 'hounds', 'meandering', 'whirl', 'gory', 'notches', 'deviant', 'dazzle', 'needlessly', 'bickering', 'principled', 'jolt', 'aggravating', 'whiny', 'flamboyant', 'gasping', 'sara', 'sparkles', 'valiant', 'hare', 'daft', 'ballerina', 'coolness', 'stench', 'observant', 'ms.', 'gratefully', 'birmingham', 'defiantly', 'slaps', 'adapts', 'generational', 'gratuitous', 'frat', 'heartwarming', 'acumen', 'rowdy', 'lightness', 'high-powered', 'after-school', 'conundrum', 'confuses', 'disservice', 'foreman', 'hallmarks', 'glides', 'seater', 'merci', 'unwillingness', 'smokey', 'idiocy', 'sensuality', 'profane', 'holographic', 'trove', 'incoherent', 'nancy', 'saddest', 'sobering', 'uneventful', 'animator', 'ww', 'swims', 'genial', 'lingers', 'gong', 'awe-inspiring', 'big-time', 'christianity', 'somber', 'unorthodox', 'lint', 'metaphorical', 'jake', 'indulgent', '10-year-old', 'imitating', 'epiphany', 'glimmer', 'ingest', 'transcendent', 'sustains', 'counterproductive', 'sustenance', 'shocker', 'fanatical', 'miniseries', 'simpsons', 'infuse', 'smoothed', 'carter', 'lectured', 'damning', 'suspiciously', 'oscar', 'wanders', 'inexplicably', 'wounding', 'soapy', 'stave', 'twenty-first', 'swagger', 'waltz', 'idiom', 'reworked', 'cuteness', 'warden', 'deranged', 'unhappiness', 'undercut', 'betty', 'subsided', 'cadence', 'disingenuous', 'poise', 'painkillers', 'fanciful', 'detractors', 'bled', 'skyscraper', 'self-determination', 'odyssey', 'co-operative', 'ralph', 'sci', 'spits', 'opulent', 'sia', 'craig', 'slanted', 'downsizing', 'aficionados', 'monotonous', 'artistically', 'drab', 'ready-made', 'contemplative', 'offbeat', 'drifts', 'idealism', 'recesses', 'overpowered', 'scottish', 'convinces', 'jazzy', 'falcon', 'italics', 'silliness', 'crucifixion', 'weighty', 'twinkle', 'blushing', 'adherents', 'postmodern', 'burlesque', 'eagerness', 'intermittently', 'unsettled', 'deceptively', 'cross-cultural', 'cautionary', 'depraved', 'scariest', 'little-known', 'sensitivities', 'lewd', 'biggie', 'hawaiian', 'bale', 'ditched', 'crumb', 'moustache', 'hispanic', 'warren', 'jarring', 'impossibly', 'ramble', 'yung', 'oozing', 'agonizing', 'inquisitive', 'tiniest', 'complacency', 'whiff', 'spousal', 'ex-girlfriend', 'franklin', 'taut', 'searing', 'loco', 'steven', 'tailor-made', 'scorpion', 'exudes', 'redone', 'tome', 'pug', 'brooks', 'tosses', 'futility', 'devious', 'snagged', 'undergrad', 'sympathies', 'overcomes', 'erupt', 'harris', 'accomplishes', 'heretofore', 'merges', 'stirs', 'tremble', 'spotlights', 'tacked', 'bombshell', 'spotty', 'skunk', 'repulsive', 'raunchy', '65th', 'small-town', 'bypassing', 'turd', 'self-conscious', 'substandard', 'indulged', 'zips', 'admirer', 'pompous', 'vices', 'woefully', 'well-balanced', 'indigestion', 'sensuous', 'topple', 'perplexing', 'shrewd', 'kiddie', 'grandiose', 'chastity', 'caterer', 'darned', 'post-production', 'baffle', 'parker', 'sag', 'baffling', 'unrelenting', 'labors', 'ze', 'drivel', 'lapel', 'raucous', 'prologue', 'wobbly', 'luke', 'pulsating', 'down-to-earth', 'injustices', 'virtuoso', 'courtship', 'no-nonsense', 'abysmal', 'jr.', 'existent', 'maxim', 'roger', '26-year-old', 'viva', 'drips', 'stagnation', 'eponymous', 'enamored', 'wattage', 'hairline', 'lynch', 'methodical', 'afterthought', 'serviceable', 'chelsea', 'improvise', 'decisively', 'stalked', 'reopens', 'mush', 'avant', 'lags', 'dearth', 'latches', 'vignettes', 'pungent', 'innocuous', 'barry', 'glows', 'juxtaposition', 'charred', 'eerily', 'jumpsuit', 'fuelled', 'conceptions', 'stoop', 'snooze', 'travesty', 'enigma', 'embellishment', 'inane', 'unsolved', 'leaner', 'directorial', 'pandering', 'forsaken', 'dyslexia', 'diss', 'mired', 'vanessa', 'colonialism', 'barbara', 'motionless', 'flagging', 'unholy', 'alienate', 'labored', 'whimsy', 'aloft', 'aan', 'characterizes', '51st', 'diverting', 'invokes', 'excites', 'instilled', 'resurrect', 'theorist', 'bugged', 'wayward', 'surrendering', 'heartland', 'aftertaste', 'fatter', 'admirably', 'posturing', 'uncovers', 'dwells', 'insistent', 'touts', 'smeared', 'unscathed', 'impresses', 'donna', 'narcissistic', 'skimpy', 'playfully', 'ever-growing', 'untrained', 'stuttering', 'shackles', 'relayed', 'well-deserved', 'aloof', 'imagines', 'energizing', 'purportedly', 'portuguese', 'smarts', 'danny', 'grinds', 'artsy', 'stifling', 'hookers', 'smothered', 'julie', 'bard', 'smacks', 'artful', 'recreating', 'deftly', 'marshall', '15-year', 'mtv', 'teeming', 'captives', 'trimmings', 'bohemian', 'buoy', 'geriatric', 'antiseptic', 'springing', 'kiddies', 'saddled', 'uninteresting', 'preposterous', 'heist', 'environs', 'zelda', 'darkly', 'terminally', 'farts', 'intricately', 'introspection', 'neurotic', 'eddie', 'cranked', 'milieu', 'rogers', 'lapses', 'retrograde', 'molested', 'weirdness', 'cipher', 'spied', 'molestation', 'retelling', 'incessantly', 'perceptive', 'pow', 'enveloped', 'fabulously', 'porridge', 'myrtle', 'emphatic', 'rarest', 'modernized', 'criticizes', 'aristocracy', 'derailed', 'spiderman', 'tres', 'rigor', 'infiltrated', 'conceptually', 'introspective', 'brazen', 'lustrous', 'yesteryear', 'lopez', 'demi', 'unassuming', 'scathing', 'elvis', 'superlative', 'uncharted', 'pollute', 'tundra', 'unspeakable', 'spouting', 'blip', 'moronic', 'thrusts', 'irreverent', 'thrillers', 'patriarchal', 'light-hearted', 'refreshingly', 'bask', 'wry', 'sickly', 'assuredly', 'robustness', 'flourishes', 'tenacious', 'modernize', 'fumbled', 'incarnations', 'lashing', 'wrenching', 'flowery', 'bitchy', 'inescapable', 'unsatisfied', 'autopilot', 'hibernation', 'astonishingly', 'clear-cut', 'assimilated', 'sportsmanship', 'undoing', 'feel-good', 'remade', 'alexander', 'hiss', 'matthew', 'four-star', 'reno', 'laborious', 'institutionalized', 'haute', 'solemnly', 'shivers', 'one-dimensional', 'impenetrable', 'christopher', 'gulp', 'painstaking', 'kilt', 'eminently', 'abject', 'dazed', 'accumulates', 'elicited', 'half-dozen', 'outrageously', 'starry', 'neil', 'rediscover', 'brainer', 'appetites', 'recharged', 'odour', 'interfaith', 'springboard', 'complicity', 'lapping', 'tremors', 'uncomfortably', 'so-so', 'synergistic', 'bolder', 'idiosyncratic', 'sketched', 'fumbles', 'overworked', 'floyd', 'discernible', 'melodrama', 'dwarfs', 'malaise', 'shamelessly', 'pax', 'overused', 'spontaneity', 'sneaks', 'lucy', 'puns', 'bygone', 'inconceivable', 'trappings', 'hard-core', 'peppered', 'opts', 'foursome', 'analgesic', 'taunt', 'demented', 'bode', 'single-handedly', 'cgi', 'overdone', 'beatings', 'julia', 'preaches', 'bolstered', 'impervious', 'co-wrote', 'tattered', 'culled', 'shrill', 'dimming', 'margarita', 'allegory', 'cursory', 'goosebumps', 'jesse', 'beck', 'dogged', 'plutonium', 'danish', 'adoring', 'transvestite', 'roy', 'hilariously', 'softens', 'imparted', 'amiss', 'lingered', 'jeremy', 'quintet', 'instalment', 'moulds', 'prickly', 'multiplex', 'cliches', 'faceless', 'engrossing', 'episodic', 'compendium', 'chai', 'revolutionaries', 'bearable', 'remakes', 'deafening', 'epicenter', 'anarchists', 'self-awareness', 'servitude', 'austere', 'russell', 'inner-city', 'dismissive', 'wasp', 'overbearing', 'rip-off', 'caustic', 'tinge', 'unbridled', 'idling', 'frothy', 'tongue-in-cheek', 'sordid', 'cobbled', 'unbreakable', 'brash', 'outweighs', 'warner', 'passable', 'portugal', 'indelible', 'cocoon', 'shag', \"'50s\", 'alienating', 'racy', 'humanly', 'predictability', 'naught', 'delves', 'lighthearted', 'pinks', 'discord', 'flopped', 'forgettable', 'buoyant', 'shaggy', 'harvests', 'well-meaning', 'aussie', 'amalgam', 'trope', 'muddled', 'unfaithful', 'hilarity', 'scheming', 'twinkling', 'ghastly', 'piecing', 'conspiracies', 'dumber', 'madonna', 'superhuman', 'attuned', 'trite', 'conjures', 'distasteful', 'transgression', 'thump', 'reprieve', 'exuberance', 'awash', 'sporadically', 'soars', 'tabloids', 'angelina', 'undertones', 'alternates', 'barbarian', 'lusty', 'graze', 'overstated', 'childlike', 'pique', 'spirals', 'obsessions', 'speck', 'irrevocable', 'hushed', 'stubbornly', 'waxes', 'meshes', 'weirdo', 'slurs', 'pokes', 'biopic', 'self-centered', 'splendour', 'squashed', 'fetishes', 'undressed', 'vin', 'demeaning', 'sportsmen', 'portraiture', 'reruns', 'crass', 'yank', 'borrows', 'inconsequential', 'glitz', 'receding', 'outnumber', 'penance', 'lawrence', 'nelson', 'educates', 'sally', 'icky', 're-release', 'archetypal', 'audacious', 'seedy', 'uninspired', 'fervently', 'shapely', 'abridged', 'bmx', 'personas', 'mystique', 'faraway', 'lethargic', 'artfully', 'aaa', 'elevates', 'visualizing', 'eloquence', 'bundling', 'ambivalent', 'spinoff', 'exemplify', 'titular', 'weaver', 'concealment', 'veracity', 'disjointed', 'pap', 'freezers', 'gleefully', 'absurdly', 'pessimism', 'dissipated', 'numbing', 'operatic', 'crawls', 'amiable', 'earmarks', 'awakens', 'meow', 'doings', 'munch', 'boisterous', 'outbursts', 'dutifully', 'distinguishable', 'close-ups', 'grievous', 'delving', 'underdeveloped', 'lumpy', 'full-bodied', 'showy', 'subculture', 'co-stars', 'caved', 'carl', 'hard-hitting', 'infuriating', 'quibble', 'cox', 'helluva', 'inconclusive', 'steers', 'empathize', 'frenetic', 'unfulfilled', 'anemic', 'sandra', 'massacres', 'boomer', 'overblown', 'wheezing', 'suspenseful', 'saucy', 'pithy', 'unexplored', 'dud', 'tepid', 'tinged', 'tantamount', 'symbolically', 'deft', 'handily', 'voice-over', 'immediacy', 'bender', 'naturalistic', 'mercilessly', 'excepting', 'rigors', 'whoop', 'blacked', 'three-hour', 'developmentally', 'imparting', 'rosa', 'kennedy', 'dislocation', 'banal', 'inimitable', 'adrift', 'self-righteous', 'bores', 'lin', 'censure', 'charleston', 'hart', 'chokes', 'depress', 'chasm', 'summery', 'uptight', 'anyplace', 'impatiently', 'casings', 'gluing', 'standup', 'riveted', 'hellish', 'treachery', 'entertains', 'campbell', 'blaring', 'aimlessly', 'ferment', 'lactating', 'crypt', 'confrontational', 'jolie', 'parochial', 'heaped', 'frayed', 'contraption', 'trickery', 'fiend', 'awkwardness', 'enthralling', 'dana', 'ably', 'mythic', 'fluttering', 'annie', 'star-studded', 'spot-on', 'masquerade', 'radiates', 'singh', 'permeates', 'wang', 'attentions', 'hitler', 'flatly', 'maddening', 'trifle', 'musty', 'compels', 'nicks', 'lullaby', 'flip-flop', 'quickie', 'carlos', 'lux', 'gloriously', 'heavyweights', 'ugliness', 'scrutinize', 'modus', 'stepmother', 'twister', 'handsomely', 'ravishing', 'aspires', 'tirade', 'kraft', 're-create', 'schoolers', 'roach', 'treading', 'donald', 'clamoring', 'singularly', 'overrides', 'dragonfly', 'masterfully', 'masquerading', 'makings', 'fluidity', 'yawning', 'kid-friendly', 'reworking', 'tidings', 'authentically', 'riddles', 'jaunt', 'juan', 'chuckles', 'starship', 'muttering', 'treads', 'scarier', 'fixated', 'jonathan', 'cognizant', 'get-go', 'afghan', 'stanley', 'chiller', 'conspicuously', 'confrontations', 'sizzle', 'loveable', 'purports', 'diabolical', 'reprehensible', 'caricatures', 'liven', 'deflated', 'land-based', 'blissfully', 'bushels', 'truest', 'carey', 'flailing', 'confessional', 'weaned', 'cameos', 'evans', 'imbued', 'doug', 'arthur', '6-year-old', 'carmen', 'innuendo', 'enchantment', 'machinations', 'patchy', 'unearth', 'macabre', 'quivering', 'old-time', 'impeccably', 'savour', 'co-written', 'caucasian', 'clichés', 'wide-angle', 'judicious', 'gourd', 'virulent', 'shambles', 'throes', 'low-budget', 'annals', 'monte', 'unleashes', 'knee-jerk', 'overheated', 'tie-in', 'coy', 'gaudy', 'awed', 'undying', 'wintry', 'gibberish', 'prefabricated', 'unnerving', 'hudson', 'withered', 'lurks', 'aggressiveness', 'jabs', 'uninitiated', 'pantheon', 'far-fetched', 'collie', 'molly', 'averse', 'word-of-mouth', 'patting', 'stoner', 'grown-ups', 'secretions', 'leon', 'well-made', 'mel', 'margaritas', 'unsung', 'depravity', 'lavishly', 'indignant', 'appetizing', 'malleable', 'evoking', 'confounded', 'impersonation', 'espoused', 'reshaping', 'distaste', 'drowsy', 'brussels', 'well-developed', 'infatuation', 'todd', 'flattening', 'otherworldly', 'symbiotic', 'irreparable', 'inadvertent', 'exasperated', 'purists', 'seduces', 'rigidly', 'stifled', 'rerun', 'combustible', 'concocted', 'teenaged', 'inexcusable', 'conduits', 'roberts', 'griffin', 'redeemable', 'underlines', '8-year-old', 'resentful', 'inextricably', 'gander', 'suffocating', 'intractable', 'humanist', 'overflows', 'jam-packed', 'letdown', 'penn', 'melodramatic', 'plucking', 'subtitled', 'comprehensible', 'winded', 'murray', 'ces', 'boyz', 'monroe', 'chateau', 'underwhelming', 'anti-', 'preemptive', 'bryan', 'bod', 'unfathomable', 'jackie', 'amicable', 'slog', 'gibson', 'unremarkable', 'balding', 'science-fiction', 'unadulterated', 'exude', 'implausible', 'matinee', 'deja', 'ruse', '90-minute', 'self-image', 'shorty', 'zany', 'blake', 'transparently', 'contemplates', 'venus', 'diversions', 'ooze', 'weirdly', 'methodically', 'backdrops', 'murphy', 'gargantuan', 'wide-eyed', 'résumé', 'thunderous', 'burlap', 'dispatching', 'box-office', 'beckons', 'blockbusters', 'cuban', 'reclaiming', 'chatty', 'ruthlessly', 'tots', 'travis', 'snazzy', 'stylishly', 'claire', 'personified', 'upping', 'monologues', 'wail', 'bonanza', 'dynamism', 'flat-out', 'punchy', 'stabs', 'downer', 'unsurprisingly', 'conjured', 'deathly', 'skateboards', 'dylan', 'fast-moving', 'claustrophobic', 'monotony', 'docile', 'confounding', 'joel', 'grumbling', 'endgame', 'plunges', 'reparations', 'crazier', 'tux', 'squirm', 'dv', 'jaw-dropping', 'predisposed', 'infantile', 'humanism', 'multi-layered', 'crackle', 'brats', 'aggrieved', 'cruelly', 'incisive', 'imitations', 'sorcerer', 'sniping', '2-day', 'precocious', 'mores', 'cuba', 'fun-loving', 'grumble', 'gobble', 'rehash', 'zap', 'barbs', 'hyperbolic', 'euphemism', 'fancies', 'parables', 'sharpener', 'unwieldy', 'unease', 'lazily', 'obscenity', 'sappy', 'ceo', 'walt', 'facades', 'conceit', 'refreshes', 'allusions', 'lucas', 'cogent', 'arty', 'adrenalin', 'charade', 'balk', 'forthright', 'subcontinent', 'mitchell', 'eddy', 'irritates', 'fatherhood', 'bewildering', 'climactic', 'bumbling', 'ripoff', 'thud', 'revolting', 'gutsy', 'recompense', 'hitman', 'connoisseurs', 'boarders', 'venice', 'ripening', 'circumstantial', 'candor', 'imperfection', 'twenty-three', 'pathos', 'point-to-point', 'costumed', 'cinematographer', 'wane', 'belittle', 'didactic', 'rea', 'gasps', 'disconnection', 'clashing', 'welt', 'newcastle', 'poof', 'specter', 'wilder', 'repugnant', 'moat', 'steamboat', 'haphazard', 'evasive', 'mann', 'coughed', 'ferocity', 'obsessively', '20th-century', 'banger', 'customarily', 'oozes', 'holmes', 'slasher', 'mending', 'copycat', 'handiwork', 'seeping', 'omnibus', 'four-year-old', 'faceoff', 'subtext', 'whirling', 'amok', 'mariah', 'jumble', 'humanistic', 'raccoons', 'shawn', 'infomercial', 'tripe', 'espn', 'thoughtless', 'unintelligible', 'dredge', 'narcissism', 'hard-pressed', 'scooping', 'competently', 'heralds', 'underdogs', 'slapstick', 'overwritten', 'disoriented', 'delirium', 'honeys', 'togetherness', 'bleu', 'ethnicities', 'douglas', 'tenet', 'lunacy', 'bluffs', 'myers', 'hibiscus', 'ellen', 'muddle', 'squirts', 'denizens', 'self-expression', 'unflattering', 'elude', 'oddity', 'pained', 'self-promotion', 'bravado', 'hunky', 'dystopian', 'impressionable', 'disagreeable', 'splatter', 'kathy', 'provokes', 'cloaked', 'patronizing', 'captors', 'evaporates', 'mannerisms', 'terrors', 'walter', 'faltering', 'placid', 'tearful', 'self-destructive', 'recessive', 'good-natured', 'outtakes', 'wistful', 'womanhood', 'leery', 'snore', 'wickedly', 'antagonism', 'consigned', 'cuss', 'surefire', 'nary', 'erin', 'posthumously', 'belgium', 'insurrection', 'sub-par', 'devaluation', 'interdependence', 'angela', 'hairdo', 'newness', 'characterisation', 'grisly', 'smackdown', 'mediterranean', 'family-oriented', 'malnourished', 'epilogue', 'dupe', 'made-up', 'deploys', 'assembles', 'oliver', 'underlies', 'ethnographic', 'storytellers', 'plaguing', 'coulda', 'characteristically', 'caretakers', 'unpretentious', 'capricious', 'oodles', 'astringent', 'jumbled', 'pamela', 'nightmarish', 'apollo', 'cliffhanger', 'calvin', 'epics', 'workman', 'campy', 'unreachable', 'rote', 'unofficially', 'entwined', 'fortify', 'crescendo', 'paula', 'twirling', 'garde', 'kitsch', 'facile', 'christine', 'rancid', 'welsh', 'magnolia', 'fascinate', 'above-average', 'bemused', 'hoopla', 'hugh', 'schoolboy', 'shanghai', 'misogyny', 'dampened', 'well-intentioned', 'chuckling', 'tara', 'one-liners', 'luckiest', 'celibacy', 'partisans', 'chimps', 'klein', 'marcus', 'merrily', 'strays', 'paradoxically', 'morris', 'drive-by', 'romeo', 'marveled', 'operandi', 'entranced', 'iota', \"''\", 'formulaic', 'diction', 'introverted', 'travail', 'dissing', 'pageants', 'martha', 'natalie', 'q.', 'disappoints', 'whimper', 'flinch', 'roars', 'run-of-the-mill', 'ambivalence', 'blasphemous', 'yi', 'purgatory', 'monotone', 'straddle', 'self-inflicted', 'philosophically', 'notations', 'twisty', 'life-size', 'scruffy', 'iconography', 'islanders', 'deconstruction', 'war-torn', 'cynic', 'mannered', 'superficially', 'pimps', 'rekindle', 'entrée', 'weirder', 'colin', 'frolic', 'sedate', 'heavy-handed', 'laudable', 'negated', 'peculiarly', 'portrayals', 'snide', 'panache', 'trotting', 'unsteady', 'norwegian', 'sorrowful', 'seamstress', 'revisionist', 'screenplays', 'tropes', 'annoyances', 'resolutely', 'stacy', 'steadfastly', 'implosion', 'injects', 'catherine', 'delineate', 'kenneth', 'nouvelle', 'trey', 'soulless', 'freighter', 'crummy', 'thoughtfulness', 'saddens', 'critiquing', 'computer-generated', 'juni', 'cutesy', 'blair', 'wasabi', 'throwaway', 'affable', 'backwater', 'meander', 'eye-popping', 'coinage', 'degrades', 'mormon', 'disarming', 'insular', 'lark', 'uninhibited', 'scintillating', 'kurt', 'all-powerful', 'winks', 'cathartic', 'modicum', 'stevens', 'pointedly', 'defensible', 'flopping', 'oeuvre', 'pasty', 'vincent', 'harvey', 'unabashed', 'playfulness', 'escapades', 'omniscient', 'watchable', 'unmistakably', 'immaculately', 'royals', 'stylings', 'vowing', 'affluence', 'missteps', 'chump', 'aplenty', 'uncluttered', 'marilyn', 'frightful', 'whet', 'damsel', 'courtney', 'unsavory', 'zigzag', 'fil', 'languishing', 'caper', 'lurid', 'veered', 'long-lived', 'duds', 'earplugs', 'drug-related', 'propels', 'memento', 'distracts', 'thoroughfare', 'well-crafted', 'transcendence', 'glitzy', 'newton', 'melancholic', 'screenwriting', 'prim', 'mournful', 'ignites', 'threefold', 'heft', 'teetering', 'warlord', 'soured', 'after-hours', 'brainless', 'joan', 'litmus', 'shrapnel', 'derek', 'midlife', 'parlance', 'infatuated', 'abhorrent', 'underbelly', 'delirious', 'heartening', 'grooved', 'tacks', 'squirming', 'harshness', 'cleverness', 'midsection', 'tickles', 'oomph', 'succumbing', 'caffeinated', 'revives', 'dead-end', 'pared', 'riled', 'slowness', 'toothless', 'willie', 'houseboat', 'sociopath', 'self-absorbed', 'sideshow', 'forewarned', 'hand-drawn', 'dissecting', 'harvard', 'eclipses', 'suspecting', 'punchline', 'disconnects', 'bebe', 'mail-order', 'strident', 'unappealing', 'conspirators', 'reid', 'big-screen', 'slop', 'villainous', 'characterizations', 'vivacious', 'redemptive', 'rackets', 'raison', 'bogs', 'assailants', 'reeks', 'immaturity', 'honorably', 'falsehoods', 'robinson', 'brit', 'morphs', 'shallower', 'uglier', 'gorgeously', 'ill-advised', 'entrapment', 'confining', 'hustler', 'jovial', 'coming-of-age', 'harrison', 'squint', 'vaudeville', 'diane', 'cho', 'royally', 'overture', 'far-flung', 'flabby', 'mandy', 'paperbacks', 'sexiness', 'mettle', 'amateurish', 'distorts', 'foreshadowing', 'loony', 'unconcerned', 'omits', 'doldrums', 'privates', 'fragmentary', 'wordy', 'strutting', 'redundancies', 'unabashedly', 'shriek', 'frustrates', 'vietnamese', 'ditty', 'naturalism', 'ineptitude', 'beijing', 'fascinates', 'wordless', 'aground', 'recreates', 'o.k.', 'myopic', 'verve', 'luis', 'pillowcases', 'stasis', 'spliced', 'morsels', 'ame', 'hughes', 'wince', 'vaunted', 'squander', 'self-discovery', 'grimy', 'loopy', 'disneyland', 'passe', 'posits', 'harmoniously', 'prescient', 'serendipity', 'off-putting', 'shakespeare', 'knockoff', 'embarrassingly', 'denmark', 'maggots', 'philip', 'bermuda', 'stereotyped', 'milked', 'entertainments', 'travelogue', 'orc', 'purr', 'berkeley', 'burr', 'triumphantly', 'discerned', 'virtuosity', 'one-night', 'wallace', 'reams', 'sy', 'kane', 'pander', 'unhinged', 'spiffy', 'romanticism', 'staid', 'point-and-shoot', 'third-person', 'internalized', 'pent', 'infamy', 'reinvention', 'hobbled', 'undeserved', 'surrenders', 'civics', 'mapquest', 'name-calling', 'ringside', 'mopping', 'expound', 'bentley', 'straight-up', 'subplot', 'four-hour', 'post-modern', 'artistes', 'arnold', 'rock-solid', 'well-behaved', 'terrorizing', 'decrepit', 'feature-length', 'cradles', 'uninspiring', 'brett', 'tinsel', 'pleaser', 'whitewash', 'career-best', 'seth', 'inexorably', 'platitudes', 'norris', 'sentimentality', 'unturned', 'self-indulgent', 'strangeness', 'stymied', 'drowns', 'glosses', 'showtime', 'bucked', '50-year-old', 'israeli', 'silences', 'garish', 'flirts', 'knoxville', 'unrealized', 'mourns', 'exploitative', 'chafing', 'enveloping', 'mugging', 'cartoonish', 'oprah', 'gimmicky', 'messianic', 'weightless', 'goodly', 'juiced', 'unafraid', 'presumes', 'nauseating', 'repelled', 'adrian', 'cannibal', 'indoctrinated', 'payoffs', 'shoestring', 'disturbingly', 'lola', 'maggie', 'barbershop', 'spiteful', 'hustling', 'freeman', 'aniston', 'adorns', 'pleasuring', 'zeitgeist', 'hilary', 'nubile', 'low-grade', 'unfunny', 'avengers', 'infusing', 'interviewees', 'barrow', 'unoriginal', 'well-done', 'amoral', 'holden', 'redux', 'breathtakingly', 'fussing', 'concoctions', 'queasy', 'westerners', 'undercurrent', 'pretence', 'garbled', 'pre-teen', 'uncommonly', 'expository', 'cutthroat', 'larger-than-life', 'in-your-face', 'tics', 'cussing', 'gesturing', 'neglects', 'fizz', 'shaw', 'constricted', 'rumblings', 'uncool', 'charmer', 'splendidly', 'wiggling', 'reptilian', 'reaffirms', 'glib', 'franc', 'undertone', 'teleprompter', 'skirmishes', 'retrospectively', 'conned', 'aspired', 'rollicking', 'wanker', 'floundering', 'domineering', 'deep-seated', 'bombastic', 'aimless', 'celluloid', 'mean-spirited', 'savagely', 'brady', '4ever', 'cia', 'barf', 'labours', 'locusts', 'avon', 'merited', 'hos', 'fantasized', 'featherweight', 'long-winded', 'pathetically', 'boatload', 'shifty', 'generically', 'natured', 'inadequately', 'surrealism', 'ambiguities', 'overcooked', 'luther', 'unimpressive', 'screenwriters', 'unrequited', 'meyer', 'aplomb', 'incongruous', 'evaded', 'preachy', 'crisper', 'cryin', 'temperamental', 'shatters', 'kooky', 'demeanour', 'flatulence', 'wallowing', 'surest', 'unexplainable', 'tumult', 'vulgarity', 'strolls', 'sure-fire', 'insipid', 'finch', 'blustery', 'artefact', 'comatose', 'drudgery', 'eee', 'unevenly', 'pretensions', 'school-age', 'parachutes', 'flinging', 'tortuous', 'straddles', 'molto', 'mire', 'insufficiently', 'faulted', 'unprovoked', 'cosa', 'cold-blooded', 'heidi', 'winking', 'wizardry', 'hems', 'olympus', 'misdirected', 'decommissioned', 'overwhelms', 'groggy', 'valiantly', 'samuel', 'conceited', 'interminable', 'plodding', 'unseemly', 'moviegoers', 'intergalactic', 'unflinching', 'coasting', 'groupies', 'revels', 'well-worn', 'frighteningly', 'stuart', 'unconvincing', 'trifecta', 'elicits', 'caesar', 'nash', 'pasts', 'escapism', 'frowns', 'freakish', 'claus', 'emulates', 'underappreciated', 'leniency', 'self-aware', 'socio-political', 'grownups', 'recklessness', 'regalia', 'touchstone', 'comically', 'lyricism', 'disintegrating', 'cliched', 'zeroes', 'vapid', 'strangling', 'ascends', 'deteriorates', 'beguiling', 'itinerant', 'boilerplate', 'conquers', 'unapologetic', 'uhhh', 'garcia', 'sisterhood', 'reverie', 'lumbering', 'putrid', 'unfocused', 'unsatisfying', 'usurp', 'margaret', 'badness', 'screed', 'linearity', 'hal', 'whacking', 'imposter', 'enliven', 'unrepentant', 'ick', 'reenactment', 'aristocrat', 'looney', 'worn-out', 'cheapo', 'broadside', 'amusements', 'libretto', 'essayist', 'hicks', 'evacuations', 'dreamlike', 'infuses', 'sanders', 'startle', 'italicized', 'rez', 'owen', 'tucker', 'half-hearted', 'slob', 'revulsion', 'minutiae', 'tightrope', 'eccentricity', 'dreadfully', 'ellis', 'jokers', 'vicarious', 'spews', 'russians', 'kidnappings', 'orchestrating', 'nurtures', 'middling', 'juliet', 'long-suffering', 'pop-culture', 'deadpan', 'suffocate', 'reverent', 'misfit', 'bv', 'anthropomorphic', 'make-believe', 'retaliatory', 'unsurprising', 'meanest', 'irresistibly', 'spoofs', 'amish', 'diaz', 'joshua', 'grungy', 'trifling', 'distill', 'irreconcilable', 'padre', 'bart', 'slow-moving', 'dicey', 'zoe', 'coda', 'hokey', 'barney', 'populating', 'fearlessly', 'dawns', 'thematically', 'insensitivity', 'confection', 'vega', 'underutilized', 'conjuring', 'heart-warming', 'zippy', 'nine-year-old', 'emaciated', 'morrison', 'incognito', 'follies', 'putters', 'interludes', 'allison', 'auteur', 'millisecond', 'marvelously', 'loathsome', 'articulates', 'iq', 'oddest', 'rapt', 'seductively', 'foibles', 'indisputably', 'aristocrats', 'brooms', 'discards', 'spellbinding', 'unaccountable', 'inventiveness', 'fritters', 'no-frills', 'insufferable', 'prepackaged', 'flaccid', 'half-baked', 'deform', 'iraqi', 'anachronistic', 'frailty', 'haywire', 'psychopathic', 'low-tech', 'solidity', 'torments', 'barbarism', 'buries', 'belgian', 'antsy', 'sabotaged', 'unimaginative', 'pyrotechnics', 'unsaid', 'misadventures', 'smorgasbord', 'disrespected', 'dover', 'hedonistic', 'mrs.', 'unbearably', 'dour', 'crudely', 'recycles', 'artifice', 'tori', 'restate', 'swooping', 'surrealist', 'heart-wrenching', 'scrawled', 'thankless', 'old-world', 'cloaks', 'transpose', 'tupac', 'tyson', 'light-years', 'mick', 'doze', 'agitator', 'suffocation', 'sharpie', '50-year', 'reassembled', 'unknowable', 'skittish', 'baloney', 'begrudge', '\\\\*', 'carnivore', 'edifying', 'orwell', 'genteel', 'unsophisticated', 'jolted', 'bloodbath', 'mikes', 'cliques', 'resonances', 'stilted', 'tried-and-true', 'toro', 'cookie-cutter', 'wispy', 'excruciatingly', 'attics', 'jaunty', 'condescension', 'raymond', 'earnestness', 'wonderment', 'cringing', 'wall-to-wall', 'echelons', 'vacuous', 'languid', 'grimace', 'sardonic', 'sonny', 'indistinct', 'clumsily', 'flippant', 'costuming', 'swipes', 'contemptuous', 'spacey', 'shtick', 'stein', 'sledgehammer', 'plucky', 'roller-coaster', 'theatrics', 'schtick', 'self-styled', 'xerox', 'axel', 'shirley', 'phonograph', 'vexing', 'frankie', 'despairing', 'half-assed', 'revelatory', 'discordant', 'freddie', 'polemic', 'eludes', 'solaris', 'conan', 'shamefully', 'nonchalant', 'catholics', 'fallible', 'plotline', 'cleaver', 'stickiness', 'meanders', 'self-preservation', 'commander-in-chief', 'vagueness', 'co-writer', 'soiree', 'forrest', 'grasps', 'ransacked', 'frazzled', 'blithely', 'flurries', 'folksy', 'lulled', 'sleaze', 'damon', 'stylistically', 'irrepressible', 'self-sacrifice', 'missive', 'commercialism', 'outshine', 'letterman', 'overstuffed', 'telemarketers', 'amuses', 'girlish', 'castrated', 'bluster', 'boozy', 'slow-motion', 'sensitively', 'strongman', 'listless', 'turks', 'self-assured', 'roland', 'harps', 'dutiful', 'navigates', 'single-minded', 'flog', 'fairy-tale', 'underlay', 'stanzas', 'cinderella', 'eroticism', 'formalism', 'grimly', 'snobbery', 'cary', 'all-night', 'squabbling', 'deceptions', 'sanguine', 'pedro', 'bronx', 'agape', 'washout', 'undeserving', 'frothing', 'stanford', 'tinny', 'requiem', 'lameness', 'mcdonald', 'iranian', 'nonchalantly', 'elmo', 'retold', 'disinterest', 'fireballs', 'rapid-fire', 'tooled', 'discursive', 'ridiculousness', 'self-consciousness', 'hmmmmm', 'lacey', 'farcical', 'mulls', 'wreaked', 'droning', 'afterschool', 'canny', 'ethnography', 'catharsis', 'cloying', 'cesspool', 'ruinous', 'chen', 'skilfully', 'sensationalism', 'gallo', 'sameness', 'work-in-progress', 'misogynist', 'blimp', 'thirty-three', 'insinuating', 'comic-book', 'self-deprecating', 'purer', 'wong', 'unsympathetic', 'hallucinogenic', 'bai', 'emphasising', 'doting', 'befuddled', 'gratify', 'knock-off', 'matron', 'ill-informed', 'a.s.', 'marvin', 'qual', 'talkers', 'nicholas', 'gregory', 'stillborn', 'curio', 'prosaic', 'milks', 'dopey', 'leigh', 'expeditious', 'shoot-out', 'daydreams', 'travails', 'brent', 'tedium', 'yong', 'salacious', 'alfred', 'rediscovering', 'inclusiveness', 'laughably', 'nadir', 'neophyte', 'leonard', 'oscars', 'one-room', 'geneva', 'weber', 'dodges', 'great-grandson', 'obscenely', 'unguarded', 'jeffrey', 'grayish', 'vainly', 'quintessentially', 'contemptible', 'burke', 'tangents', 'halos', 'marquis', 'quadrangle', 'parent-child', 'minor-league', 'sneering', 'ferris', 'reynolds', 'veers', 'hallelujah', 'extra-large', 'trickster', 'shrugging', 'masterly', 'saddam', 'shallows', 'slivers', 'undisciplined', 'unravels', 'quashed', 'baboon', 'unmotivated', 'splashy', 'maggio', 'ineffable', 'misconstrued', 'monty', 'fatale', 'painterly', 'hideously', 'conniving', 'on-camera', 'levity', 'major-league', 'disguising', 'titillating', 'hackneyed', 'dulled', 'mind-numbing', 'brainy', 'swooning', 'subplots', 'underscoring', 'falters', 'millennial', 'dozing', 'electra', 'consoled', 'uppity', 'epitaph', 'bubba', 'forges', 'engorged', 'willis', 'veering', 'high-octane', 'fogging', 'maelstrom', 'wistfully', 'grouchy', 'anguished', 'cowering', 'clichéd', 'eke', 'frustratingly', 'resurrecting', 'persuades', 'quicksand', 'yale', 'instigator', 'furrow', 'stand-off', 'non-threatening', 'ventura', 'facetious', 'ivan', 'riviera', 'patronising', 'diggs', 'audrey', 'misfire', 'drawn-out', 'bullock', 'melanie', 'catechism', 'jostling', 'wal-mart', 'intelligentsia', 'stomps', 'reputedly', 'smugly', 'off-screen', 'indulges', 'pbs', 'alchemical', 'bullseye', 'payne', 'evocation', 'jammies', 'umpteenth', 'dispassionate', 'counterculture', 'redefinition', 'overdoing', 'strenuously', 'life-altering', 'bawdy', 'thumbing', 'solemnity', 'grosses', 'escapade', 'scooby', 'trudge', 'hell-bent', 'reassures', 'ponderous', 'vivre', 'absurdities', 'michele', 'deliberative', 'everyman', 'humorously', 'ayurveda', 'pastiche', 'bernard', 'hermetic', 'downbeat', 'poetics', 'berg', 'kool-aid', 'rae', 'whiney', 'compulsively', 'praiseworthy', 'guises', 'mouthpieces', 'decibel', 'canadians', 'springer', 'snickers', 'droll', 'closed-door', 'hard-won', 'ho-hum', 'greene', 'overwrought', 'unadorned', 'ill-conceived', 'squandering', 'naomi', 'sanctimonious', 'dustbin', 'boho', 'stinker', 'marveling', 'stripped-down', 'astoundingly', 'irvine', 'reductive', 'captivates', 'multilayered', 'thievery', 'soul-searching', 'second-rate', 'brazenly', 'wes', 'gutless', 'reminiscence', 'nicky', 'invulnerable', 'intentioned', 'mishandled', 'cynics', 'publicists', 'gaunt', 'perfunctory', 'avarice', 'ironies', 'gunfight', 'fizzle', 'ghoulish', 'hodgepodge', 'unwary', 'tatters', \"'40s\", 'uncommitted', 'fashioning', 'barbers', 'decorates', 'immortals', 'infirmity', 'oppositions', 'grizzled', 'costumer', 're-creation', 'writer-director', 'einstein', 'overburdened', 'ploughing', 'exterminator', 'generalities', 'conflagration', 'barker', 'ingeniously', 'dispossessed', 'hysterics', 'slyly', 'snl', 'reek', 'kitschy', 'tron', 'freddy', 'slathered', 'bewitched', 'minnie', 'roberto', 'disappointingly', 'hook-ups', 'michel', 'katherine', 'bolero', 'avalanches', 'subtler', 'reese', 'bestowing', 'tamer', 'disloyal', 'screwy', 'churns', 'betters', 'twitchy', 'nastier', 'lioness', 'repetitious', 'anarchic', 'action-adventure', 'fantasia', 'pretension', 'stooping', 'averting', 'point-of-view', 'chomp', 'reagan', 'craven', 'mild-mannered', 'shrek', 'self-knowledge', 'gut-wrenching', 'hopkins', 'ribcage', 'poignancy', 'convolution', 'creaky', 'grandstanding', 'no-holds-barred', 'deuces', 'plumbed', 'wimps', '100-year', 'pageantry', 'rodriguez', 'finery', 'mitch', 'mira', 'ten-year-old', 'weepy', 'skidding', 'repetitively', 'anti-semitism', 'polemical', 'disorienting', 'neurosis', 'jerusalem', 'magnifique', 'croatia', 'big-budget', 'phillip', 'livelier', 'heartstrings', 'tropic', 'psychedelia', 'sociopaths', 'reaffirming', 'impostor', 'sullivan', 'dullness', 'happenstance', 'hanks', 'scuttled', 'brawn', 'liveliness', 'miscalculation', 'shriveled', 'endear', 'urbane', 'ong', 'sturdiness', 'pay-off', 'gambles', 'castro', 'crystallize', 'pixar', 'well-formed', 'downplaying', 'kidnapper', 'shu', 'sadism', 'dishonorable', 'acerbic', 'amc', 'all-male', 'brits', 'unforced', '3-d', 'fast-forward', 'astonish', 'swank', 'sulking', 'wonton', 'energizes', 'resuscitate', 'nia', 'sopranos', 'unashamedly', 'skateboarder', 'impressionistic', 'ravaging', 'opportunism', 'thinness', 'acrid', 'dani', 'limerick', 'franco', 'x-men', \"'30s\", 'vibrantly', 'freewheeling', 'theorizing', 'humdrum', 'wryly', 'contrivance', 'homogenized', 'three-minute', 'wwii', 'rapturous', 'conspiratorial', 'quinn', 'self-righteousness', 'cross-dressing', 'lingual', 'tarantula', 'insignificance', 'sprightly', 'overexposed', 'voyeuristic', 'actuary', 'off-center', 'staggeringly', 'imperious', 'bros.', 'salle', 'succumbs', 'disreputable', 'gaza', 'masochistic', 'self-reflection', 'muting', 'pursuers', 'shimmers', 'loveless', 'unhappily', 'lovebirds', 'jettisoned', 'madcap', 'self-important', 'unpleasantness', 'shepard', 'pandemonium', 'morose', 'reinvigorated', 'bratty', 'uncoordinated', 'inoffensive', 'olympia', 'bare-bones', 'tawdry', 'signpost', 'pubescent', 'harmlessly', 'ballsy', 'contentedly', 'picture-perfect', 'melds', 'perilously', 'hogwash', 'slackers', 'envelops', 'well-executed', 'achingly', 'dead-on', 'drumbeat', 'minutely', 'denouement', 'airless', 'boyd', 'clint', 'saccharine', 'afflicts', 'down-home', 'degenerates', 'brawny', 'referential', 'flattens', 'overplayed', 'waster', 'threadbare', 'nihilistic', 'glum', 'humorless', 'uneasily', 'labyrinthine', 'zealously', 'kang', 'fastballs', 'curlers', 'self-indulgence', 'wallop', 'welled', 'peopled', 'subgenre', 'natter', 'opportunists', 'escapist', 'theatrically', 'shapeless', 'esther', 'telegrams', 'jolts', 'ardently', 'bourne', 'songbird', 'napoleon', 'dodger', 'frankness', 'blips', 'adorably', 'heart-felt', 'well-timed', 'living-room', 'hands-off', 'adobo', 'curmudgeon', 'fiendish', 'romantics', '70-year-old', 'halle', 'spooks', 'unhurried', 'uncouth', 'dass', 'exposé', 'devastatingly', 'fearlessness', 'love-hate', 'lazier', 'sofia', 'subcultures', 'unapologetically', 'bicentennial', 'wheezy', 'stodgy', 'off-kilter', 'imbue', 'poetically', 'eccentricities', 'nixon', 'insubstantial', 'imaginatively', 'regimented', 'pint-sized', 'redeems', 'watered-down', 'crooning', 'extravagantly', 'fai', 'heart-breaking', 'waterlogged', 'ennui', 'befallen', 'jie', 'palestinian', 'mumbles', 'destin', 'everett', 'exasperating', 'self-examination', 'acolytes', 'hijinks', 'brainpower', 'palestinians', 'disquieting', 'lds', 'herrings', 'colorfully', 'interlocked', 'lilo', 'hippest', 'undercuts', 'half-naked', 'provocations', 'taxicab', 'terrifically', 'machismo', 'saps', 'perdition', 'vigils', 'hot-button', 'revisionism', 'finn', 'spider-man', 'crisply', 'wilde', 'wisp', 'austrian', 'dystopia', 'mongrel', 'serenely', 'wanes', 'goofball', 'demographically', 'tnt', 'drug-induced', 'banality', 'true-to-life', 'b.s.', 'stepmom', 'mumbo', 'parodied', 'irksome', 'large-format', 'timelessness', 'cutoffs', 'joie', 'shootouts', 'rambles', 'vaporize', 'overstating', 'snared', 'dramatized', 'quaking', 'careening', 'wesley', 'fiji', 'stepdad', 'pummel', 'horrendously', 'concubine', 'clare', 'quelle', 'unwatchable', 'versace', 'walsh', 'ill-fitting', 'harlem', 'dawson', 'mishmash', 'gamely', 'screwball', 'subjugate', 'wreaks', 'byron', 'expressiveness', 'eschews', 'newfangled', 'lucia', 'pleasingly', 'mother-daughter', 'petri', 'melange', 'offal', 'crackles', 'accentuating', 'hoary', 'verging', 'wai', 'restatement', 'granddad', 'ill-equipped', 'mind-bending', 'gremlins', 'dehumanizing', 'fahrenheit', 'exhibitionism', 'blubber', 'laugh-out-loud', 'ballerinas', 'sun-drenched', 'jackal', 'romanticized', 'woozy', 'passive-aggressive', 'bloodwork', 'evelyn', 'mgm', 'foul-mouthed', 'credulity', 'judaism', 'goldberg', 'sundance', 'soupy', 'helpings', 'lai', 'zeus', 'hustlers', 'maudlin', 'piquant', 'off-beat', 'forgivable', 'trots', 'slather', 'copenhagen', 'pluto', 'yoda', 'logistically', 'sidekicks', 'iconoclastic', 'plummets', 'weasels', 'toss-up', 'bedfellows', 'broiling', 'moralistic', 'weiss', 'armageddon', 'enactments', 'hackles', 'tay', 'ardor', 'irreparably', 'también', 'claustrophobia', 'studiously', 'hamstrung', 'huskies', 'perversely', 'fresh-faced', 'howler', 'puerile', 'magi', 'existentialism', 'pallid', 'off-the-wall', 'galvanize', 'plod', 'believability', 'super-sized', 'jules', 'clunker', 'preoccupations', 'derisive', 'clean-cut', 'signposts', 're-imagining', 'lackadaisical', 'creepiest', 'ballplayer', 'quibbles', \"d'etre\", 'bombay', 'plex', 'madmen', 'hammy', 'freshening', 'resents', 'quirkiness', 'hussein', 'quixotic', '65-year-old', 'pokey', 'proficiently', 'kidd', 'byways', 'intelligibility', 'has-been', 'perpetrating', 'space-based', 'high-minded', 'bons', 'hewitt', 'reyes', 'jia', 'backhanded', 'dustin', 'jugglers', 'depressingly', 'lau', 'action-oriented', 'smutty', 'life-affirming', 'dualistic', 'liu', 'agreeably', 'simple-minded', 'claude', 'spiritualism', 'credulous', 'masseur', 'ethan', 'surrealistic', 'stifles', 'unerring', 'typifies', 'what-if', 'overshadows', 'obnoxiously', 'roiling', 'dante', 'insinuation', 'simone', 'bridget', 'inarticulate', 'boorish', 'oversimplification', 'leaden', 'chong', 'redolent', 'virtuosic', 'tactfully', 'sodden', 'nosedive', 'amir', 'consumerist', 'do-over', 'jacques', 'self-consciously', 'affectation', 'conrad', 'unexamined', 'rudy', 'clotted', 'reassuringly', 'puritanical', 'buffeted', 'clumsiness', 'rawness', 'improbably', 'doppelganger', 'wishy-washy', 'sloppiness', 'otherness', 'propulsive', 'retooling', 'jfk', 'abel', 'mika', 'bestial', 'doofus', 'smallness', 'yorker', 'staggers', 'dilutes', 'stammering', 'vies', 'swill', 'diatribes', 'amble', 'giggly', 'self-importance', 'crowd-pleasing', 'prissy', 'gaiety', 'percolating', 'sniffle', 'ryder', 'capitalizes', 'malik', 'grotesquely', 'child-rearing', 'roughshod', 'looseness', 'troubadour', 'retooled', 'highlander', 'whodunit', 'philippe', 'unpleasantly', 'pitifully', 'garth', 'alacrity', 'leafing', 'provocateur', 'trenchant', 'dickens', 'spry', 'gai', 'lear', 'lulls', 'shockwaves', 'well-structured', 'deliriously', 'bette', 'florid', 'château', 'terri', 'binging', 'guilt-free', 'aladdin', 'highbrow', 'profundity', 'firebrand', 'split-screen', 'laconic', 'trier', 'yearnings', 'lecherous', 'swathe', 'frankenstein', 'heedless', 'fencer', 'upstaged', 'impish', 'leavened', 'verges', 'irreverence', 'insistently', 'adroit', 'ungainly', 'dramatization', 'sophomoric', 'good-hearted', 'janice', 'boris', 'fetishism', 'malcolm', 'hallucinatory', 'gestalt', 'not-too-distant', 'compassionately', 'wanderers', 'nadia', 'astronomically', 'recognizably', 'slobbering', 'nicolas', 'bates', 'hoffman', 'kev', 'armenian', 'wide-screen', 'grandly', 'self-referential', 'naturalness', 'hermitage', 'godzilla', 'turgid', 'witless', 'bambi', 'spindly', 'goliath', 'perversity', 'laughingly', 'flagrantly', 'fraser', 'wedgie', 'elbowed', 'crematorium', 'sags', 'paean', 'comeuppance', 'giovanni', 'tadpole', 'eastwood', 'sergio', 'hang-ups', 'reeked', 'amos', 'retread', 'unrecoverable', 'keener', 'elegy', 'byzantine', 'porthole', 'folktales', 'six-time', 'entendre', 'run-on', 'ebullient', 'bungling', 'hooting', 'mid-section', 'wallflower', 'irk', 'rafael', 'reeking', 'savaged', 'character-driven', 'second-guess', 'creepiness', 'scarface', 'well-thought', 'fetid', 'abdul', 'dramatize', 'bloodletting', 'scummy', 'camerawork', 'hippopotamus', '4w', 'dramatics', 'rumination', 'wonderous', 'dreck', 'downplays', 'lobotomy', 'astounds', 'nolan', 'top-heavy', 'soufflé', 'cannes', 'well-constructed', 'abhors', 'unspeakably', 'anti-establishment', 'newfoundland', 'judith', 'neuroses', 'humanize', 'cadavers', 'paper-thin', 'morton', 'airhead', 'cruelties', 'denis', 'capably', 'ub', 'absurdist', 'desiccated', 'masochism', 'soberly', 'augustine', 'dramedy', 'plato', 'anton', 'unflappable', 'davies', 'populates', 'animatronic', 'macy', 'telegraphed', 'inauspicious', 'moodiness', 'doyle', 'borg', 'mesmerize', 'incoherence', 'sillier', 'claptrap', 'leone', 'back-story', 'raindrop', 'undemanding', 'cavorting', 'hard-edged', 'flinching', 'sulky', 'kirsten', 'indecipherable', 'griffith', 'shape-shifting', 'middle-of-the-road', 'self-satisfied', 'columbine', 'hartley', 'bowser', 'treacle', 'satisfyingly', 'kendall', 'wearisome', 'cockney', 'abbott', 'bravura', 'nonbelievers', 'glinting', 'satiric', 'gilmore', 'clyde', 'first-timer', 'hairpiece', 'hades', 'repartee', 'single-handed', 'scarily', 'kok', 'withholds', 'let-down', 'chicanery', 'profanities', 'chung', 'histrionics', 'mockumentary', 'hurley', 'serviceability', 'rose-colored', 'pulpy', 'straight-ahead', 'shrewdly', 'untalented', 'superficiality', 'besotted', 'cleaving', 'disintegrates', '60-second', 'undernourished', 'topnotch', 'ratchets', 'impudent', 'goldman', 'zhang', 'egregiously', 'epiphanies', 'feminized', 'sven', 'bogging', 'helms', 'elegiac', 'moulin', 'indescribably', 'cadences', 'densest', 'pizazz', 'willies', 'compellingly', 'middle-age', 'costars', 'rambo', 'rom-com', 'evanescent', 'inauthentic', 'playwriting', 'forages', 'sloppily', 'intriguingly', 'jolting', 'twirls', 'brogue', 'coos', 'bodacious', 'voice-overs', 'enthrall', 'obviousness', 'cheapen', 'sublimely', 'pessimists', 'buffoons', 'eileen', 'unlikable', 'ernest', 'lushly', 'gaye', 'huggers', 'intermingling', 'uselessly', 'undiminished', 'wavers', 'mingles', 'fatalism', 'awfulness', 'brendan', 'impassive', 'oh-so', 'vh1', 'nervy', 'fire-breathing', 'moralizing', 'cut-and-paste', 'flavorless', 'motown', 'imitative', 'pileup', 'atmospherics', 'portent', 'survivable', 'sneers', 'weirded', 'trivialize', 'heart-pounding', 'limps', 'submerging', 'tarzan', 'worshipful', 'pranksters', 'becker', 'goths', 'norma', 'imax', 'narcissists', 'tov', 'outselling', 'blacken', 'cold-hearted', 'overripe', 'comedy-drama', 'lowbrow', 'dolby', 'stringently', 'repulse', 'laziest', 'ensnare', 'messiness', 'gamesmanship', 'near-future', 'devolves', 'slo-mo', 'erotically', 'tomfoolery', 'surfeit', 'megalomaniac', 'blab', 'enjoyably', 'laissez', 'workmanlike', 'mora', 'exalts', 'solipsism', 'strictness', 'randall', 'slugfest', 'resoundingly', 'macdonald', 'harks', 'purdy', 'sheridan', 'diverges', 'overhearing', 'maddeningly', 'schmidt', 'patrolman', 'self-hatred', 'tormentor', 'plucks', 'viscerally', 'goulash', 'horton', 'doris', 'brims', 'streetwise', 'tian', 'overlong', 'chirpy', 'freud', 'pitch-perfect', 'fudged', 'special-interest', 'slights', 'anti-human', 'cleverest', '72-year-old', 'quick-witted', 'mumbo-jumbo', 'degenerating', 'fiendishly', 'mimetic', 'joyless', 'shiner', 'antic', 'parton', 'classicism', 'tootsie', 'weil', 'bluer', 'undistinguished', 'arthouse', 'brio', 'deportment', 'romped', 'juxtapositions', 'kahn', 'dogmatism', 'uproarious', 'three-ring', 'misanthropic', 'prurient', 'peppering', 'expressively', 'mesmerised', 'churlish', 'porky', 'miscast', 'misfires', 'cat-and-mouse', 'blood-soaked', 'schlock', 'break-ups', 'colosseum', 'lampoon', 'blithe', 'gunplay', 'eccentrics', 'high-spirited', 'punchlines', 'pelosi', 'knucklehead', 'self-congratulatory', 'denuded', 'fifteen-year-old', 'dabbles', 'transgressive', 'libertine', 'chitchat', 'sisterly', 'friedman', 'short-story', 'seinfeld', 'sixth-grade', 'clear-eyed', 'hothouse', 'macbeth', 'slovenly', 'sandler', 'irwin', 'wizened', 'reverberates', 'telenovela', 'grubbing', 'loneliest', 'doa', 'thoughtlessly', 'dismally', 'morgen', 'hooliganism', 'hide-and-seek', 'give-and-take', 'gobbler', 'boldface', 'errs', 'franz', 'histrionic', 'sickeningly', 'inexpressible', 'callow', 'donovan', 'unlikeable', 'unsentimental', 'chou', 'husband-and-wife', 'wazoo', 'fuzziness', 'bludgeoning', 'gored', 'blandly', 'moviemaking', 'mélange', 'stoops', 'verisimilitude', 'mattel', 'switchblade', 'clive', 'subliminally', 'mutates', 'directionless', 'guiltless', 'boll', 'standbys', 'beheadings', 'embalmed', 'trounce', 'badder', 'catsup', 'low-rent', 'grossest', 'documentarian', 'veiling', 'skims', 'digressions', 'hijacks', 'rueful', 'look-see', 'dim-witted', 'jokey', '3-year-olds', 'beavis', 'beckett', 'lynne', 'scorcher', 'humanizing', 'bray', 'randolph', 'low-life', 'lina', 'last-place', 'jangle', 'death-defying', 'tweener', 'uncreative', 'dwindles', 'loquacious', 'naiveté', 'liza', 'blandness', 'twentysomething', 'purposeless', 'catch-22', 'fubar', 'limpid', 'malone', 'interweaves', 'chillingly', 'kibosh', 'skewering', 'barrymore', 'two-bit', 'egomaniac', 'unimpeachable', 'lurches', 'unblinking', 'whirls', 'saigon', 'traffics', 'gorgeousness', 'lamentations', 'lensing', 'sympathizing', 'l.a.', 'execrable', 'jagger', 'sanitised', 'kathryn', 'dilettante', 'mordant', 'self-delusion', 'limply', 'meanderings', 'tit-for-tat', 'nostra', 'barrie', 'salma', 'semi-autobiographical', 'dumbo', 'rip-roaring', 'self-hating', 'palma', 'implodes', 'jonah', 'mendes', 'texan', 'contrivances', 'subzero', 'bartlett', 'reenacting', 'malarkey', 'wisecracking', 'bungle', 'artless', 'blacklight', 'v.s.', 'taiwanese', 'flynn', 'full-blooded', 'kramer', 'meatier', 'roughage', 'dullest', 'abysmally', 'waif', 'doles', 'ghostbusters', 'cresting', 'ritchie', 'misfiring', 'laurence', 'workaday', 'schneider', 'thirteen-year-old', 'one-note', 'losin', 'bleakness', 'large-screen', 'day-old', 'helmer', 'recapitulation', 'raphael', 'melancholia', 'p.c.', 'lamer', 'guffaw', 'goldie', 'self-satisfaction', 'slam-dunk', 'inchoate', 'inhalant', 'wolfe', 'curmudgeonly', 'aaliyah', 'zingers', 'send-up', 'hyphenate', 'enlivens', 'sidesteps', 'page-turning', 'fallibility', 'pokémon', 'exploitive', 'inescapably', 'glover', 'girl-on-girl', 'cluelessness', 'preordained', 'cortez', 'b-ball', 'katz', 'theron', 'free-wheeling', 'extravaganzas', 'homages', 'berkley', 'ouija', 'unexceptional', 'one-trick', 'unfulfilling', 'warm-blooded', 'preciousness', 'crowd-pleaser', 'dumbed-down', 'tediously', 'rag-tag', 'javier', 'twaddle', 'pretentiousness', 'justine', 'leanest', 'dulls', 'haynes', 'hannibal', 'murk', 'ill-timed', 'showgirls', 'fleetingly', 'tongue-tied', 're-working', 'slumming', 'imitator', 'snipes', 'improbability', 'frei', 'hourlong', 'greenlight', 'self-absorption', 'nonconformity', 'desultory', 'refracting', 'accomodates', 'sc2', 'waltzed', 'marmite', 'slow-paced', 'unmentionable', 'wades', 'inelegant', 'waldo', 'hankies', 'near-fatal', 'ladles', 'gump', 'rosario', 'amnesiac', 'carlin', 'self-critical', 'ambitiously', 'ill-considered', 'daringly', 'pomposity', 'romero', 'heartbreakingly', 'art-house', 'leroy', 'sade', 'fitfully', 'hamming', 'bad-boy', 'slc', 'westbrook', 'goofiness', 'rollerball', 'hayek', 'self-aggrandizing', 'cunningham', 'dreamscape', 'open-mouthed', 'unrelentingly', 'argentine', 'gosling', 'engagingly', 'greta', 'geeked', 'mournfully', 'movie-making', 'napoli', 'direct-to-video', 'illogic', 'entertainingly', 'novak', 'decorous', 'oversexed', 'bang-up', 'situates', 'lived-in', 'artificiality', 'grandiosity', 'marshaled', 'cultist', 'witherspoon', 'laggard', 'crooned', 'burnt-out', 'drumline', 'talky', 'respectably', 'bela', 'kidman', 'doodled', 'largest-ever', 'dolman', 'jacqueline', 'chaplin', 'languidly', 'half-an-hour', 'irritatingly', 'soporific', 'high-strung', 'rough-hewn', 'third-rate', 'engendering', 'enthusiasms', 'rudd', 'ridley', 'laramie', 'uproariously', 'catapulting', 'whir', 'standard-issue', 'wackiness', 'keenest', 'seductiveness', 'barlow', 'interminably', 'jell', 'exuberantly', 'outpaces', 'hot-blooded', 'addams', 'pauline', 'invitingly', 'fervid', 'conceits', 'satyr', 'dismember', 'hitchcock', 'clancy', 'mixed-up', 'potshots', 'molehill', 'chyna', 'gross-out', 'firth', 'stolid', 'fidgeted', 'twinkie', 'bui', 'quentin', 'disarmingly', 'fabulousness', 'high-concept', 'duking', 'tonally', 'flamboyance', 'lower-class', 'ichi', 'sputters', 'exoticism', 'armenia', 'odorous', 'anciently', 'goddammit', 'cheapened', 'laugher', 'appealingly', 'dawdle', 'outdoes', 'miscalculations', 'quietude', 'lawmen', 'knickknacks', 'tendentious', 'amiably', 'lector', 'trumped-up', 'kimmel', 'flesh-and-blood', 'carrey', 'sexpot', 'hollowness', 'whooshing', 'ingratiating', 'big-hearted', 'larson', 'slickest', 'nonconformist', 'gang-raped', 'gushy', 'stevenson', 'virulently', 'honks', 'bailiwick', 'oleander', 'scattershot', 'robotically', 'in-jokes', 'mind-numbingly', 'sugar-coated', 'uhf', 'overproduced', 'hanukkah', 'bait-and-switch', 'borscht', 'rollerblades', 'blazingly', 'olivier', 'granger', 'wondrously', 'beause', 'basest', 'segal', 'unsubtle', 'clownish', 'flag-waving', 'giles', 'nonjudgmental', 'reworks', 'schmucks', 'cribbing', 'bone-chilling', 'judd', 'repugnance', 'slickly', 'sloughs', 'slickness', 'shockers', 'road-trip', 'african-american', 'clooney', 'globalizing', 'nail-biter', 'newsreels', 'self-mutilation', 'harmon', 'well-paced', 'vibrance', 'brody', 'overachieving', 'austen', 'a.c.', 'alain', 'winces', 'actioner', 'blaxploitation', 'hardscrabble', 'hypnotically', 'devotedly', 'revelled', 'crawlies', 'underachiever', 'flails', 'varmints', 'mends', 'expressionistic', 'thurman', 'russo', 'juliette', 'angst-ridden', 'navel-gazing', 'statecraft', 'companionable', 'prostituted', 'ham-fisted', 'gentility', 'raptures', 'huckster', 'hit-and-miss', 'stupefying', 'werner', 'horrifyingly', 'schumacher', 'showboating', 'oddballs', 'anti-feminist', 'janine', 'truth-telling', 'eighth-grader', 'computer-animated', 'underplayed', 'grade-school', 'sudsy', 'lucks', 'julianne', 'misconceived', 'disassociation', 'scriptwriters', 'lushness', 'telegraphs', 'punny', 'butthead', 'triviality', 'well-produced', 'slapdash', 'hard-driving', 'standoffish', 'unforgettably', 'broaches', 'derry', 'gawky', 'hour-and-a-half', 'melodramas', 'movie-going', 'hepburn', 'peekaboo', 'pearce', 'somebodies', 'charlize', 'ganesh', 'disgracefully', 'war-ravaged', 'inter-racial', 'angelique', 'self-possessed', 'isabelle', 'kurds', 'dimness', 'vulgarities', 'tonto', 'pixilated', 'good-naturedly', 'psychodrama', 'irrelevancy', 'reedy', 'powerpuff', 'foundering', 'monosyllabic', 'peevish', 'unforgiven', 'low-brow', 'cribbed', 'passably', 'edmund', 'cq', 'near-miss', 'schmaltz', 'cristo', 'bedeviled', 'camouflaging', 'bug-eyed', 'kaos', 'inuit', 'inquisitiveness', 'sleight-of-hand', 'unromantic', 'soft-core', 'gussied', 'sadists', 'tearjerker', 'chiaroscuro', 'rugrats', 'colonics', 'well-acted', 'bespeaks', 'unburdened', 'intercut', 'simpering', 'quandaries', 'jokester', 'rancorous', 'thrillingly', 'bibi', 'moviegoer', 'hubert', 'distressingly', 'unfurls', 'well-drawn', 'hard-hearted', 'rediscovers', 'suey', 'picaresque', 'nicholson', 'fixating', 'subtlest', 'all-too-familiar', 'eye-rolling', 'gianni', 'disorientated', 'swanson', 'hypocrisies', 're-assess', 'mib', 'in-joke', 'exxon', 'pryor', 'shearer', 'imogen', 'open-faced', 'kaufman', 'keening', 'misbegotten', 'unschooled', 'erects', 'vivi', 'hokum', 'doe-eyed', 'muzak', 'flounders', 'tumbleweeds', 'electrocute', 'martial-arts', 'one-star', 'oppressively', 'rohypnol', 'pre-9', 'yiddish', 'milquetoast', 'schwarzenegger', 'bilked', 'ingenue', 'unmemorable', 'ving', 'counter-cultural', 'doshas', 'frida', 'titus', 'freak-out', 'well-conceived', 'ear-splitting', 'unrewarding', 'fabian', 'bombards', 'ravel', 'street-smart', 'schmaltzy', 'seamy', 'pablum', 'schizo', 'urbanity', 'convolutions', 'underdone', 'forgoes', 'engross', 'formalist', 'unstinting', 'vocalized', 'self-pitying', 'thatcher', 'graceless', 'scrooge', 'moviegoing', 'argot', 's.c.', 'slimed', 'forcefulness', 'urinates', 'contorting', 'salvos', 'unpersuasive', 'constrictive', 'clamorous', 'louts', 'touchingly', 'phlegmatic', 'mid-seventies', 'money-grubbing', 'caine', 'silver-haired', 'jiang', 'paradiso', 'true-blue', 'stultifying', 'shoot-em-up', 'freakshow', 'moralism', 'filmgoers', 'poo-poo', 'fantasma', 'broomsticks', 'sensationalize', 'eldritch', 'dicaprio', 'maladjusted', 'dumbness', 'lovefest', 'mcgrath', 'johnnie', 'schultz', 'daredevils', 'halfhearted', 'tarantino', 'misanthropy', 'romanced', 'trivializing', 'lethally', 'woodman', 'unrelieved', 'colgate', 'hatfield', 'rouses', 'rehashes', 'elie', '75-minute', 'hearst', 'eisenhower', 'xtc', 'ouzo', 'botching', 'nit-picky', 'sica', 'cornball', 'dreamworks', 'cinematically', 'languorous', 'half-step', 'late-summer', 'hackery', 'movie-goers', 'neverland', 'self-parody', 'cheesiest', 'serbs', 'solipsistic', 'lampoons', 'draggin', 'dramatizing', 'expedience', 'rekindles', 'bromides', 'ramsay', 'flakiness', 'argentinian', 'infectiously', 'sleepwalk', 'unmentionables', 'blown-out', 'lugubrious', 'deckhand', 'imbecilic', 'scouse', 'mclaughlin', 'heller', 'gere', 'naïveté', 'vicente', 'glumly', 'agitprop', 'kunis', 'd.j.', 'alcatraz', 'wilco', 'buckaroo', 'narc', 'villainess', 'raunch', 'fine-looking', 'notting', 'kwan', 'dimwits', 'anomie', 'misty-eyed', 'manically', 'nair', 'moviemakers', 'mawkish', 'druggy', 'fontaine', 'cooly', 'rah-rah', 'jeanette', 'sleep-inducing', 'rose-tinted', 'blisteringly', 'baby-faced', 'full-frontal', 'preposterously', 'right-thinking', 'anakin', 'jaw-droppingly', 'eclair', 'open-hearted', 'cackles', 'rhapsodic', 'huston', 'blood-curdling', 'mobius', 'festers', 'overinflated', 'ricocheting', 'rubin', 'cheapening', 'idiotically', 'screwed-up', 'dramaturgy', 'persnickety', 'paltrow', 'styx', 'servicable', 'souvlaki', 'sorrowfully', 'front-loaded', 'half-asleep', 'atrociously', 'special-effects', 'infuriatingly', 'hipness', 'rowling', 'bargain-basement', 'cockeyed', 'kingsley', 'frittered', 'subdues', 'derring-do', 'irredeemably', 'sturdiest', 'well-told', 'cyndi', 'denzel', 'spalding', 'élan', 'libidinous', 'charly', 'fiascos', 'good-time', 'croaks', 'plainness', 'accident-prone', 'gender-bending', 'skin-deep', 'margot', 'contriving', 'plods', 'fidel', 'wending', 'curtsy', 'avuncular', 'fetishistic', 'palaver', 'elvira', 'moviemaker', 'snoozer', 'ditsy', 'nine-tenths', 'fresh-squeezed', 'pseudo-intellectual', 'co-writers', 'lika', 'spielberg', 'insufferably', 'soul-stirring', 'indulgently', 'muckraking', '50-something', 'kidlets', 'posey', 'draggy', 'thuds', 'mulan', 'beachcombing', 'stonehenge', 'outshined', 'strong-minded', 'verite', 'numbingly', 'applegate', 'eyre', 'clobbering', 'rampantly', 'by-the-numbers', 'two-fifths', 'well-characterized', 'promisingly', 'mckay', 'botches', 'near-impossible', 'monsterous', 'disconcertingly', 'coppola', 're-hash', 'kline', 'atypically', 'corbett', 'skullduggery', 'small-screen', 'mystification', 'back-stabbing', 'karim', 'tear-jerking', 'stiller', 'broomfield', 'completist', 'tolkien', 'deviously', 'late-inning', 'affleck', 'squanders', 'crudeness', 'literarily', 'by-the-book', 'wafer-thin', 'sleekness', 'wretchedly', 'dunst', 'complexly', 'septuagenarian', 'ayatollah', 'landau', 'straight-faced', '80-minute', 'unambitious', 'trivializes', 'hidebound', 'woolf', 'commiserating', 'braveheart', 'plumbs', 'yorkers', 'animé', 'patrolmen', 'insultingly', 'crushingly', 'germanic', 'delia', 'temptingly', 'bluescreen', 'insouciance', 'fifteen-minute', 'unendurable', 'overstimulated', 'stallone', 'careens', 'black-owned', 'alexandre', 'ismail', 'ineptly', 'farenheit', 'haranguing', 'pratfalls', 'bruin', 'stupidities', 'overeager', 'baird', 'kincaid', 'ritter', 'tyco', 'maguire', 'puréed', 'molina', 'x-files', 'shoot-outs', 'zhao', 'upends', 'cheech', 'affability', 'razzle-dazzle', 'crikey', 'incurably', 'amorality', 'paxton', 'action-comedy', 'icily', 'forbearing', 'disrobed', 'fleshed-out', 'sturm', 'shapiro', 'kilted', 'holm', 'venality', 'vainglorious', 'completists', 'soliloquies', 'emilie', 'self-flagellation', 'double-barreled', 'insightfully', 'nincompoop', 'pauly', 'bloodsucker', 'slopped', 'turntablism', 'boogaloo', 'super-powers', 'fistfights', 'wide-awake', 'shum', 'aesop', 'cheap-looking', 'well-shaped', 'ayala', 'grandness', 'pacino', 'clements', 'copout', 'cloyingly', 'stammers', 'soap-opera', 'double-cross', 'potboiler', 'whippersnappers', 'andrei', 'griffiths', 'bone-dry', 'blarney', 'enthronement', 'good-for-you', 'lauper', 'serious-minded', 'ambrose', 'shatner', 'dullard', 'pinheads', 'whitaker', 're-creations', 'sanctimony', 'heathers', 'tap-dancing', 'poky', 'frodo', 'scuzzy', 'career-defining', 'ricochets', 'becalmed', 'self-congratulation', 'emigre', 'armenians', 'gellar', 'hard-bitten', 'plummer', 'supremes', 'flashbulbs', 'banzai', 'sophisticates', 'inanities', 'scathingly', 'bling-bling', 'c.i.', 'love-struck', 'must-own', 'pinocchio', 'musketeer', 'congeniality', 'narratively', 'gandalf', 'hairier', 'rembrandt', 'sociopathy', 'play-doh', 'self-reflexive', 'b-movie', 'mcdowell', 'sexploitation', 'enervating', 'war-weary', 'liana', 'perspicacious', 'neo-noir', 'characterisations', 'eudora', 'punchier', 'implausibility', 'cinephile', 'unremittingly', 'kafka', 'verne', 'manas', 'preciseness', 'siegel', 'perceptiveness', 'lothario', 'hoofing', 'stomach-churning', 'godfrey', 'gallic', 'glacially', 'graceland', 'scotches', 'ultra-violent', 'outrageousness', 'kubrick', 'giler', 'super-simple', 'mccann', 'paint-by-numbers', 'teenybopper', 'innuendoes', 'hews', 'drawling', 'movie-star', 'galled', 'greatest-hits', 'paunchy', 'guzman', 'modernizes', 'charmless', 'hanky-panky', 'piffle', 'divertissement', 'bellyaching', 'pop-music', 'fairlane', 'befuddling', 'spookily', 'melville', 'gyllenhaal', 'wahlberg', 'alfonso', 'wiseman', 'orson', 'walken', 'genevieve', 'fisk', 'freudian', 'fleet-footed', 'bertrand', 'bergman', 'scalds', 'hubristic', 'tick-tock', 'chomps', 'goofiest', 'star-making', 'lumpen', 'dumas', 'decipherable', 'raucously', 'outer-space', 'lisping', 'hardass', 'true-crime', 'bigelow', 'schlocky', 'spiffing', 'mcadams', 'substitutable', 'carmichael', 'slipperiness', 'headbanger', 'regurgitates', 'cheesier', 'rosenthal', 'arnie', 'venturesome', 'wittier', 'argento', 'damme', 'sterotypes', 'down-and-dirty', 'docu-drama', 'hawke', 'documentarians', 'banderas', 'despairingly', 'intermezzo', 'niro', 'fantasti', 'co-winner', 'closed-off', 'outre', 'paeans', 'show-biz', 'kieran', 'tear-stained', 'well-edited', 'empathizes', 'fish-out-of-water', 'stagings', 'well-directed', 'assaultive', 'phoniness', 'suge', 'subtexts', 'duvall', 'hack-and-slash', 'treacly', 'inter-species', 'steinberg', 'mehta', 'auschwitz', 'fusty', 'jacobson', 'crudity', 'campion', 'boffo', 'e.t.', 'balkans', 'mcfarlane', 'tso', 'shafer', 'plotless', 'spiritless', 'elliptically', 'hard-sell', 'squareness', 'jez', 'hobnail', 'cahill', 'tully', 'halfwit', 'métier', 'pell-mell', 'u.n.', 'manchild', 'choppiness', 'simpleminded', 'spookiness', 'afghani', 'amours', 'myer', 'hinton', 'kazan', 'hard-partying', 'hanley', 'sweet-and-sour', '50-million', 'hideousness', 'larded', 'winningly', 'appétit', 'gilliam', 'straight-to-video', 'mamá', 'self-promoter', 'iles', 'lyne', 'blighter', 'piercingly', 'tunisian', 'ankle-deep', 'mishandle', 'warmed-over', 'antonia', 'father-and-son', 'too-long', 'outré', 'megaplex', 'caruso', 'parsec', 'reeses', 'gut-busting', 'archly', 'funniness', 'trainspotting', 'moldering', 'crassly', 'grenoble', 'drek', 'mateys', 'whip-smart', 'odoriferous', 'hyper-realistic', 'fuddy-duddy', 'bang-bang', 'schrader', 'fudges', 'boosterism', 'uwe', 'latently', 'clarissa', 'harangues', 'wind-tunnel', 'ackerman', 'crassness', 'tunis', 'yawner', 'lovably', 'dreaminess', 'drang', 'bathos', 'phantasms', 'knockabout', 'head-turner', 'selby', 'tartly', 'hitchens', 'sytle', 'white-knuckled', 'consigliere', 'hardman', 'meddles', 'welles', 'cutes', 'a-list', 'all-too-human', 'goodfellas', 'hit-man', 'sylvie', 'well-meant', 'over-dramatic', 'scorsese', 'maryam', 'bugsy', 'half-bad', 'mopes', 'benjamins', 'mirren', 'pretention', 'andie', 'uzumaki', 'pabulum', 'renner', 'geniality', 'non-techies', 'bio-pic', 'white-trash', 'leers', 'weinstein', 'sacre', 'pg-13', 'junior-high', 'touché', 'defuses', 'wheedling', 'dynamited', 'b-12', '90-plus', 'flim-flam', 'codswallop', 'quaid', 'swaggers', 'less-is-more', 'statham', 'gullets', 'unfilmable', 'be-bop', 'grandiloquent', 'pulchritude', 'bewilderingly', 'josé', 'waterboy', 'frat-boy', 'masterpeice', 'irrigates', 'wankery', 'bagatelle', 'oliveira', 'sorriest', 'scarifying', 'schaefer', 'hawley', 'leblanc', 'n.m.', 'gooding', 'aimlessness', 'petter', 'cusack', 'chanukah', 'spangle', 'mcculloch', 'ghandi', 'aggrandizing', 'one-sidedness', 'post-feminist', 'shakespearean', 'baran', 'early-on', 'skippable', 'helga', 'bracingly', 'fluxing', 'tobey', 'adrien', 'goodall', 'gifford', 'reginald', 'non-narrative', 'leonine', 'rodrigues', 'amaro', 'gantz', 'yuen', 'sentimentalist', 'rotoscope', 'hyper-real', 'scripters', 'super-wealthy', 'transmogrification', 'bullfighters', 'mccracken', 'celebi', 'flashbulb', 'dizzily', 'ferrara', 'rorschach', 'cassel', 'faso', 'kitchen-sink', 'priggish', 'grand-scale', 'gelati', 'mpaa', 'americanized', 'forster', 'cotswolds', 'tinseltown', 'journalistically', 'neurotics', 'salton', 'postapocalyptic', 'zings', 'sugarcoated', 'mazel', 'hawn', 'romantic-comedy', 'smart-aleck', 'stress-reducing', 'sinuously', 'punch-drunk', 'coen', 'mandel', 'ex-marine', 'chortles', 'grenier', 'seagal', 'busby', 'sheerly', 'sascha', 'exhuming', 'janey', 'slam-bang', 'herzog', 'vonnegut', 'miyazaki', 'raffish', 'blood-drenched', 'flabbergasting', 'dull-witted', 'nailbiter', 'smeary', 'unsatisfactorily', 'dolorous', 'woodard', '</s>', 'overstays', 'ayres', 'lip-gloss', 'stomach-turning', 'chateaus', 'reiner', 'disposible', 'elysian', 'martinet', 'sleaziness', 'nymphette', 'jeffs', 'mulholland', 'bueller', 'murdock', 'kahlo', 'malapropisms', 'zaza', 'three-to-one', 'deniro', 'potty-mouthed', 'all-woman', 'off-handed', 'underplays', 'flatfooted', 'schiffer', 'epps', 'crimen', 'pyschological', 'sober-minded', 'light-heartedness', 'didacticism', 'unrepentantly', 'leys', 'intoxicatingly', 'multi-character', 'swashbucklers', 'chesterton', 'cimarron', 'even-handedness', 'deepa', 'stockwell', 'raimi', 'hutchins', 'broder', 'carré', 'improbabilities', 'non-fan', 'human-scale', 'altman', 'deliberateness', 'piccoli', 'undramatic', 'parris', 'even-toned', 'tchaikovsky', 'hagiographic', 'sun-splashed', 'peralta', 'self-mocking', 'kathie', 'big-wave', 'connect-the-dots', 'kittenish', 'retitle', 'worldly-wise', 'archibald', 'brosnan', 'kissinger', 'low-wattage', 'parapsychological', 'fincher', 'grisham', 'setpieces', 'gerardo', 'flimsier', 'coheres', 'majid', 'played-out', 'hopped-up', 'binks', 'perkiness', 'teeny-bopper', 'errol', 'costner', 'white-on-black', 'aragorn', 'belly-dancing', 'action-movie', '10th-grade', 'new-agey', 'unhidden', 'fourteen-year', 'comedically', 'breen', 'frissons', 'overacted', 'corniest', 'straight-shooting', 'bmws', 'quirkily', 'suavity', 'ages-old', 'high-wattage', 'burkina', 'gryffindor', 'bernal', 'stagey', 'respites', 'creepy-crawly', 'dime-store', 'captivatingly', 'neeson', 'takashi', 'swoony', 'andré', 'mythmaking', 'behan', 'kilmer', 'rocawear', 'unimaginatively', 'carlito', 'lionize', 'thornier', 'crispin', 'salt-of-the-earth', 'unblinkingly', 'gainsbourg', 'tastelessness', 'defecates', 'tosca', 'a-team', 'corniness', 'moretti', 'uninvolving', 'sidesplitting', 'leatherbound', 'gordy', 'rockumentary', 'light-footed', 'coburn', 'african-americans', 'groen', 'schindler', 'spall', 'gratingly', 'sappiness', 'freak-outs', 'jostles', 'luridly', 'culkin', 'dictums', 'goofily', 'tsai', 'politesse', 'poster-boy', 'patric', 'p.o.v.', 'mythologizing', 'blanchett', 'geddes', 'capra', 'through-line', 'tolstoy', 'doltish', 'tradition-bound', 'lip-reading', 'shekhar', 'mothman', 'byplay', 'dogtown', 'punitively', 'tiresomely', 'co-dependence', 'inexpressive', 'zoolander', 'smoochy', 'j.k.', 'polanski', 'gabriele', 'sword-and-sorcery', 'fabuleux', 'clearasil', '100-minute', 'sarandon', 'u-boat', 'mcconaughey', 'babbitt', 'dewy-eyed', 'unspool', 'bottom-feeder', 'groaner', 'swordfights', 'balto', 'bille', 'neorealism', 'amateurishly', 'butterworth', 'homiletic', 'sweet-tempered', 'weimar', 'ferrera', 'date-night', 'michell', 'eroticized', 'pile-ups', 'soft-porn', 'espite', 'prep-school', 'sommers', 'samira', 'boorishness', 'incinerates', 'gorefest', 'made-for-tv', '<s>', 'teen-oriented', 'cutting-room', 're-invents', 'guilt-trip', 'age-wise', 'godard', 'stagy', 'malle', 'twenty-some', 'lucratively', 'middle-earth', 'paulette', 'well-wrought', 'self-glorification', 'clunkiness', 'pender', 'lethargically', 'bratt', 'kerrigan', 'unengaging', 'star-power', 'zzzzzzzzz', 'foxworthy', 'shellshock', 'unspools', 'turntablists', 'zellweger', 'exhaustingly', 'aldrich', 'scooby-doo', 'stiflingly', 'wiseacre', 'verismo', 'genre-busting', 'romancer', 'way-cool', 'vittorio', 'devito', 'guessable', 'over-blown', 'scorchingly', 'hardhearted', 'walled-off', 'old-hat', 'triteness', 'top-billed', 'sucker-punch', 'paint-by-number', 'françois', 'not-so-hot', 'woe-is-me', 'setpiece', 'go-for-broke', 'rhapsodize', 'tambor', 'orlean', 'beer-soaked', 'laddish', 'deep-sixed', 'devos', 'seesawing', 'fuddled', 'bledel', 'ice-t', 'luvvies', 'affectingly', 'dry-eyed', 'kapur', 'multi-layers', 'manhunter', 'arwen', 'out-sized', 'sunbaked', 'nanette', 'funnybone', 'undeterminable', 'jeong', 'not-so-small', 'englishmen', 'lilia', 'amusedly', 'exhilaratingly', 'crappola', 'bladerunner', 'breitbart', 'profundities', 'd.w.', 'naïf', 'self-empowering', 'elling', 'self-serious', 'jagjit', 'over-indulgent', 'wyman', 'amari', 'guillen', 'miike', 'borstal', 'bullwinkle', 'be-all-end-all', 'boy-meets-girl', 'emptily', 'meanspirited', 'one-joke', 'flower-power', 'pushiness', 'zucker', 'well-trod', 'pillages', 'sketchiest', 'blank-faced', 'widowmaker', 'chekhov', 'tomcats', 'skeeved', 'thesps', 'joão', 'small-budget', 'ragbag', 'slap-happy', 'groaners', 'time-killer', 'exasperatingly', 'snail-like', 'friel', 'encumbers', 'cagney', 'pogue', 'highly-praised', 'self-revealing', 't-tell', 'minkoff', 'fiennes', 'jived', 'wendigo', 'infantilized', 'adrenalized', 'phoned-in', 'cheap-shot', 'squaddie', 'anti-catholic', 'rough-around-the-edges', 'screenful', 'm-16', 'ziyi', 'guilty-pleasure', 'coltish', 'you-are-there', 'documentary-like', 'thrown-together', 'argentinean', 'uninflected', 'not-so-bright', 'community-college', 'dadaist', 'neo-realist', 'shiri', 'patricio', 'post-adolescent', 'high-adrenaline', 'dahmer', 'reggio', 'dangerfield', 'superheroics', 'dench', 'sermonize', 'so-bad-it', 'lecter', '7th-century', 'spring-break', 'somnambulant', 'teeth-gnashing', 'slaloming', 'dysfunctionally', 'brecht', 'jonze', 'impetuousness', 'rusted-out', 'romanticization', 'uninventive', 'salaciously', 'gidget', 'ever-watchful', 'sentimentalized', 'ryoko', 'schaeffer', 'buscemi', 'rat-a-tat', 'jacobi', 'english-language', 'pre-credit', 'scoob', 'seesawed', 'seriocomic', 'self-destructiveness', 'dislikable', 'oh-so-important', 'derrida', 'boom-box', 'beseechingly', 'not-so-big', 'miramax', 'vengefulness', 'crudities', 'non-porn', 'besson', 'not-so-funny', 'cliche-ridden', 'heidegger', 'nesbitt', 'restage', 'mind-bender', 'herrmann', 'plot-lines', 'caddyshack', 'stop-and-start', 'villeneuve', 'snoots', 'courageousness', 'rejiggering', 'malkovich', 'well-realized', 'mordantly', 'cornpone', 'strip-mined', 'jiri', 'holiday-season', 'reconceptualize', 'transfigures', 'rejigger', 'bow-wow', 'actioners', 'trailer-trash', 'overladen', 'niftiest', 'senegalese', 'goldmember', 'ugly-looking', 'pompeo', 'menzel', 'odd-couple', 'all-enveloping', 'teen-pop', 'gondry', 'live-wire', 'dogme', 'ratliff', 'wittgenstein', 'crossing-over', 'outlandishness', 'self-mutilating', 'heart-breakingly', 'preposterousness', 'yvan', 'laugh-a-minute', 'farcically', 'soullessness', 'balzac', 'ourside', 'hossein', 'shoot-em-ups', 'good-bad', 'dead-eye', 'pryce', 're-fried', 'howlingly', 'campanella', 'brusqueness', 'flame-like', 'lumpish', 'backmasking', 'dreadfulness', 'desecrations', 'gosford', 'actorly', 'shyamalan', 'unentertaining', 'summer-camp', 'turpin', 'silly-looking', 'under-10', 'whimsicality', 'ecks', 'super-serious', 'babak', 'ararat', 'cremaster', 'zealanders', 'p.t.', 'cronenberg', 'pascale', '10-course', 'uncompelling', 'neurasthenic', 'rubenesque', '65-minute', 'untidily', 'not-being', 'dafoe', 'danang', 'unforgivingly', 'maik', 'coma-like', 'well-put-together', 'sturges', 'tezuka', 'spoofy', 'been-there', 'zero-dimensional', 'ransacks', 'embroils', 'hayao', 'tissue-thin', 'bodice-ripper', 'hypermasculine', 'spader', 'thandie', 'lugosi', '85-minute', 'filmgoing', 'welty', 'greenfingers', 'roundelay', 'roussillon', 'silent-movie', 'ear-pleasing', 'mcwilliams', 'psychologizing', 'bettany', 'gooeyness', 'unreligious', 'tunney', 'half-lit', 'throat-singing', 'party-hearty', 'half-sleep', 'fourth-rate', 'shrieky', 'i.q.', 'arteta', 'giant-screen', 'redgrave', 'bickle', 'estela', 'cardoso', 'movie-of-the-week', 'bardem', 'quick-cut', 'sontag', 'long-faced', 'nowheresville', 'mamet', 'miscalculates', 'world-at-large', 'ball-and-chain', 'work-hours', 'rhapsodizes', 'unamusing', 'viveka', 'undogmatic', 'sanctimoniousness', 'uni-dimensional', 'galan', 'ticket-buyers', 'e.t', 'barris', 'sendak', 'stoppard', 'ya-ya', 'lathan', '37-minute', 'crapulence', 'character-oriented', 'unshapely', 'mortarboards', 'floria', 'elfriede', 'flibbertigibbet', 'creature-feature', 'eisenstein', 'crudup', 'mushes', 'loopiness', 'semi-stable', 'dorkier', 'karmen', 'transfixes', 'medium-grade', 'shimizu', 'grittily', '95-minute', 'irony-free', 'haplessness', 'carvey', 'baio', 'jean-luc', 'kinnear', 'g-rated', 'pinochet', 'aranda', 'rothman', 'begley', 'shmear', 'ploddingly', 'done-that', 'pootie', 'shoplifts', 'branagh', 'soaper', 'gulzar', 'runyon', 'inter-family', 'chick-flicks', 'liotta', 'fillm', 'pop-influenced', 'jean-claude', 'bible-study', 'freundlich', 'thornberry', 'truth-in-advertising', 'rodan', 'hundert', 'peerlessly', 'a-knocking', 'kumble', 'gadzooks', 'beresford', 'extreme-sports', 'period-piece', 'under-rehearsed', 'soderbergh', 'taymor', 'bartleby', 'kid-pleasing', 'neo-fascism', 'lagaan', 'moviehouse', 'narcotized', 'extra-dry', 'lohman', 'mcmullen', 'haphazardness', 'disquietingly', 'drably', 'culture-clash', 'r-rated', 'food-for-thought', 'gang-infested', 'hard-eyed', 'earnhart', 'arliss', 'pollak', 'tautou', 'diop', 'unimpressively', 'christelle', 'spy-thriller', 'nalin', 'fun-seeking', 'veggietales', 'anteing', 'perfervid', 'kafkaesque', 'sentimentalizing', 'megaplexes', 'callar', 'razzie', 'liman', 'almodovar', 'squirm-inducing', 'over-familiarity', 'uplifter', 'middle-agers', 'quasi-documentary', 'broca', 'homeric', 'feel-bad', 'brockovich', 'weissman', 'greengrass', 'dalrymple', 'mid-to-low', 'longley', 'phifer', 'water-born', 'danis', 'denouements', 'sorvino', 'wised-up', 'money-oriented', 'wiel', 'director-writer', 'potemkin', 'joylessly', 'baseball-playing', 'spirit-crushing', 'kilt-wearing', 'massoud', 'cattaneo', 'aiello', 'critic-proof', 'water-bound', 'common-man', 'powerment', 'lillard', 'stultifyingly', 'wimmer', 'niblet', 'macdowell', 'suspenser', 'oscar-winning', 'siuation', 'sepia-tinted', 'underachieves', 'polson', 'bigger-name', 'actory', 'thornberrys', 'farrelly', 'rise-and-fall', 'giannini', 'binoche', 'head-trip', 'juiceless', 'claustrophic', 'nakata', 'dog-tag', 'equlibrium', 'cannier', 'indomitability', 'fuhrman', 'updatings', 'stumblebum', 'sob-story', 'mistaken-identity', 'larky', '\\\\*\\\\*', 'out-of-field', 'skid-row', 'goombah', 'hoult', 'beer-fueled', 'no-bull', 'hat-in-hand', 'kirshner', 'pin-like', 'campaign-trail', 'frightfest', 'opera-ish', 'garcía', 'cardellini', 'hard-to-swallow', 'amini', 'dalloway', 'done-to-death', 'mullan', 'toolbags', 'ivans', 'glass-shattering', 'shreve', 'witlessness', 'loose-jointed', 'bluto', 'bottom-rung', 'sugarman', 'crowdpleaser', 'heartwarmingly', 'bisset', 'rusi', 'riot-control', 'encomia', 'tarkovsky', 'bedevilling', 'decent-enough', 'benigni', 'sweaty-palmed', 'likably', '20-car', 'fangoria', 'poorly-constructed', 'plaintiveness', 'ozu', 'euro-trash', 'sayles', 'studio-produced', 'aurelie', 'bruckheimer', 'and\\\\/or', 'large-frame', 'kjell', 'parmentier', 'platinum-blonde', 'bug-eye', 'well-mounted', 'off-puttingly', 'asquith', 'nanook', 'fever-pitched', 'candy-coat', 'vardalos', 'leguizamo', 'car-wreck', 'h.g.', 'manipulativeness', 'truffaut', 'rifkin', 'animaton', 'morlocks', 'ringu', 'cassavetes', 'yosuke', 'rhames', 'stuffiest', 'shapable', 'american-style', 'drung', 'copyof', 'little-remembered', 'desplat', 'ya-yas', 'decades-spanning', 'homo-eroticism', 'hard-to-predict', 'schticky', 'bolado', 'bailly', 'rabbit-proof', 'caviezel', 'jelinek', 'wash.', 'venezuelans', 'linklater', 'headly', 'control-alt-delete', 'plympton', 'videodrome', 'testosterone-charged', '88-minute', 'marxian', 'video-viewing', 'sinise', 'humbuggery', 'zemeckis', 'pouty-lipped', 'pie-like', 'day-lewis', 'uruk-hai', 'scorcese', 'shiver-inducing', 'near-masterpiece', 'ryosuke', 'book-on-tape', 'dickensian', 'wise-beyond-her-years', 'loosely-connected', 'post-camp', 're-voiced', 'romance-novel', 'eye-boggling', 'butterfingered', 'meara', 'hunnam', 'swimfan', 'neuwirth', 'period-perfect', \"o'fallon\", 'poor-me', 'kozmo', 'bedknobs', 'eye-filling', 'forgettably', 'vidgame', 'laissez-passer', 'self-caricature', 'turturro', 'quick-buck', 'whip-crack', 'amélie', 'underconfident', 'ontiveros', 'ugly-duckling', 'mind-destroying', 'teendom', '\\\\*\\\\*\\\\*', 'pasolini', 'neo-nazism', 'gang-member', 'softheaded', 'sprecher', 'strung-together', 'out-of-kilter', 'depalma', 'goyer', 'italicizes', 'derivativeness', 'knockaround', 'documentary-making', 'nerve-rattling', 'sidey', 'shimmeringly', 'qutting', 'writer-producer-director', 'shankman', 'plimpton', 'twinkly-eyed', 'beat-the-clock', 'movie-esque', 'self-exploitation', 'good-naturedness', 'the-night', '99-minute', 'heart-string', 'teen-targeted', 'laugh-free', 'igby', '94-minute', 'nonjudgmentally', 'bohos', 'tv-movie', 'lasker', 'chopsocky', 'laugther', 'schnieder', 'teeth-clenching', 'tavernier', 'hypertime', 'haneke', 'all-over-the-map', 'walking-dead', 'j.r.r.', 'toback', 'ribisi', 'police-procedural', 'writer-actor', 'antwone', 'less-than-thrilling', 'thumpingly', 'greaseballs', 'movie-industry', 'bjarne', 'byatt', 'ill-constructed', 'celebrityhood', 'thewlis', 'baaaaaaaaad', 'papin', 'noyce', 'demme', 'huppert', 'manoel', 'non-disney', 'scene-chewing', 'future-world', 'sixties-style', 'hole-ridden', 'avary', 'gibney', '<unk>'])"
            ]
          },
          "execution_count": 20,
          "metadata": {},
          "output_type": "execute_result"
        }
      ],
      "source": [
        "glove_keys"
      ]
    },
    {
      "cell_type": "code",
      "execution_count": 21,
      "metadata": {
        "id": "6xDV6QqZfnPP"
      },
      "outputs": [
        {
          "name": "stdout",
          "output_type": "stream",
          "text": [
            "Correct! You earned 2/2 points. You are a star!\n",
            "\n",
            "Your submission has been successfully recorded in the gradebook.\n"
          ]
        }
      ],
      "source": [
        "# PennGrader Grading Cell, do not modify.\n",
        "# This tests you have the right number of keys, and that a few elements are in there.\n",
        "grader.grade(test_case_id = 'test_glove_embedding', answer = list(glove_map.keys()))"
      ]
    },
    {
      "cell_type": "markdown",
      "metadata": {
        "id": "HoZuTVB9mcZb"
      },
      "source": [
        "### 3.2 Embedding Matrix\n",
        "\n",
        "Fill in the following constants about the system we are building.  These are required for setting up the DAN."
      ]
    },
    {
      "cell_type": "code",
      "execution_count": 22,
      "metadata": {
        "id": "djhLc9X_Z2E0"
      },
      "outputs": [],
      "source": [
        "## TODO\n",
        "d_out = 2  # the number of output classes of the model\n",
        "n_embed = ds.vocab.size # the total number of word embeddings in the input layer\n",
        "d_embed = 300 # the dimensionality of each word embedding"
      ]
    },
    {
      "cell_type": "code",
      "execution_count": 23,
      "metadata": {
        "colab": {
          "base_uri": "https://localhost:8080/"
        },
        "id": "g3wlXNeT_KSj",
        "outputId": "d862115a-642b-4d26-a511-62898672b618"
      },
      "outputs": [
        {
          "name": "stdout",
          "output_type": "stream",
          "text": [
            "Correct! You earned 1/1 points. You are a star!\n",
            "\n",
            "Your submission has been successfully recorded in the gradebook.\n"
          ]
        }
      ],
      "source": [
        "# PennGrader Grading Cell, do not modify.\n",
        "# This tests you have the right number of keys, and that a few elements are in there\n",
        "grader.grade(test_case_id = 'test_dimensions', answer = (d_out, n_embed, d_embed))"
      ]
    },
    {
      "cell_type": "markdown",
      "metadata": {
        "id": "ct2rwpFxlytq"
      },
      "source": [
        "#### Initializing the embedding matrix\n",
        "\n",
        "Create a embedding_matrix for the parameters to be learnt. Fill in the rows of the embedding matrix with the glove embeddings. Use word id as row index.  If you do not find a particular word or you need to randomize the embeddings, initialize the embedding matrix with `np.random.normal`\n",
        "\n",
        "Hint: `ds.vocab.ordered_words()` can give you the mapping of id to words. `glove` has the embeddings you need."
      ]
    },
    {
      "cell_type": "code",
      "execution_count": 24,
      "metadata": {
        "id": "MMIZjt4HYuJB"
      },
      "outputs": [],
      "source": [
        "def get_embedding_matrix(n_embed, d_embed, glove_map, randomize_init = False):\n",
        "    \"\"\"\n",
        "    Initialize the embedding matrix\n",
        "\n",
        "    INPUT:\n",
        "    n_embed         - size of the dictionary of embeddings\n",
        "    d_embed         - the size of each embedding vector\n",
        "    glove_map       - the map you created storing all of embeddings you will need from GloVE\n",
        "    randomize_init  - if True, ignore the embeddings from glove_map and intilize all embeddings to random guassian noise (np.random.normal will be useful).\n",
        "\n",
        "    OUTPUT:\n",
        "    embedding_matrix  - a numpy matrix of mapping from word id to embedding\n",
        "\n",
        "    \"\"\"\n",
        "    #### STUDENT CODE HERE ####\n",
        "    embedding_matrix = np.zeros((n_embed, d_embed))\n",
        "    \n",
        "    if randomize_init:\n",
        "        embedding_matrix = np.random.normal(0, 1, (n_embed, d_embed))\n",
        "    else:\n",
        "        for id, word in enumerate(ds.vocab.ordered_words()):\n",
        "            if word in glove_map:\n",
        "                embedding_matrix[id] = glove_map[word]\n",
        "\n",
        "    #### STUDENT CODE ENDS HERE ####\n",
        "    return embedding_matrix"
      ]
    },
    {
      "cell_type": "code",
      "execution_count": 25,
      "metadata": {},
      "outputs": [
        {
          "data": {
            "text/plain": [
              "16474"
            ]
          },
          "execution_count": 25,
          "metadata": {},
          "output_type": "execute_result"
        }
      ],
      "source": [
        "n_embed"
      ]
    },
    {
      "cell_type": "code",
      "execution_count": 26,
      "metadata": {},
      "outputs": [
        {
          "data": {
            "text/plain": [
              "15506"
            ]
          },
          "execution_count": 26,
          "metadata": {},
          "output_type": "execute_result"
        }
      ],
      "source": [
        "len(glove_map)"
      ]
    },
    {
      "cell_type": "code",
      "execution_count": 27,
      "metadata": {},
      "outputs": [
        {
          "data": {
            "text/plain": [
              "16474"
            ]
          },
          "execution_count": 27,
          "metadata": {},
          "output_type": "execute_result"
        }
      ],
      "source": [
        "len(ds.vocab.ordered_words())"
      ]
    },
    {
      "cell_type": "code",
      "execution_count": 28,
      "metadata": {
        "id": "rotHEiIqm2sV"
      },
      "outputs": [],
      "source": [
        "embedding_matrix = get_embedding_matrix(n_embed, d_embed, glove_map)\n",
        "embedding_data = (embedding_matrix.shape, embedding_matrix[0:155])"
      ]
    },
    {
      "cell_type": "code",
      "execution_count": 29,
      "metadata": {
        "colab": {
          "base_uri": "https://localhost:8080/"
        },
        "id": "OTJCtrTZ_ubK",
        "outputId": "f6ddba92-fd01-4153-d93f-5998509b5202"
      },
      "outputs": [
        {
          "name": "stdout",
          "output_type": "stream",
          "text": [
            "Correct! You earned 2/2 points. You are a star!\n",
            "\n",
            "Your submission has been successfully recorded in the gradebook.\n"
          ]
        }
      ],
      "source": [
        "# PennGrader Grading Cell, do not modify.\n",
        "# This sets that you have the right values in the embedding matrix.\n",
        "grader.grade(test_case_id = 'test_weight_matrix', answer = embedding_data)"
      ]
    },
    {
      "cell_type": "markdown",
      "metadata": {
        "id": "Z6rGLI6jm-0g"
      },
      "source": [
        "### 3.3 Embedding Layer\n",
        "The following is initilization code for an embedding module we will include in our DAN.\n",
        "Use the embedding matrix to create the embedding layer by using `nn.Embedding`."
      ]
    },
    {
      "cell_type": "code",
      "execution_count": 30,
      "metadata": {
        "id": "4XGB1pAabQAf"
      },
      "outputs": [],
      "source": [
        "def create_emb_layer(embedding_matrix, non_trainable=False):\n",
        "    \"\"\"\n",
        "    Create the embedding layer\n",
        "\n",
        "    INPUT:\n",
        "    embedding_matrix  - matrix of mapping from word id to embedding\n",
        "    non_trainable   - Flag for whether the embedding matrix should be trained.\n",
        "                      If it is set to True, don't update the gradients\n",
        "\n",
        "    OUTPUT:\n",
        "    emb_layer       - embedding layer\n",
        "\n",
        "    \"\"\"\n",
        "    #### STUDENT CODE HERE ####\n",
        "    \n",
        "    num_embeddings, embedding_dim = embedding_matrix.shape\n",
        "\n",
        "    \n",
        "    emb_layer = nn.Embedding(num_embeddings, embedding_dim)\n",
        "\n",
        "    \n",
        "    emb_layer.weight.data.copy_(torch.from_numpy(embedding_matrix))\n",
        "\n",
        "\n",
        "    emb_layer.weight.requires_grad = non_trainable\n",
        "    #### STUDENT CODE ENDS HERE ####\n",
        "\n",
        "    return emb_layer"
      ]
    },
    {
      "cell_type": "markdown",
      "metadata": {
        "id": "FI5HX8dGNQyR"
      },
      "source": [
        "### 3.4 Defining the Dataloader"
      ]
    },
    {
      "cell_type": "markdown",
      "metadata": {
        "id": "v2Z4YahqYBBw"
      },
      "source": [
        "For the ease of batch processing, we are defining the following to use the functionality of the Dataloader in Pytorch.\n",
        "\n",
        "You can read more about it in [this tutorial](https://pytorch.org/tutorials/beginner/basics/data_tutorial.html).\n"
      ]
    },
    {
      "cell_type": "code",
      "execution_count": 31,
      "metadata": {
        "id": "tOubHTzb8CS2"
      },
      "outputs": [],
      "source": [
        "class SSTpytorchDataset(Dataset):\n",
        "    def __init__(self, sst_ds, word_dropout = 0.3, split='train'):\n",
        "        super(SSTpytorchDataset, self).__init__()\n",
        "        assert split in ['train', 'test', 'dev'], \"Error!\"\n",
        "        self.ds = sst_ds\n",
        "        self.split = split\n",
        "        self.word_dropout = word_dropout\n",
        "        self.data_x, self.data_ns, self.data_y = self.ds.as_padded_array(split,is_root =is_root)\n",
        "        self.mask = np.zeros_like(self.data_x)\n",
        "\n",
        "    def __len__(self):\n",
        "        return self.data_x.shape[0]\n",
        "\n",
        "    def __getitem__(self, idx):\n",
        "        if torch.is_tensor(idx):\n",
        "            idx = idx.tolist()\n",
        "        y = 2\n",
        "        if self.split != 'test':\n",
        "            y = self.data_y[idx]\n",
        "\n",
        "        mask = np.zeros(len(self.data_x[idx]))\n",
        "        sentl = self.data_ns[idx]\n",
        "        total_dropped = 0\n",
        "        for j in range(0,sentl):\n",
        "            mask[j] = 1\n",
        "            if self.split == 'train':\n",
        "                rv = random.random()\n",
        "                if rv  < self.word_dropout:\n",
        "                    mask[j] = 0\n",
        "                    total_dropped+=1\n",
        "        if total_dropped >= sentl:\n",
        "            mask[0] = 1\n",
        "        for i in range(sentl,len(self.data_x[idx])):\n",
        "            mask[i] = 0\n",
        "        self.mask[idx] = mask\n",
        "        return self.data_x[idx], self.data_ns[idx], self.mask[idx], sentl, y\n"
      ]
    },
    {
      "cell_type": "markdown",
      "metadata": {
        "id": "uKlnbGShNCDV"
      },
      "source": [
        "### 3.5 Defining DAN Architecture"
      ]
    },
    {
      "cell_type": "markdown",
      "metadata": {
        "id": "QnSMLJcrsYC0"
      },
      "source": [
        "#### Masking in Deep Averaging Networks\n",
        "\n",
        "A lot of NLP applications use masking and deal with variable sequence lengths. We will need to handle this issue in our DAN. The dataloader provides enough information to do this in the form a mask indicating which elements of the batch correspond to real tokens and pad tokens.\n",
        "\n",
        "You have to perform the following steps:\n",
        "\n",
        "1. Change the view of the mask so it extends to the embeddings size\n",
        "2. Calculate the number of words in the sequence (`den`)\n",
        "3. Eliminate the tokens that aren't in the mask, and sum the rest `num`\n",
        "4. return `x = num/den`\n",
        "\n",
        "Note: You can look at [expand](https://pytorch.org/docs/stable/generated/torch.Tensor.expand.html) in pytorch.\n",
        "\n",
        "Implement this logic in the masked mean function.\n",
        "\n",
        "#### Feedforward network\n",
        "\n",
        "You will also need define the feedforward layers required for the final output of the classifier. We suggest you start simple, and first implement a linear classifier over the average of words embeddings. Then, introduce a feedforward neural network that operates over the average embeddings. Remeber, you must include non-linearities in your feed foward network. You will need to experiment with different depths and different non-linearities for your report.\n",
        "\n",
        "Fill in the sections marked with following cells that handle masking and the network definition."
      ]
    },
    {
      "cell_type": "markdown",
      "metadata": {
        "id": "M0aq_l_f4xiv"
      },
      "source": [
        "#### Defining the architecture for Deep Averaging Networks"
      ]
    },
    {
      "cell_type": "code",
      "execution_count": 32,
      "metadata": {
        "id": "HvFPHJzcmwt8"
      },
      "outputs": [],
      "source": [
        "import random as random\n",
        "\n",
        "class DAN(nn.Module):\n",
        "\n",
        "    def __init__(self,\n",
        "                 n_embed=20000,\n",
        "                 d_embed=300,\n",
        "                 d_hidden=100,\n",
        "                 d_out=2,\n",
        "                 layer_dropout = 0.2,\n",
        "                 embeddings=None,\n",
        "                 depth = 2):\n",
        "        super(DAN, self).__init__()\n",
        "\n",
        "        self.device = torch.device('cuda' if torch.cuda.is_available() else 'cpu')\n",
        "        self.embed = create_emb_layer(embedding_matrix,False)\n",
        "        #### STUDENT CODE HERE ####\n",
        "\n",
        "        ### We need to create the layers to construct the output of the classifier.\n",
        "        ### One possible implementation uses the \"nn.Seqential\" module, which chains together multiple layers.\n",
        "        \n",
        "        layers = []\n",
        "\n",
        "        # input\n",
        "        layers.append(nn.Linear(d_embed, d_hidden))\n",
        "        layers.append(nn.ReLU())\n",
        "\n",
        "        # # hidden\n",
        "        for _ in range(depth - 1):\n",
        "            layers.append(nn.Linear(d_hidden, d_hidden))\n",
        "            layers.append(nn.ReLU())\n",
        "            layers.append(nn.Dropout(layer_dropout))\n",
        "\n",
        "        # output_layer\n",
        "        layers.append(nn.Linear(d_hidden, d_out))\n",
        "        layers.append(nn.ReLU())\n",
        "\n",
        "        \n",
        "        \n",
        "        self.feedforward_layers = nn.Sequential(*layers)\n",
        "        \n",
        "        \n",
        "        #### STUDENT CODE ENDS HERE ####\n",
        "\n",
        "    def masked_mean(self,v, mask):\n",
        "        \"\"\"\n",
        "        Create the masked mean\n",
        "\n",
        "        INPUT:\n",
        "        v       - input\n",
        "        mask    - mask that has 0 and 1 for all th tokens in the input\n",
        "                  0 corresponds to dropping the token and 1 corresponds to keeping the token\n",
        "\n",
        "        OUTPUT:\n",
        "        x       - average\n",
        "\n",
        "        \"\"\"\n",
        "        (batch, max_sent, d_embed ) = v.size()\n",
        "        mask.requires_grad = False\n",
        "\n",
        "        #### STUDENT CODE HERE ####\n",
        "\n",
        "        #change the view of the mask so it extends to the embeddings size\n",
        "        #the number surviving words\n",
        "        #eliminate the tokens that aren't in the mask, and sum\n",
        "        #average\n",
        "        \n",
        "        expanded_mask = mask.unsqueeze(-1)\n",
        "        expanded_mask = expanded_mask.expand_as(v)\n",
        "\n",
        "        # 计算序列中的有效单词数量\n",
        "        den = mask.sum(dim=1, keepdim=True)  # 统计每个样本的有效单词数量\n",
        "\n",
        "        # 将不在 mask 中的单词置零\n",
        "        v_masked = v * expanded_mask\n",
        "\n",
        "        # 对每个样本进行求和\n",
        "        num = v_masked.sum(dim=1, keepdim=True)  # 求和\n",
        "\n",
        "        # 计算平均值\n",
        "        x = num / den\n",
        "\n",
        "\n",
        "        #### STUDENT CODE ENDS HERE ####\n",
        "        return x.mean(dim=0)\n",
        "\n",
        "    def forward(self, text, mask):\n",
        "        x = text\n",
        "        \n",
        "        x = self.embed(x.long())\n",
        "        # print(x.shape)\n",
        "        x = self.masked_mean(x,mask)\n",
        "        # print(x.shape)\n",
        "        x = self.feedforward_layers(x)\n",
        "        # print(x.shape)\n",
        "        return x\n"
      ]
    },
    {
      "cell_type": "markdown",
      "metadata": {
        "id": "9UIdMAHwXMoa"
      },
      "source": [
        "### 3.6 Training the Deep Averaging Network\n",
        "\n",
        "The following section implements a training loop for you. Use it to train and validate your DAN. Experiment with enough hyper-parameters to pass the PennGrader test below. You should be able to get over 85 accuracy without overfitting the development set."
      ]
    },
    {
      "cell_type": "code",
      "execution_count": 38,
      "metadata": {
        "id": "iMPfgoTym0Yj"
      },
      "outputs": [],
      "source": [
        "def train(model, lr = .005, drop_out = 0, word_dropout = .3, batch_size = 16, weight_decay = 1e-5, model_type= \"DAN\"):\n",
        "    device = torch.device('cuda' if torch.cuda.is_available() else 'cpu')\n",
        "    trainset = SSTpytorchDataset(ds, word_dropout, 'train')\n",
        "    testset = SSTpytorchDataset(ds, word_dropout, 'test')\n",
        "    devset = SSTpytorchDataset(ds, word_dropout, 'dev')\n",
        "\n",
        "    train_iter = DataLoader(trainset, batch_size, shuffle=True, num_workers=0)\n",
        "    test_iter = DataLoader(testset, batch_size, shuffle=False, num_workers=0)\n",
        "    dev_iter = DataLoader(devset, batch_size, shuffle=False, num_workers=0)\n",
        "\n",
        "    model = model\n",
        "    model.to(device)\n",
        "\n",
        "    optimizer = optim.AdamW(model.parameters(), lr=lr, weight_decay = weight_decay)\n",
        "\n",
        "\n",
        "    acc, val_loss = evaluate(dev_iter, model, device, model_type)\n",
        "    # return\n",
        "    best_acc = acc\n",
        "\n",
        "    print(\n",
        "        'epoch |   %        |  loss  |  avg   |val loss|   acc   |  best  | time | save |')\n",
        "    print(\n",
        "        'val   |            |        |        | {:.4f} | {:.4f} | {:.4f} |      |      |'.format(\n",
        "            val_loss, acc, best_acc))\n",
        "\n",
        "    iterations = 0\n",
        "    last_val_iter = 0\n",
        "    train_loss = 0\n",
        "    start = time.time()\n",
        "    _save_ckp = ''\n",
        "    for epoch in range(epochs):\n",
        "        # train_iter.init_epoch()\n",
        "        n_correct, n_total, train_loss = 0, 0, 0\n",
        "        last_val_iter = 0\n",
        "        for batch_idx, batch in enumerate(train_iter):\n",
        "            # switch model to training mode, clear gradient accumulators\n",
        "            model.train()\n",
        "            optimizer.zero_grad()\n",
        "            iterations += 1\n",
        "\n",
        "            data, ns, mask, lens, label = batch\n",
        "\n",
        "            data = data.to(device)\n",
        "            label = label.to(device).long()\n",
        "            mask = mask.to(device).long()\n",
        "            \n",
        "            # print(data.shape)\n",
        "            # print(mask.shape)\n",
        "            if model_type == \"LSTM\":\n",
        "                answer = model(data, mask, lens)\n",
        "            else:\n",
        "                answer = model(data, mask)\n",
        "\n",
        "            loss = criterion(answer, label)\n",
        "\n",
        "            loss.backward()\n",
        "            optimizer.step()\n",
        "\n",
        "            train_loss += loss.item()\n",
        "            print('\\r {:4d} | {:4d}/{} | {:.4f} | {:.4f} |'.format(\n",
        "                epoch, batch_size * (batch_idx + 1), len(trainset), loss.item(),\n",
        "                       train_loss / (iterations - last_val_iter)), end='')\n",
        "\n",
        "            if iterations > 0 and iterations % dev_every == 0:\n",
        "                acc, val_loss= evaluate(dev_iter, model, device, model_type)\n",
        "                if acc > best_acc:\n",
        "                    best_acc = acc\n",
        "                    torch.save(model.state_dict(), save_path)\n",
        "                    _save_ckp = '*'\n",
        "\n",
        "                print(\n",
        "                    ' {:.4f} | {:.4f} | {:.4f} | {:.2f} | {:4s} |'.format(\n",
        "                        val_loss, acc, best_acc, (time.time() - start) / 60,\n",
        "                        _save_ckp))\n",
        "\n",
        "                train_loss = 0\n",
        "                last_val_iter = iterations\n",
        "    model.load_state_dict(torch.load(save_path)) #this will be the best model\n",
        "    test_y_pred = evaluate(test_iter, model, device, model_type, \"test\")\n",
        "    print(\"\\nValidation Accuracy : \", evaluate(dev_iter,model, device, model_type))\n",
        "    return best_acc, test_y_pred\n"
      ]
    },
    {
      "cell_type": "code",
      "execution_count": 41,
      "metadata": {},
      "outputs": [],
      "source": [
        "def evaluate_by_work_len(loader, model, device, model_type = \"DAN\", split = \"dev\"):\n",
        "    model.eval()\n",
        "    n_correct, n = 0, 0\n",
        "    losses = []\n",
        "    y_pred = []\n",
        "    acc_dict = {}\n",
        "    cnt = 0\n",
        "    with torch.no_grad():\n",
        "        for batch_idx, batch in enumerate(loader):\n",
        "            data, ns, mask, lens, label = batch\n",
        "            data = data.to(device)\n",
        "            label = label.to(device).long()\n",
        "            mask = mask.to(device).long()\n",
        "            # print(data.shape, data)\n",
        "            # print(mask.shape, mask)\n",
        "            if model_type == \"LSTM\":\n",
        "                answer = model(data, mask, lens)\n",
        "            else:\n",
        "                answer = model(data, mask)\n",
        "            if split != \"test\":\n",
        "                \n",
        "                for i, length in enumerate(lens.cpu().numpy()):\n",
        "                    if length not in acc_dict:\n",
        "                        acc_dict[length] = {\"n_correct\": 0, \"n_total\": 0}\n",
        "                        \n",
        "                    acc_dict[length][\"n_total\"] += 1\n",
        "                    \n",
        "                    if torch.max(answer[i], 0)[1] == label[i]:\n",
        "                        acc_dict[length][\"n_correct\"] += 1\n",
        "                        cnt += 1\n",
        "\n",
        "                \n",
        "                n_correct += (torch.max(answer, 1)[1].view(label.size()) == label).sum().item()\n",
        "                # print(\"cnt:\", cnt, \"n_cor:\", n_correct)\n",
        "                n += answer.shape[0]\n",
        "                loss = criterion(answer, label)\n",
        "                losses.append(loss.data.cpu().numpy())\n",
        "            else:\n",
        "                y_pred.extend(torch.max(answer, 1)[1].view(label.size()).tolist())\n",
        "    print(\"acc_dict:\",acc_dict)\n",
        "    print(\"acc_dict.len:\",len(acc_dict))\n",
        "    if split != \"test\":\n",
        "        acc = 100. * n_correct / n\n",
        "        loss = np.mean(losses)\n",
        "        return acc, loss, acc_dict\n",
        "    else:\n",
        "        return y_pred\n"
      ]
    },
    {
      "cell_type": "code",
      "execution_count": 62,
      "metadata": {
        "id": "qKen8d8knAj8"
      },
      "outputs": [],
      "source": [
        "def evaluate(loader, model, device, model_type = \"DAN\", split = \"dev\"):\n",
        "    model.eval()\n",
        "    n_correct, n = 0, 0\n",
        "    losses = []\n",
        "    y_pred = []\n",
        "    with torch.no_grad():\n",
        "        for batch_idx, batch in enumerate(loader):\n",
        "            data, ns, mask, lens, label = batch\n",
        "            data = data.to(device)\n",
        "            label = label.to(device).long()\n",
        "            mask = mask.to(device).long()\n",
        "            # print(data.shape, data)\n",
        "            # print(mask.shape, mask)\n",
        "            if model_type == \"LSTM\":\n",
        "                answer = model(data, mask, lens)\n",
        "            else:\n",
        "                answer = model(data, mask)\n",
        "            if split != \"test\":\n",
        "                n_correct += (torch.max(answer, 1)[1].view(label.size()) == label).sum().item()\n",
        "                n += answer.shape[0]\n",
        "                loss = criterion(answer, label)\n",
        "                losses.append(loss.data.cpu().numpy())\n",
        "            else:\n",
        "                y_pred.extend(torch.max(answer, 1)[1].view(label.size()).tolist())\n",
        "    if split != \"test\":\n",
        "        acc = 100. * n_correct / n\n",
        "        loss = np.mean(losses)\n",
        "        return acc, loss\n",
        "    else:\n",
        "        return y_pred\n"
      ]
    },
    {
      "cell_type": "markdown",
      "metadata": {
        "id": "hnR4jGf5XIzF"
      },
      "source": [
        "The following code will train the averaging network on the training data after which it will return the accuracy achieved on the validation set as well as the predictions for the test set."
      ]
    },
    {
      "cell_type": "code",
      "execution_count": 63,
      "metadata": {},
      "outputs": [],
      "source": [
        "import os\n",
        "os.environ['CUDA_VISIBLE_DEVICES'] = '1'"
      ]
    },
    {
      "cell_type": "code",
      "execution_count": 64,
      "metadata": {
        "id": "v7jSq4uunGEx"
      },
      "outputs": [
        {
          "name": "stdout",
          "output_type": "stream",
          "text": [
            "epoch |   %        |  loss  |  avg   |val loss|   acc   |  best  | time | save |\n",
            "val   |            |        |        | 0.6930 | 55.4710 | 55.4710 |      |      |\n",
            "    0 | 12800/98794 | 0.6931 | 0.6946 | 0.6931 | 56.7570 | 56.7570 | 0.01 | *    |\n",
            "    0 | 25600/98794 | 0.6931 | 0.6931 | 0.6931 | 56.7570 | 56.7570 | 0.02 | *    |\n",
            "    0 | 38400/98794 | 0.6931 | 0.6931 | 0.6931 | 56.7570 | 56.7570 | 0.03 | *    |\n",
            "    0 | 51200/98794 | 0.6931 | 0.6931 | 0.6931 | 56.7570 | 56.7570 | 0.04 | *    |\n",
            "    0 | 64000/98794 | 0.6931 | 0.6931 | 0.6931 | 56.7570 | 56.7570 | 0.05 | *    |\n",
            "    0 | 76800/98794 | 0.6931 | 0.6931 | 0.6931 | 56.7570 | 56.7570 | 0.06 | *    |\n",
            "    0 | 89600/98794 | 0.6931 | 0.6931 | 0.6931 | 56.7570 | 56.7570 | 0.07 | *    |\n",
            "    1 | 3584/98794 | 0.6931 | 0.0243 || 0.6931 | 56.7570 | 56.7570 | 0.08 | *    |\n",
            "    1 | 16384/98794 | 0.6931 | 0.6931 | 0.6931 | 56.7570 | 56.7570 | 0.09 | *    |\n",
            "    1 | 29184/98794 | 0.6931 | 0.6931 | 0.6931 | 56.7570 | 56.7570 | 0.10 | *    |\n",
            "    1 | 41984/98794 | 0.6931 | 0.6931 | 0.6931 | 56.7570 | 56.7570 | 0.11 | *    |\n",
            "    1 | 54784/98794 | 0.6931 | 0.6931 | 0.6931 | 56.7570 | 56.7570 | 0.12 | *    |\n",
            "    1 | 67584/98794 | 0.6931 | 0.6931 | 0.6931 | 56.7570 | 56.7570 | 0.13 | *    |\n",
            "    1 | 80384/98794 | 0.6931 | 0.6931 | 0.6931 | 56.7570 | 56.7570 | 0.14 | *    |\n",
            "    1 | 93184/98794 | 0.6931 | 0.6931 | 0.6931 | 56.7570 | 56.7570 | 0.15 | *    |\n",
            "    2 | 7168/98794 | 0.6931 | 0.0243 || 0.6931 | 56.7570 | 56.7570 | 0.16 | *    |\n",
            "    2 | 19968/98794 | 0.6931 | 0.6931 | 0.6931 | 56.7570 | 56.7570 | 0.17 | *    |\n",
            "    2 | 32768/98794 | 0.6931 | 0.6931 | 0.6931 | 56.7570 | 56.7570 | 0.18 | *    |\n",
            "    2 | 45568/98794 | 0.6931 | 0.6931 | 0.6931 | 56.7570 | 56.7570 | 0.19 | *    |\n",
            "    2 | 58368/98794 | 0.6931 | 0.6931 | 0.6931 | 56.7570 | 56.7570 | 0.20 | *    |\n",
            "    2 | 71168/98794 | 0.6931 | 0.6931 | 0.6931 | 56.7570 | 56.7570 | 0.21 | *    |\n",
            "    2 | 83968/98794 | 0.6931 | 0.6931 | 0.6931 | 56.7570 | 56.7570 | 0.22 | *    |\n",
            "    2 | 96768/98794 | 0.6931 | 0.6931 | 0.6931 | 56.7570 | 56.7570 | 0.23 | *    |\n",
            "    3 | 10752/98794 | 0.6931 | 0.0243 | 0.6931 | 56.7570 | 56.7570 | 0.24 | *    |\n",
            "    3 | 23552/98794 | 0.6931 | 0.6931 | 0.6931 | 56.7570 | 56.7570 | 0.24 | *    |\n",
            "    3 | 36352/98794 | 0.6931 | 0.6931 | 0.6931 | 56.7570 | 56.7570 | 0.25 | *    |\n",
            "    3 | 49152/98794 | 0.6931 | 0.6931 | 0.6931 | 56.7570 | 56.7570 | 0.26 | *    |\n",
            "    3 | 61952/98794 | 0.6931 | 0.6931 | 0.6931 | 56.7570 | 56.7570 | 0.27 | *    |\n",
            "    3 | 74752/98794 | 0.6931 | 0.6931 | 0.6931 | 56.7570 | 56.7570 | 0.28 | *    |\n",
            "    3 | 87552/98794 | 0.6931 | 0.6931 | 0.6931 | 56.7570 | 56.7570 | 0.29 | *    |\n",
            "    4 | 1536/98794 | 0.6931 | 0.0027 || 0.6931 | 56.7570 | 56.7570 | 0.30 | *    |\n",
            "    4 | 14336/98794 | 0.6931 | 0.6931 | 0.6931 | 56.7570 | 56.7570 | 0.31 | *    |\n",
            "    4 | 27136/98794 | 0.6931 | 0.6931 | 0.6931 | 56.7570 | 56.7570 | 0.32 | *    |\n",
            "    4 | 39936/98794 | 0.6931 | 0.6931 | 0.6931 | 56.7570 | 56.7570 | 0.33 | *    |\n",
            "    4 | 52736/98794 | 0.6931 | 0.6931 | 0.6931 | 56.7570 | 56.7570 | 0.34 | *    |\n",
            "    4 | 65536/98794 | 0.6931 | 0.6931 | 0.6931 | 56.7570 | 56.7570 | 0.35 | *    |\n",
            "    4 | 78336/98794 | 0.6931 | 0.6931 | 0.6931 | 56.7570 | 56.7570 | 0.36 | *    |\n",
            "    4 | 91136/98794 | 0.6931 | 0.6931 | 0.6931 | 56.7570 | 56.7570 | 0.37 | *    |\n",
            "    4 | 98816/98794 | 0.6931 | 0.6931 |\n",
            "Validation Accuracy :  (56.756962410591996, 0.6931475)\n"
          ]
        }
      ],
      "source": [
        "criterion = nn.CrossEntropyLoss()\n",
        "lr = 0.01\n",
        "drop_out = 0\n",
        "word_dropout = 0.1\n",
        "weight_decay = 1e-5\n",
        "torch.manual_seed(1234)\n",
        "batch_size = 128\n",
        "dev_every = 100 \n",
        "epochs = 5\n",
        "save_path = \"best_model\"\n",
        "model = DAN(n_embed=n_embed, d_embed=d_embed, d_hidden=300, d_out=d_out, layer_dropout=drop_out)\n",
        "dev_value, test_y_pred = train(model,lr, drop_out, word_dropout, batch_size, weight_decay, \"DAN\")"
      ]
    },
    {
      "cell_type": "code",
      "execution_count": 65,
      "metadata": {},
      "outputs": [
        {
          "name": "stdout",
          "output_type": "stream",
          "text": [
            "acc_dict: {13: {'n_correct': 171, 'n_total': 320}, 12: {'n_correct': 198, 'n_total': 339}, 11: {'n_correct': 178, 'n_total': 354}, 10: {'n_correct': 198, 'n_total': 400}, 3: {'n_correct': 683, 'n_total': 1120}, 2: {'n_correct': 814, 'n_total': 1396}, 1: {'n_correct': 1905, 'n_total': 3043}, 7: {'n_correct': 312, 'n_total': 570}, 6: {'n_correct': 343, 'n_total': 639}, 5: {'n_correct': 455, 'n_total': 790}, 24: {'n_correct': 40, 'n_total': 76}, 23: {'n_correct': 47, 'n_total': 92}, 8: {'n_correct': 279, 'n_total': 493}, 4: {'n_correct': 504, 'n_total': 861}, 27: {'n_correct': 31, 'n_total': 68}, 26: {'n_correct': 36, 'n_total': 74}, 25: {'n_correct': 31, 'n_total': 77}, 17: {'n_correct': 88, 'n_total': 198}, 16: {'n_correct': 119, 'n_total': 225}, 30: {'n_correct': 24, 'n_total': 50}, 22: {'n_correct': 53, 'n_total': 101}, 21: {'n_correct': 67, 'n_total': 126}, 20: {'n_correct': 77, 'n_total': 142}, 19: {'n_correct': 91, 'n_total': 157}, 9: {'n_correct': 228, 'n_total': 438}, 14: {'n_correct': 127, 'n_total': 260}, 29: {'n_correct': 29, 'n_total': 50}, 15: {'n_correct': 121, 'n_total': 232}, 33: {'n_correct': 14, 'n_total': 33}, 32: {'n_correct': 22, 'n_total': 37}, 31: {'n_correct': 19, 'n_total': 43}, 18: {'n_correct': 84, 'n_total': 170}, 34: {'n_correct': 10, 'n_total': 21}, 37: {'n_correct': 5, 'n_total': 13}, 28: {'n_correct': 28, 'n_total': 57}, 40: {'n_correct': 14, 'n_total': 35}, 35: {'n_correct': 5, 'n_total': 18}, 39: {'n_correct': 3, 'n_total': 5}, 38: {'n_correct': 1, 'n_total': 6}, 36: {'n_correct': 5, 'n_total': 13}}\n",
            "acc_dict.len: 40\n"
          ]
        }
      ],
      "source": [
        "devset = SSTpytorchDataset(ds, word_dropout, 'dev')\n",
        "dev_iter = DataLoader(devset, batch_size, shuffle=False, num_workers=0)\n",
        "model_type = \"DAN\"\n",
        "device = torch.device('cuda' if torch.cuda.is_available() else 'cpu')\n",
        "acc, val_loss, acc_dict1 = evaluate_by_work_len(dev_iter, model, device, model_type)"
      ]
    },
    {
      "cell_type": "code",
      "execution_count": 66,
      "metadata": {},
      "outputs": [
        {
          "data": {
            "image/png": "[encoded data removed]",
            "text/plain": [
              "<Figure size 432x288 with 1 Axes>"
            ]
          },
          "metadata": {
            "needs_background": "light"
          },
          "output_type": "display_data"
        }
      ],
      "source": [
        "import matplotlib.pyplot as plt\n",
        "\n",
        "data = acc_dict1\n",
        "\n",
        "# 按照键对数据进行排序\n",
        "sorted_data = {key: data[key] for key in sorted(data.keys())}\n",
        "\n",
        "# 提取排序后的键和值\n",
        "keys = list(sorted_data.keys())\n",
        "values_n_correct = [sorted_data[key]['n_correct'] for key in keys]\n",
        "values_n_total = [sorted_data[key]['n_total'] for key in keys]\n",
        "\n",
        "# 计算 n_correct/n_total 的比例\n",
        "ratios = [correct / total for correct, total in zip(values_n_correct, values_n_total)]\n",
        "\n",
        "# 绘制折线图\n",
        "plt.plot(keys, ratios, marker='o')\n",
        "plt.xlabel('Len of Input')\n",
        "plt.ylabel('Acc')\n",
        "# plt.title('Ratio of n_correct to n_total')\n",
        "plt.grid(True)\n",
        "plt.show()\n"
      ]
    },
    {
      "cell_type": "markdown",
      "metadata": {
        "id": "qE3gqpSbPBJ7"
      },
      "source": [
        "After you have trained your DAN, evaluate it on our hidden test set. Your score is a linear function between 83 and 85 on the test set. Experiment with different configurations on the development set until you get at least 85 on the development set. Then verify it generalizes.\n",
        "\n",
        "---\n",
        "\n"
      ]
    },
    {
      "cell_type": "markdown",
      "metadata": {
        "id": "Ig9gYTXVl5vM"
      },
      "source": [
        "### 3.7 Self Exploration\n",
        "\n",
        "This is where you experiment with different configurations of training (learning rate and batch size), and the network (dropout rates, depth, hidden sizes) and report which worked best. Illustrate your expermiments with in the form of a table (learning rate vs dev accuracy and batch size vs dev accuracy). When doing this validation, it is not required to train to convergence.\n",
        "You will need to report your results in the report."
      ]
    },
    {
      "cell_type": "code",
      "execution_count": 81,
      "metadata": {
        "colab": {
          "base_uri": "https://localhost:8080/"
        },
        "id": "DiZyHsyLB8pV",
        "outputId": "da04138a-4915-44b9-a274-fbf0f433c08e"
      },
      "outputs": [
        {
          "name": "stdout",
          "output_type": "stream",
          "text": [
            "Correct! You earned 33/33 points. You are a star!\n",
            "\n",
            "Your submission has been successfully recorded in the gradebook.\n"
          ]
        }
      ],
      "source": [
        "#Do not modify this cell. This is the grading cell.\n",
        "grader.grade(test_case_id = 'test_dan_predictions', answer = test_y_pred)"
      ]
    },
    {
      "cell_type": "markdown",
      "metadata": {
        "id": "AAflZLIpNybW"
      },
      "source": [
        "## 4. LSTM Networks"
      ]
    },
    {
      "cell_type": "markdown",
      "metadata": {
        "id": "VQ-eAzulN6CG"
      },
      "source": [
        "\n",
        "\n",
        "![LSTM](https://miro.medium.com/max/1400/1*-kBdBYzR7lpimgb3AIRkOw.png)\n",
        "\n",
        "LSTM stands for Long Short-Term Memory Network and it is a type of Recurrent Neural Network (RNN). As you recall from the lecture, Simple RNNs can struggle with exploding or vanishing gradients and LSTMs try to improve this issue. For the next part of the coding exercise, you will implement an LSTM to solve the classification problem.\n",
        "\n",
        "There are multiple ways to get the classification output from the hidden states of an RNN. For example, you may take the last hidden output, or you may aggregate the hidden states, use max or mean operations. Include a discussion of which method you have used in your report.\n",
        "\n",
        "**Hint:** You might want to think about how to handle different length sentences. You can use [pack_padded_sequence](https://pytorch.org/docs/stable/generated/torch.nn.utils.rnn.pack_padded_sequence.html) and [pad_packed_sequence](https://pytorch.org/docs/stable/generated/torch.nn.utils.rnn.pad_packed_sequence.html) to achieve this.\n",
        "\n",
        "**Note:** Bi-directional LSTMs require a concatnation of the output. Consider the PyTorch documentation carefully https://pytorch.org/docs/stable/generated/torch.nn.LSTM.html?highlight=lstm#torch.nn.LSTM"
      ]
    },
    {
      "cell_type": "markdown",
      "metadata": {
        "id": "5YLr43Dam1CB"
      },
      "source": [
        "### 4.1 Defining the architecture for LSTM Networks\n",
        "\n",
        "This is where you define the architecture for the LSTM Network. Ensure that you also handle the cases where you have to define a Bi-directional LSTM network. We will be reusing the data loader and training code from above, so all you need to do is complete the following class."
      ]
    },
    {
      "cell_type": "code",
      "execution_count": 68,
      "metadata": {
        "id": "1q7oqyrCP8fK"
      },
      "outputs": [],
      "source": [
        "import random as random\n",
        "from torch.nn.utils.rnn import pack_padded_sequence, pad_packed_sequence\n",
        "from torch.nn import LSTM, GRU\n",
        "\n",
        "class LSTM_Classifier(nn.Module):\n",
        "\n",
        "    def __init__(self,\n",
        "                 n_embed=20000,\n",
        "                 d_embed=300,\n",
        "                 d_hidden=150,\n",
        "                 d_out=2,\n",
        "                 embeddings=None,\n",
        "                 nl = 2,\n",
        "                 bidirectional = True\n",
        "                 ):\n",
        "        super(LSTM_Classifier, self).__init__()\n",
        "\n",
        "        self.d_hidden = d_hidden\n",
        "        self.bidrectional = bidirectional\n",
        "        self.num_layers = nl\n",
        "\n",
        "        self.device = torch.device('cuda' if torch.cuda.is_available() else 'cpu')\n",
        "        self.embed = create_emb_layer(embedding_matrix,False)\n",
        "        #### STUDENT CODE STARTS HERE ####\n",
        "        #Define your rnn based archecture here\n",
        "        self.lstm = nn.LSTM(d_embed, d_hidden, num_layers=nl, bidirectional=bidirectional)\n",
        "        self.out_layer = nn.Linear(d_hidden * (2 if bidirectional else 1), d_out)\n",
        "        #### STUDENT CODE ENDS HERE ####\n",
        "\n",
        "    def forward(self, text, mask, seq_lengths):\n",
        "\n",
        "        batch_size = text.size()[0]\n",
        "\n",
        "        #### STUDENT CODE STARTS HERE ####\n",
        "        #compute the forward pass,\n",
        "        #take care to extract the apporiate parts of the rnn computation based on the length of the sentences\n",
        "            # 将序列根据长度进行排序\n",
        "        x = self.embed(text.long())\n",
        "\n",
        "        sorted_seq_lengths, sort_order = seq_lengths.sort(descending=True)\n",
        "        x = x[sort_order]\n",
        "\n",
        "        # 使用 pack_padded_sequence 对输入进行填充\n",
        "        packed_input = pack_padded_sequence(x, sorted_seq_lengths.cpu(), batch_first=True)\n",
        "\n",
        "        # 将 packed_sequence 传递给 LSTM 层\n",
        "        packed_output, _ = self.lstm(packed_input)\n",
        "\n",
        "        # 使用 pad_packed_sequence 进行解填充\n",
        "        output, _ = pad_packed_sequence(packed_output, batch_first=True)\n",
        "\n",
        "        # 恢复原始顺序\n",
        "        _, unsort_order = sort_order.sort()\n",
        "        output = output[unsort_order]\n",
        "\n",
        "        # 提取最后一个时间步的输出作为分类结果\n",
        "        if self.bidrectional:\n",
        "            # 对于双向 LSTM，将前向和后向输出连接起来\n",
        "            forward_output = output[:, -1, :self.d_hidden]\n",
        "            backward_output = output[:, 0, self.d_hidden:]\n",
        "            output = torch.cat((forward_output, backward_output), dim=1)\n",
        "        else:\n",
        "            output = output[:, -1, :]\n",
        "\n",
        "        # 经过线性层进行分类\n",
        "        output = self.out_layer(output)\n",
        "\n",
        "        return output\n",
        "\n",
        "        #### STUDENT CODE ENDS HERE ####\n"
      ]
    },
    {
      "cell_type": "markdown",
      "metadata": {
        "id": "JmdzEvd2Nc2M"
      },
      "source": [
        "### 4.2 Training Loop"
      ]
    },
    {
      "cell_type": "code",
      "execution_count": 69,
      "metadata": {
        "id": "x7FkX-MDokS7"
      },
      "outputs": [
        {
          "name": "stdout",
          "output_type": "stream",
          "text": [
            "epoch |   %        |  loss  |  avg   |val loss|   acc   |  best  | time | save |\n",
            "val   |            |        |        | 0.6919 | 56.7646 | 56.7646 |      |      |\n",
            "    0 | 6400/98794 | 0.3325 | 0.4026 | 0.3720 | 82.4836 | 82.4836 | 0.06 | *    |\n",
            "    0 | 12800/98794 | 0.2897 | 0.3126 | 0.3993 | 82.0271 | 82.4836 | 0.12 | *    |\n",
            "    0 | 19200/98794 | 0.2480 | 0.2963 | 0.3424 | 84.5838 | 84.5838 | 0.19 | *    |\n",
            "    0 | 25600/98794 | 0.3387 | 0.2735 | 0.3228 | 85.1164 | 85.1164 | 0.25 | *    |\n",
            "    0 | 32000/98794 | 0.2374 | 0.2517 | 0.3077 | 86.3795 | 86.3795 | 0.31 | *    |\n",
            "    0 | 38400/98794 | 0.2109 | 0.2400 | 0.2912 | 86.0828 | 86.3795 | 0.38 | *    |\n",
            "    0 | 44800/98794 | 0.1655 | 0.2451 | 0.2801 | 87.2926 | 87.2926 | 0.44 | *    |\n",
            "    0 | 51200/98794 | 0.4984 | 0.2391 | 0.2864 | 86.8665 | 87.2926 | 0.50 | *    |\n",
            "    0 | 57600/98794 | 0.2079 | 0.2311 | 0.2975 | 86.2121 | 87.2926 | 0.57 | *    |\n",
            "    0 | 64000/98794 | 0.2875 | 0.2271 | 0.3230 | 86.2730 | 87.2926 | 0.63 | *    |\n",
            "    0 | 70400/98794 | 0.1733 | 0.2180 | 0.2882 | 87.0948 | 87.2926 | 0.69 | *    |\n",
            "    0 | 76800/98794 | 0.2249 | 0.2145 | 0.3118 | 86.6991 | 87.2926 | 0.76 | *    |\n",
            "    0 | 83200/98794 | 0.1614 | 0.2226 | 0.2879 | 87.3383 | 87.3383 | 0.82 | *    |\n",
            "    0 | 89600/98794 | 0.2485 | 0.2092 | 0.3069 | 86.6535 | 87.3383 | 0.88 | *    |\n",
            "    0 | 96000/98794 | 0.1984 | 0.2072 | 0.2760 | 87.0948 | 87.3383 | 0.95 | *    |\n",
            "    1 | 3584/98794 | 0.1817 | 0.0061 || 0.2758 | 87.1405 | 87.3383 | 1.01 | *    |\n",
            "    1 | 9984/98794 | 0.1547 | 0.1781 | 0.3152 | 86.3187 | 87.3383 | 1.07 | *    |\n",
            "    1 | 16384/98794 | 0.1209 | 0.1829 | 0.2995 | 87.0339 | 87.3383 | 1.13 | *    |\n",
            "    1 | 22784/98794 | 0.1800 | 0.1781 | 0.3379 | 86.6839 | 87.3383 | 1.19 | *    |\n",
            "    1 | 29184/98794 | 0.0674 | 0.1860 | 0.3724 | 85.5045 | 87.3383 | 1.26 | *    |\n",
            "    1 | 35584/98794 | 0.1714 | 0.1742 | 0.2979 | 87.5590 | 87.5590 | 1.32 | *    |\n",
            "    1 | 41984/98794 | 0.2592 | 0.1917 | 0.3110 | 86.6459 | 87.5590 | 1.38 | *    |\n",
            "    1 | 48384/98794 | 0.1578 | 0.1849 | 0.2820 | 86.8589 | 87.5590 | 1.43 | *    |\n",
            "    1 | 54784/98794 | 0.1499 | 0.1805 | 0.3104 | 87.1557 | 87.5590 | 1.46 | *    |\n",
            "    1 | 61184/98794 | 0.3525 | 0.1831 | 0.3143 | 86.3491 | 87.5590 | 1.51 | *    |\n",
            "    1 | 67584/98794 | 0.0883 | 0.1776 | 0.2972 | 87.5514 | 87.5590 | 1.57 | *    |\n",
            "    1 | 73984/98794 | 0.1613 | 0.1878 | 0.2866 | 87.2470 | 87.5590 | 1.63 | *    |\n",
            "    1 | 80384/98794 | 0.2275 | 0.1706 | 0.3154 | 86.2882 | 87.5590 | 1.69 | *    |\n",
            "    1 | 86784/98794 | 0.2595 | 0.1799 | 0.2948 | 86.5317 | 87.5590 | 1.76 | *    |\n",
            "    1 | 93184/98794 | 0.1541 | 0.1885 | 0.2984 | 86.4556 | 87.5590 | 1.82 | *    |\n",
            "    2 |  768/98794 | 0.2322 | 0.0007 || 0.2849 | 86.8970 | 87.5590 | 1.88 | *    |\n",
            "    2 | 7168/98794 | 0.1426 | 0.1492 | 0.3080 | 86.8057 | 87.5590 | 1.94 | *    |\n",
            "    2 | 13568/98794 | 0.1215 | 0.1656 | 0.2886 | 87.4677 | 87.5590 | 2.01 | *    |\n",
            "    2 | 19968/98794 | 0.1568 | 0.1546 | 0.2914 | 87.2242 | 87.5590 | 2.07 | *    |\n",
            "    2 | 26368/98794 | 0.0944 | 0.1586 | 0.2993 | 87.3383 | 87.5590 | 2.13 | *    |\n",
            "    2 | 32768/98794 | 0.1886 | 0.1603 | 0.2931 | 87.0187 | 87.5590 | 2.20 | *    |\n",
            "    2 | 39168/98794 | 0.2067 | 0.1639 | 0.2951 | 87.4448 | 87.5590 | 2.26 | *    |\n",
            "    2 | 45568/98794 | 0.1408 | 0.1574 | 0.2985 | 87.4677 | 87.5590 | 2.32 | *    |\n",
            "    2 | 51968/98794 | 0.1758 | 0.1514 | 0.3059 | 87.8405 | 87.8405 | 2.39 | *    |\n",
            "    2 | 58368/98794 | 0.1232 | 0.1563 | 0.3014 | 87.5133 | 87.8405 | 2.45 | *    |\n",
            "    2 | 64768/98794 | 0.1205 | 0.1651 | 0.3021 | 87.6198 | 87.8405 | 2.51 | *    |\n",
            "    2 | 71168/98794 | 0.2503 | 0.1674 | 0.3081 | 87.4296 | 87.8405 | 2.58 | *    |\n",
            "    2 | 77568/98794 | 0.1938 | 0.1637 | 0.3181 | 87.2774 | 87.8405 | 2.64 | *    |\n",
            "    2 | 83968/98794 | 0.1526 | 0.1626 | 0.3433 | 87.1481 | 87.8405 | 2.70 | *    |\n",
            "    2 | 90368/98794 | 0.2635 | 0.1663 | 0.3285 | 87.4905 | 87.8405 | 2.76 | *    |\n",
            "    2 | 96768/98794 | 0.1882 | 0.1738 | 0.3089 | 87.0872 | 87.8405 | 2.82 | *    |\n",
            "    2 | 98816/98794 | 0.1418 | 0.1659 |\n",
            "Validation Accuracy :  (87.84051133769594, 0.30594394)\n"
          ]
        }
      ],
      "source": [
        "torch.manual_seed(1234)\n",
        "criterion = nn.CrossEntropyLoss()\n",
        "batch_size = 64\n",
        "epochs = 3\n",
        "dev_every = 100\n",
        "lr = 0.01\n",
        "save_path = \"best_model\"\n",
        "drop_out = 0\n",
        "word_dropout = 0\n",
        "weight_decay = 0\n",
        "\n",
        "model = LSTM_Classifier(n_embed=n_embed, d_embed=d_embed, d_hidden=150, d_out=d_out)\n",
        "dev_value, test_y_pred = train(model, lr, drop_out, word_dropout, batch_size, weight_decay, \"LSTM\")"
      ]
    },
    {
      "cell_type": "code",
      "execution_count": 70,
      "metadata": {},
      "outputs": [
        {
          "name": "stdout",
          "output_type": "stream",
          "text": [
            "acc_dict: {13: {'n_correct': 270, 'n_total': 320}, 12: {'n_correct': 282, 'n_total': 339}, 11: {'n_correct': 297, 'n_total': 354}, 10: {'n_correct': 343, 'n_total': 400}, 3: {'n_correct': 998, 'n_total': 1120}, 2: {'n_correct': 1264, 'n_total': 1396}, 1: {'n_correct': 2820, 'n_total': 3043}, 7: {'n_correct': 490, 'n_total': 570}, 6: {'n_correct': 540, 'n_total': 639}, 5: {'n_correct': 698, 'n_total': 790}, 24: {'n_correct': 61, 'n_total': 76}, 23: {'n_correct': 77, 'n_total': 92}, 8: {'n_correct': 409, 'n_total': 493}, 4: {'n_correct': 766, 'n_total': 861}, 27: {'n_correct': 55, 'n_total': 68}, 26: {'n_correct': 59, 'n_total': 74}, 25: {'n_correct': 60, 'n_total': 77}, 17: {'n_correct': 166, 'n_total': 198}, 16: {'n_correct': 179, 'n_total': 225}, 30: {'n_correct': 44, 'n_total': 50}, 22: {'n_correct': 91, 'n_total': 101}, 21: {'n_correct': 109, 'n_total': 126}, 20: {'n_correct': 120, 'n_total': 142}, 19: {'n_correct': 132, 'n_total': 157}, 9: {'n_correct': 369, 'n_total': 438}, 14: {'n_correct': 226, 'n_total': 260}, 29: {'n_correct': 40, 'n_total': 50}, 15: {'n_correct': 203, 'n_total': 232}, 33: {'n_correct': 26, 'n_total': 33}, 32: {'n_correct': 32, 'n_total': 37}, 31: {'n_correct': 34, 'n_total': 43}, 18: {'n_correct': 143, 'n_total': 170}, 34: {'n_correct': 17, 'n_total': 21}, 37: {'n_correct': 12, 'n_total': 13}, 28: {'n_correct': 45, 'n_total': 57}, 40: {'n_correct': 32, 'n_total': 35}, 35: {'n_correct': 17, 'n_total': 18}, 39: {'n_correct': 4, 'n_total': 5}, 38: {'n_correct': 5, 'n_total': 6}, 36: {'n_correct': 11, 'n_total': 13}}\n",
            "acc_dict.len: 40\n"
          ]
        }
      ],
      "source": [
        "acc, val_loss, acc_dict2 = evaluate_by_work_len(dev_iter, model, device, \"LSTM\")"
      ]
    },
    {
      "cell_type": "code",
      "execution_count": 80,
      "metadata": {},
      "outputs": [
        {
          "data": {
            "image/png": "[encoded data removed]",
            "text/plain": [
              "<Figure size 432x288 with 1 Axes>"
            ]
          },
          "metadata": {
            "needs_background": "light"
          },
          "output_type": "display_data"
        }
      ],
      "source": [
        "import matplotlib.pyplot as plt\n",
        "\n",
        "\n",
        "sorted_data1 = {key: acc_dict1[key] for key in sorted(acc_dict1.keys())}\n",
        "sorted_data2 = {key: acc_dict2[key] for key in sorted(acc_dict2.keys())}\n",
        "\n",
        "# 提取排序后的键和值\n",
        "keys = list(sorted_data1.keys())\n",
        "values_n_correct = [sorted_data1[key]['n_correct'] for key in keys]\n",
        "values_n_total = [sorted_data1[key]['n_total'] for key in keys]\n",
        "\n",
        "# 计算 n_correct/n_total 的比例\n",
        "values1 = [correct / total for correct, total in zip(values_n_correct, values_n_total)]\n",
        "\n",
        "keys2 = list(sorted_data2.keys())\n",
        "values_n_correct2 = [sorted_data2[key]['n_correct'] for key in keys2]\n",
        "values_n_total2 = [sorted_data2[key]['n_total'] for key in keys2]\n",
        "\n",
        "values2 = [correct / total for correct, total in zip(values_n_correct2, values_n_total)]\n",
        "\n",
        "\n",
        "plt.plot(keys, values1, color='blue', linewidth=2.5, linestyle='-', label='DAN')\n",
        "plt.plot(keys, values2, color='red', linewidth=2.5, linestyle='-', label='LSTM')\n",
        "\n",
        "plt.legend(loc='upper left')\n",
        "plt.xlabel('len of Input')\n",
        "plt.ylabel('Accuracy')\n",
        "plt.title('Accuracy of LSTM and DAN')\n",
        "plt.grid(True)\n",
        "plt.show()\n"
      ]
    },
    {
      "cell_type": "markdown",
      "metadata": {
        "id": "Z7IF9SVAdear"
      },
      "source": [
        "### 4.3 Self Exploration\n",
        "\n",
        "Experiment with different types of RNN networks and see which one works the best for the task (Bidirectional LSTM, GRU, Simple RNN). You have to report the difference in performance between these in your report. You should also tune the hypeparamters (learning rate and batch size, hidden dimension size) and report which worked best. Illustrate your expermiments with in the form of a table (learning rate vs dev accuracy and batch size vs dev accuracy).\n",
        "\n",
        "After you have trained your RNN, evaluate it on our hidden test set. Your score is a linear function between 84 and 88 on the test set. Experiment with different configurations on the development set until you get at least 86 on the development set. Then verify it generalizes.\n",
        "\n",
        "---\n",
        "\n"
      ]
    },
    {
      "cell_type": "code",
      "execution_count": 72,
      "metadata": {
        "id": "dDMZ1ostVPbm"
      },
      "outputs": [
        {
          "name": "stdout",
          "output_type": "stream",
          "text": [
            "Correct! You earned 35/35 points. You are a star!\n",
            "\n",
            "Your submission has been successfully recorded in the gradebook.\n"
          ]
        }
      ],
      "source": [
        "#Do not modify this cell. This is the grading cell.\n",
        "grader.grade(test_case_id = 'test_rnn_predictions', answer = test_y_pred)"
      ]
    },
    {
      "cell_type": "markdown",
      "metadata": {
        "id": "Mdux7pslH21n"
      },
      "source": [
        "## 5.0 Report"
      ]
    },
    {
      "cell_type": "markdown",
      "metadata": {
        "id": "-a2lOUP7H5-Y"
      },
      "source": [
        "At this point, you should have built at least two types of models: an order agnostic model and at least two RNN based model. You will now need to experiment with different aspects of these models and discuss the results in your report. Go to the homework template, https://www.overleaf.com/read/sjtwwtnptzzx, make a copy of the latex file, and complete all sections and questions.\n"
      ]
    },
    {
      "cell_type": "markdown",
      "metadata": {
        "id": "JYPEaqwucLzl"
      },
      "source": [
        "## Submission:\n",
        "\n",
        "\n",
        "\n"
      ]
    },
    {
      "cell_type": "markdown",
      "metadata": {
        "id": "pcDVeSXHrwLg"
      },
      "source": [
        "These are the files you have to submit to gradescope\n",
        "\n",
        "1.   Report, with all sections answered\n",
        "2.   Download your jupyter notebook as a python file and submit it as \"homework3.ipynb\".\n",
        "\n",
        "\n"
      ]
    }
  ],
  "metadata": {
    "colab": {
      "provenance": [],
      "toc_visible": true
    },
    "kernelspec": {
      "display_name": "Python 3",
      "name": "python3"
    },
    "language_info": {
      "codemirror_mode": {
        "name": "ipython",
        "version": 3
      },
      "file_extension": ".py",
      "mimetype": "text/x-python",
      "name": "python",
      "nbconvert_exporter": "python",
      "pygments_lexer": "ipython3",
      "version": "3.7.11"
    }
  },
  "nbformat": 4,
  "nbformat_minor": 0
}
